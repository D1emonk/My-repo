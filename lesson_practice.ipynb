{
  "cells": [
    {
      "cell_type": "code",
      "source": [
        "new_variable = 1 # Не явная типизация\n",
        "print(new_variable) # Вывод текстовой информации"
      ],
      "metadata": {
        "colab": {
          "base_uri": "https://localhost:8080/"
        },
        "id": "uQElhbSBvzOL",
        "outputId": "e0ac1249-9bb9-423a-f4ef-f7692b987864"
      },
      "execution_count": null,
      "outputs": [
        {
          "output_type": "stream",
          "name": "stdout",
          "text": [
            "1\n"
          ]
        }
      ]
    },
    {
      "cell_type": "code",
      "source": [
        "new_variable: int = 1 # Явная типизация\n",
        "type(new_variable) # Определение типа объекта new_variable"
      ],
      "metadata": {
        "colab": {
          "base_uri": "https://localhost:8080/"
        },
        "id": "aQlucqKwK5ZU",
        "outputId": "9f86dc6a-46f3-4a8c-c796-850635af3303"
      },
      "execution_count": 2,
      "outputs": [
        {
          "output_type": "execute_result",
          "data": {
            "text/plain": [
              "int"
            ]
          },
          "metadata": {},
          "execution_count": 2
        }
      ]
    },
    {
      "cell_type": "code",
      "source": [
        "a = 'Hello'\n",
        "type(a) # Определение типа объекта а"
      ],
      "metadata": {
        "colab": {
          "base_uri": "https://localhost:8080/"
        },
        "id": "HjRYBAXUv6Gh",
        "outputId": "322b5782-1942-4181-95ba-46a84e8da890"
      },
      "execution_count": 1,
      "outputs": [
        {
          "output_type": "execute_result",
          "data": {
            "text/plain": [
              "str"
            ]
          },
          "metadata": {},
          "execution_count": 1
        }
      ]
    },
    {
      "cell_type": "code",
      "source": [
        "first_var = 51.2 # Тип данных float\n",
        "second_var = 5 # Тип данных int\n",
        "round(first_var) + second_var # Округление числа"
      ],
      "metadata": {
        "colab": {
          "base_uri": "https://localhost:8080/"
        },
        "id": "odZ95TPOOfbQ",
        "outputId": "a4a33672-b9f2-4f0c-8bf7-863835de0020"
      },
      "execution_count": 5,
      "outputs": [
        {
          "output_type": "execute_result",
          "data": {
            "text/plain": [
              "56"
            ]
          },
          "metadata": {},
          "execution_count": 5
        }
      ]
    },
    {
      "cell_type": "code",
      "source": [
        "d = {1: 1, True: 2, 1.0: 3} # ключи 1, True, и 1.0 будут считаться одинаковыми т.к. имеют одиннаковый хэш. При добавлении этих ключей словарь сохраняет только последний из них т.е. 3\n",
        "print(d)"
      ],
      "metadata": {
        "colab": {
          "base_uri": "https://localhost:8080/"
        },
        "id": "WaatiNgxeFmi",
        "outputId": "9193aa28-2508-4944-ad0c-affa1b8356be"
      },
      "execution_count": 4,
      "outputs": [
        {
          "output_type": "stream",
          "name": "stdout",
          "text": [
            "{1: 3}\n"
          ]
        }
      ]
    },
    {
      "cell_type": "code",
      "source": [
        "hash(True) # True хэшируется как целое число 1, так как в Python True эквивалентно 1, а False эквивалентно 0"
      ],
      "metadata": {
        "colab": {
          "base_uri": "https://localhost:8080/"
        },
        "id": "Dp-py_Iyg2WL",
        "outputId": "b98cfeba-bc79-4d89-d2da-75dca37a8ba0"
      },
      "execution_count": null,
      "outputs": [
        {
          "output_type": "execute_result",
          "data": {
            "text/plain": [
              "1"
            ]
          },
          "metadata": {},
          "execution_count": 5
        }
      ]
    },
    {
      "cell_type": "code",
      "source": [
        "# Калькулятор\n",
        "name = input('Что делаем? (+,-):')\n",
        "a = float(input(\"Введите первое число:\"))\n",
        "b = float(input(\"Введите второе число:\"))\n",
        "if name ==\"+\":\n",
        "    c = a + b\n",
        "    print(\"Результат: \" + str(c))\n",
        "elif name ==\"-\":\n",
        "    c = a - b\n",
        "    print(\"Результат: \" + str(c))\n",
        "else:\n",
        "    print(\"Выбрана не верная операция!\")"
      ],
      "metadata": {
        "id": "af1BwzKkg4sc",
        "colab": {
          "base_uri": "https://localhost:8080/"
        },
        "outputId": "9531aa7a-7d86-4bb5-8215-fa3506a3dbfa"
      },
      "execution_count": 8,
      "outputs": [
        {
          "output_type": "stream",
          "name": "stdout",
          "text": [
            "Что делаем? (+,-):-\n",
            "Введите первое число:2\n",
            "Введите второе число:5\n",
            "Результат: -3.0\n"
          ]
        }
      ]
    },
    {
      "cell_type": "markdown",
      "source": [
        "# Practical material for Lesson 2."
      ],
      "metadata": {
        "collapsed": false,
        "id": "3fl_8YpMLwfU"
      }
    },
    {
      "cell_type": "markdown",
      "source": [
        "## Basics"
      ],
      "metadata": {
        "collapsed": false,
        "id": "JdvjjxvjLwfW"
      }
    },
    {
      "cell_type": "markdown",
      "source": [
        "**Переменные объявляются при помощи следующей конструкции:**\n",
        "\n",
        "! При неявной типизации\n",
        "*наименование_переменной* = *её значение*\n",
        "\n",
        "! При явной типизации\n",
        "*наименование_переменной*: *тип переменной* = *ее значение соответствующего типа*"
      ],
      "metadata": {
        "collapsed": false,
        "id": "CBaAk8bCLwfW"
      }
    },
    {
      "cell_type": "code",
      "source": [
        "variable_1: float = 1.0\n",
        "type(variable_1)"
      ],
      "metadata": {
        "colab": {
          "base_uri": "https://localhost:8080/"
        },
        "id": "CQTMyuA-Xz_R",
        "outputId": "0b588e40-0e54-4b64-8e9e-0bf91fc0bcc7"
      },
      "execution_count": null,
      "outputs": [
        {
          "output_type": "execute_result",
          "data": {
            "text/plain": [
              "float"
            ]
          },
          "metadata": {},
          "execution_count": 3
        }
      ]
    },
    {
      "cell_type": "code",
      "source": [
        "another_float_var: float = 1.0\n",
        "type(another_float_var)"
      ],
      "metadata": {
        "colab": {
          "base_uri": "https://localhost:8080/"
        },
        "id": "8Zpl0zGWiQME",
        "outputId": "85943d96-3795-4641-9523-d05e9a55bdd2"
      },
      "execution_count": null,
      "outputs": [
        {
          "output_type": "execute_result",
          "data": {
            "text/plain": [
              "float"
            ]
          },
          "metadata": {},
          "execution_count": 11
        }
      ]
    },
    {
      "cell_type": "code",
      "execution_count": null,
      "outputs": [],
      "source": [
        "# Неявное указание типов\n",
        "integer_var = 1            # Integer\n",
        "float_var = 1.0            # Float\n",
        "string_var = \"Hello\"       # String\n",
        "\n",
        "# Явное указание типов\n",
        "another_float_var: float = 1.0"
      ],
      "metadata": {
        "id": "8nDUNMq4LwfX"
      }
    },
    {
      "cell_type": "code",
      "source": [
        "float_var = \"1.0\"\n",
        "type(float_var)"
      ],
      "metadata": {
        "colab": {
          "base_uri": "https://localhost:8080/"
        },
        "id": "56uTIv1V4Hgp",
        "outputId": "ca4a1cd1-3f7e-4f28-8068-2359b66a0458"
      },
      "execution_count": null,
      "outputs": [
        {
          "output_type": "execute_result",
          "data": {
            "text/plain": [
              "str"
            ]
          },
          "metadata": {},
          "execution_count": 12
        }
      ]
    },
    {
      "cell_type": "code",
      "source": [
        "second_var = '5'\n",
        "type(second_var)"
      ],
      "metadata": {
        "colab": {
          "base_uri": "https://localhost:8080/"
        },
        "id": "wIE1V_DyZAj2",
        "outputId": "e37881fd-a0c5-4b57-e0eb-96b177265451"
      },
      "execution_count": null,
      "outputs": [
        {
          "output_type": "execute_result",
          "data": {
            "text/plain": [
              "str"
            ]
          },
          "metadata": {},
          "execution_count": 5
        }
      ]
    },
    {
      "cell_type": "code",
      "source": [
        "first_var = '10.0'\n",
        "second_var = '5'\n",
        "# second_var = '5'\n",
        "\n",
        "second_var * 10"
      ],
      "metadata": {
        "id": "sig32T4O4kMb",
        "colab": {
          "base_uri": "https://localhost:8080/",
          "height": 35
        },
        "outputId": "0c7eb534-0b00-4950-fecd-b23b47cf04fb"
      },
      "execution_count": null,
      "outputs": [
        {
          "output_type": "execute_result",
          "data": {
            "text/plain": [
              "'5555555555'"
            ],
            "application/vnd.google.colaboratory.intrinsic+json": {
              "type": "string"
            }
          },
          "metadata": {},
          "execution_count": 11
        }
      ]
    },
    {
      "cell_type": "code",
      "execution_count": null,
      "outputs": [
        {
          "output_type": "error",
          "ename": "TypeError",
          "evalue": "unsupported operand type(s) for +: 'int' and 'str'",
          "traceback": [
            "\u001b[0;31m---------------------------------------------------------------------------\u001b[0m",
            "\u001b[0;31mTypeError\u001b[0m                                 Traceback (most recent call last)",
            "\u001b[0;32m<ipython-input-17-9dc04f907617>\u001b[0m in \u001b[0;36m<cell line: 6>\u001b[0;34m()\u001b[0m\n\u001b[1;32m      4\u001b[0m \u001b[0;34m\u001b[0m\u001b[0m\n\u001b[1;32m      5\u001b[0m \u001b[0;31m# Сложение\u001b[0m\u001b[0;34m\u001b[0m\u001b[0;34m\u001b[0m\u001b[0m\n\u001b[0;32m----> 6\u001b[0;31m \u001b[0mthird_var\u001b[0m \u001b[0;34m=\u001b[0m \u001b[0mfirst_var\u001b[0m \u001b[0;34m+\u001b[0m \u001b[0msecond_var\u001b[0m\u001b[0;34m\u001b[0m\u001b[0;34m\u001b[0m\u001b[0m\n\u001b[0m\u001b[1;32m      7\u001b[0m \u001b[0;34m\u001b[0m\u001b[0m\n\u001b[1;32m      8\u001b[0m \u001b[0;31m# Выводим на экран\u001b[0m\u001b[0;34m\u001b[0m\u001b[0;34m\u001b[0m\u001b[0m\n",
            "\u001b[0;31mTypeError\u001b[0m: unsupported operand type(s) for +: 'int' and 'str'"
          ]
        }
      ],
      "source": [
        "# Объявим переменные\n",
        "first_var = 10\n",
        "second_var = '5'\n",
        "\n",
        "# Сложение\n",
        "third_var = first_var + second_var\n",
        "\n",
        "# Выводим на экран\n",
        "## Первый способ (при помощи метода print)\n",
        "print(f\"Вывод из метода принт: {first_var} + {second_var} = {third_var}\")\n",
        "\n",
        "## Второй способ (при помощи прописывания в конце ячейки) ! не работает в .py скриптах\n",
        "f\"Вывод в конце ячейки: {first_var} + {second_var} = {third_var}\""
      ],
      "metadata": {
        "id": "9OJfXxvALwfY",
        "outputId": "0b1b6bb6-2ce2-45ce-b659-556e07e13a9a",
        "colab": {
          "base_uri": "https://localhost:8080/",
          "height": 216
        }
      }
    },
    {
      "cell_type": "code",
      "execution_count": null,
      "outputs": [
        {
          "data": {
            "text/plain": "15"
          },
          "execution_count": 27,
          "metadata": {},
          "output_type": "execute_result"
        }
      ],
      "source": [
        "# Переменные сохраняют значения от ячейки к ячейке\n",
        "third_var"
      ],
      "metadata": {
        "id": "kW8kFczHLwfZ",
        "outputId": "4498cec3-edc3-4d13-c426-86b49118f11c"
      }
    },
    {
      "cell_type": "code",
      "execution_count": null,
      "outputs": [
        {
          "name": "stdout",
          "output_type": "stream",
          "text": [
            "10 - 5 = 5\n",
            "10 * 5 = 50\n",
            "10 / 5 = 2.0\n",
            "10 // 7 = 1\n",
            "10 % 7 = 3\n",
            "10 ** 2 = 100\n"
          ]
        }
      ],
      "source": [
        "# Другие операции\n",
        "# Вычитание\n",
        "third_var = first_var - second_var\n",
        "print(f\"{first_var} - {second_var} = {third_var}\")\n",
        "\n",
        "# Умножение\n",
        "third_var = first_var * second_var\n",
        "print(f\"{first_var} * {second_var} = {third_var}\")\n",
        "\n",
        "# Деление\n",
        "third_var = first_var / second_var\n",
        "print(f\"{first_var} / {second_var} = {third_var}\")\n",
        "\n",
        "# Целочисленное деление (деление без остатка)\n",
        "third_var = first_var // 7\n",
        "print(f\"{first_var} // 7 = {third_var}\")\n",
        "\n",
        "# Деление по модулю (остаток от деления)\n",
        "third_var = first_var % 7\n",
        "print(f\"{first_var} % 7 = {third_var}\")\n",
        "\n",
        "# Возведение в степень\n",
        "third_var = first_var ** 2\n",
        "print(f\"{first_var} ** 2 = {third_var}\")"
      ],
      "metadata": {
        "id": "6-8RdVG-LwfZ",
        "outputId": "6aae367c-cf82-4e10-848f-246651518912"
      }
    },
    {
      "cell_type": "code",
      "source": [
        "a = 1\n",
        "b = 1.0\n",
        "type(a + b)"
      ],
      "metadata": {
        "id": "wOaiEiDM5puz",
        "colab": {
          "base_uri": "https://localhost:8080/"
        },
        "outputId": "9c153e3d-473b-4aa1-8069-cccebfd53a33"
      },
      "execution_count": null,
      "outputs": [
        {
          "output_type": "execute_result",
          "data": {
            "text/plain": [
              "float"
            ]
          },
          "metadata": {},
          "execution_count": 12
        }
      ]
    },
    {
      "cell_type": "code",
      "source": [
        "a = 1\n",
        "print(type(a))\n",
        "a = 1.2\n",
        "print(type(a))"
      ],
      "metadata": {
        "id": "LMCIbaNh6MaH",
        "colab": {
          "base_uri": "https://localhost:8080/"
        },
        "outputId": "c17cd5ea-3210-45b4-aae4-756e6e208a46"
      },
      "execution_count": null,
      "outputs": [
        {
          "output_type": "stream",
          "name": "stdout",
          "text": [
            "<class 'int'>\n",
            "<class 'float'>\n"
          ]
        }
      ]
    },
    {
      "cell_type": "code",
      "execution_count": null,
      "outputs": [
        {
          "name": "stdout",
          "output_type": "stream",
          "text": [
            "У third_var был тип: <class 'int'> и значение: 100\n",
            "У third_var теперь тип: <class 'str'> и значение: New String Value\n"
          ]
        }
      ],
      "source": [
        "# Переопределение\n",
        "print(f\"У third_var был тип: {type(third_var)} и значение: {third_var}\")\n",
        "\n",
        "third_var = \"New String Value\"\n",
        "\n",
        "print(f\"У third_var теперь тип: {type(third_var)} и значение: {third_var}\")"
      ],
      "metadata": {
        "id": "WIlOMVuoLwfZ",
        "outputId": "506729de-7880-4fce-a37c-35ad6e3ef89c"
      }
    },
    {
      "cell_type": "code",
      "execution_count": null,
      "outputs": [
        {
          "ename": "TypeError",
          "evalue": "unsupported operand type(s) for +: 'int' and 'str'",
          "output_type": "error",
          "traceback": [
            "\u001b[1;31m---------------------------------------------------------------------------\u001b[0m",
            "\u001b[1;31mTypeError\u001b[0m                                 Traceback (most recent call last)",
            "Cell \u001b[1;32mIn [30], line 2\u001b[0m\n\u001b[0;32m      1\u001b[0m \u001b[38;5;66;03m# Ошибка сложения типов\u001b[39;00m\n\u001b[1;32m----> 2\u001b[0m \u001b[43mfirst_var\u001b[49m\u001b[43m \u001b[49m\u001b[38;5;241;43m+\u001b[39;49m\u001b[43m \u001b[49m\u001b[43mthird_var\u001b[49m\n",
            "\u001b[1;31mTypeError\u001b[0m: unsupported operand type(s) for +: 'int' and 'str'"
          ]
        }
      ],
      "source": [
        "# Ошибка сложения типов\n",
        "first_var + third_var"
      ],
      "metadata": {
        "id": "tT5s9WoCLwfa",
        "outputId": "61e81cba-9761-4540-a83e-8b3dddc44aeb"
      }
    },
    {
      "cell_type": "code",
      "execution_count": null,
      "outputs": [
        {
          "name": "stdout",
          "output_type": "stream",
          "text": [
            "first_var типа: <class 'int'> и значения:10\n"
          ]
        },
        {
          "data": {
            "text/plain": "11.0"
          },
          "execution_count": 31,
          "metadata": {},
          "output_type": "execute_result"
        }
      ],
      "source": [
        "# Числовые типы можно складывать друг с другом\n",
        "print(f\"first_var типа: {type(first_var)} и значения:{first_var}\")\n",
        "\n",
        "first_var + float_var"
      ],
      "metadata": {
        "id": "uccttSYMLwfa",
        "outputId": "22218402-ef9e-4a5e-dbe3-95f9b64fa9fe"
      }
    },
    {
      "cell_type": "code",
      "source": [
        "val = 1\n",
        "val = val + 5\n",
        "val /= 5\n",
        "val"
      ],
      "metadata": {
        "id": "WYB5eifv7HgI",
        "colab": {
          "base_uri": "https://localhost:8080/"
        },
        "outputId": "4e702059-3541-48ec-d795-267c040ff741"
      },
      "execution_count": null,
      "outputs": [
        {
          "output_type": "execute_result",
          "data": {
            "text/plain": [
              "1.2"
            ]
          },
          "metadata": {},
          "execution_count": 23
        }
      ]
    },
    {
      "cell_type": "code",
      "execution_count": null,
      "outputs": [
        {
          "name": "stdout",
          "output_type": "stream",
          "text": [
            "second_var = 5\n"
          ]
        },
        {
          "data": {
            "text/plain": "15"
          },
          "execution_count": 35,
          "metadata": {},
          "output_type": "execute_result"
        }
      ],
      "source": [
        "# Математические операции совместно с присваиванием\n",
        "print(f\"second_var = {second_var}\")\n",
        "second_var += first_var\n",
        "second_var"
      ],
      "metadata": {
        "id": "KhjjqIg7Lwfa",
        "outputId": "003be451-1b79-4b96-aacd-eec177632981"
      }
    },
    {
      "cell_type": "code",
      "source": [
        "flag = True\n",
        "False / False"
      ],
      "metadata": {
        "colab": {
          "base_uri": "https://localhost:8080/",
          "height": 197
        },
        "id": "J9DsIa747qHh",
        "outputId": "7ad70658-8aa1-4c72-860e-407f7c65417c"
      },
      "execution_count": null,
      "outputs": [
        {
          "output_type": "error",
          "ename": "ZeroDivisionError",
          "evalue": "division by zero",
          "traceback": [
            "\u001b[0;31m---------------------------------------------------------------------------\u001b[0m",
            "\u001b[0;31mZeroDivisionError\u001b[0m                         Traceback (most recent call last)",
            "\u001b[0;32m<ipython-input-21-756c31bde99d>\u001b[0m in \u001b[0;36m<cell line: 2>\u001b[0;34m()\u001b[0m\n\u001b[1;32m      1\u001b[0m \u001b[0mflag\u001b[0m \u001b[0;34m=\u001b[0m \u001b[0;32mTrue\u001b[0m\u001b[0;34m\u001b[0m\u001b[0;34m\u001b[0m\u001b[0m\n\u001b[0;32m----> 2\u001b[0;31m \u001b[0;32mFalse\u001b[0m \u001b[0;34m/\u001b[0m \u001b[0;32mFalse\u001b[0m\u001b[0;34m\u001b[0m\u001b[0;34m\u001b[0m\u001b[0m\n\u001b[0m",
            "\u001b[0;31mZeroDivisionError\u001b[0m: division by zero"
          ]
        }
      ]
    },
    {
      "cell_type": "code",
      "source": [
        "bool_var = 1\n",
        "type(bool_var)"
      ],
      "metadata": {
        "colab": {
          "base_uri": "https://localhost:8080/"
        },
        "id": "fzTpfrxBbL1i",
        "outputId": "95a1d194-3450-446f-8e22-eab9ef22cbc2"
      },
      "execution_count": null,
      "outputs": [
        {
          "output_type": "execute_result",
          "data": {
            "text/plain": [
              "int"
            ]
          },
          "metadata": {},
          "execution_count": 16
        }
      ]
    },
    {
      "cell_type": "code",
      "execution_count": null,
      "outputs": [],
      "source": [
        "# Другие типы\n",
        "bool_var = False                                # Логический тип (True или False)\n",
        "\n",
        "# Списки\n",
        "variables_list_v1 = [1, 2, 3]                   # Список, состоящий из переменных типа int\n",
        "variables_list_v2 = [\"a\", \"b\", \"c\"]             # Список, состоящий из переменных типы str\n",
        "variables_list_v3 = [1, \"a\", 2.0]               # Список, состоящий из переменных разных типов\n",
        "\n",
        "# Словари\n",
        "variables_dict: dict = {\"First Key\": 1, \"Second Key\": 2}\n",
        "\n",
        "# Тюплы\n",
        "variables_tuple_v1: tuple = (1, 2, 3)           # Тюпл, состоящий из переменных типа int\n",
        "variables_tuple_v2: tuple = (\"a\", \"b\", \"c\")     # Тюпл, состоящий из переменных типы str\n",
        "variables_tuple_v3: tuple = (1, \"a\", 2.0)       # Тюпл, состоящий из переменных разных типов\n",
        "\n",
        "# Сеты\n",
        "variables_set_v1: set = {1, 2, 3}               # Сет, состоящий из переменных типа int\n",
        "variables_set_v2: set = {\"a\", \"b\", \"c\"}         # Сет, состоящий из переменных типы str\n",
        "variables_set_v3: set = {1, \"a\", 2.0}           # Сет, состоящий из переменных разных типов"
      ],
      "metadata": {
        "id": "pA5Gmyq2Lwfa"
      }
    },
    {
      "cell_type": "code",
      "source": [
        "a = 1\n",
        "a = 2\n",
        "a"
      ],
      "metadata": {
        "id": "lneVu0QknTry",
        "colab": {
          "base_uri": "https://localhost:8080/"
        },
        "outputId": "7efbc33d-bd61-4ec0-b982-6bc8444fd4dd"
      },
      "execution_count": null,
      "outputs": [
        {
          "output_type": "execute_result",
          "data": {
            "text/plain": [
              "2"
            ]
          },
          "metadata": {},
          "execution_count": 26
        }
      ]
    },
    {
      "cell_type": "code",
      "execution_count": null,
      "outputs": [
        {
          "output_type": "error",
          "ename": "AttributeError",
          "evalue": "'tuple' object has no attribute 'append'",
          "traceback": [
            "\u001b[0;31m---------------------------------------------------------------------------\u001b[0m",
            "\u001b[0;31mAttributeError\u001b[0m                            Traceback (most recent call last)",
            "\u001b[0;32m<ipython-input-29-47ccc4e5fc88>\u001b[0m in \u001b[0;36m<cell line: 3>\u001b[0;34m()\u001b[0m\n\u001b[1;32m      1\u001b[0m \u001b[0mlst\u001b[0m \u001b[0;34m=\u001b[0m \u001b[0;34m[\u001b[0m\u001b[0;36m1\u001b[0m\u001b[0;34m,\u001b[0m \u001b[0;36m2\u001b[0m\u001b[0;34m,\u001b[0m \u001b[0;36m2\u001b[0m\u001b[0;34m,\u001b[0m \u001b[0;36m3\u001b[0m\u001b[0;34m,\u001b[0m \u001b[0;36m4\u001b[0m\u001b[0;34m,\u001b[0m \u001b[0;36m5\u001b[0m\u001b[0;34m]\u001b[0m\u001b[0;34m\u001b[0m\u001b[0;34m\u001b[0m\u001b[0m\n\u001b[1;32m      2\u001b[0m \u001b[0mlst2\u001b[0m \u001b[0;34m=\u001b[0m \u001b[0mtuple\u001b[0m\u001b[0;34m(\u001b[0m\u001b[0mlst\u001b[0m\u001b[0;34m)\u001b[0m\u001b[0;34m\u001b[0m\u001b[0;34m\u001b[0m\u001b[0m\n\u001b[0;32m----> 3\u001b[0;31m \u001b[0mlst2\u001b[0m\u001b[0;34m.\u001b[0m\u001b[0mappend\u001b[0m\u001b[0;34m(\u001b[0m\u001b[0;36m10\u001b[0m\u001b[0;34m)\u001b[0m\u001b[0;34m\u001b[0m\u001b[0;34m\u001b[0m\u001b[0m\n\u001b[0m\u001b[1;32m      4\u001b[0m \u001b[0mlst2\u001b[0m\u001b[0;34m\u001b[0m\u001b[0;34m\u001b[0m\u001b[0m\n",
            "\u001b[0;31mAttributeError\u001b[0m: 'tuple' object has no attribute 'append'"
          ]
        }
      ],
      "source": [
        "lst = [1, 2, 2, 3, 4, 5]\n",
        "lst2 = tuple(lst)\n",
        "lst2.append(10)\n",
        "lst2"
      ],
      "metadata": {
        "id": "rH16pwgsLwfa",
        "colab": {
          "base_uri": "https://localhost:8080/",
          "height": 198
        },
        "outputId": "bc3fa9ba-de74-42d3-e446-76f4194fc489"
      }
    },
    {
      "cell_type": "code",
      "source": [
        "lst.append(10)\n",
        "lst"
      ],
      "metadata": {
        "colab": {
          "base_uri": "https://localhost:8080/"
        },
        "id": "KwycQ9mN9NMi",
        "outputId": "e7023211-7088-4a37-bf52-cf6ec2737376"
      },
      "execution_count": null,
      "outputs": [
        {
          "output_type": "execute_result",
          "data": {
            "text/plain": [
              "[1, 2, 2, 3, 4, 5, 10]"
            ]
          },
          "metadata": {},
          "execution_count": 25
        }
      ]
    },
    {
      "cell_type": "code",
      "source": [
        "variables_tuple_v1: tuple = (3, 2, 1)\n",
        "variables_tuple_v1"
      ],
      "metadata": {
        "colab": {
          "base_uri": "https://localhost:8080/"
        },
        "id": "hhM3FdJu9FaW",
        "outputId": "52c1c2da-0eac-4dc8-a709-05b673bbdc83"
      },
      "execution_count": null,
      "outputs": [
        {
          "output_type": "execute_result",
          "data": {
            "text/plain": [
              "(3, 2, 1)"
            ]
          },
          "metadata": {},
          "execution_count": 24
        }
      ]
    },
    {
      "cell_type": "code",
      "source": [
        "set(lst)"
      ],
      "metadata": {
        "colab": {
          "base_uri": "https://localhost:8080/"
        },
        "id": "Fi2p__2s856T",
        "outputId": "21b5b482-cb97-42ef-f784-1801d4975307"
      },
      "execution_count": null,
      "outputs": [
        {
          "output_type": "execute_result",
          "data": {
            "text/plain": [
              "{1, 2, 3, 4, 5}"
            ]
          },
          "metadata": {},
          "execution_count": 23
        }
      ]
    }
  ],
  "metadata": {
    "kernelspec": {
      "display_name": "Python 3",
      "language": "python",
      "name": "python3"
    },
    "language_info": {
      "codemirror_mode": {
        "name": "ipython",
        "version": 2
      },
      "file_extension": ".py",
      "mimetype": "text/x-python",
      "name": "python",
      "nbconvert_exporter": "python",
      "pygments_lexer": "ipython2",
      "version": "2.7.6"
    },
    "colab": {
      "provenance": []
    }
  },
  "nbformat": 4,
  "nbformat_minor": 0
}