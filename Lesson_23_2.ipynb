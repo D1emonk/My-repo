{
 "cells": [
  {
   "cell_type": "code",
   "execution_count": 2,
   "id": "a20dd38a-53c7-4767-adaf-087c1575cf26",
   "metadata": {},
   "outputs": [
    {
     "name": "stdout",
     "output_type": "stream",
     "text": [
      "Requirement already satisfied: torch in d:\\anaconda\\lib\\site-packages (2.6.0)\n",
      "Requirement already satisfied: torchvision in d:\\anaconda\\lib\\site-packages (0.21.0)\n",
      "Requirement already satisfied: torchaudio in d:\\anaconda\\lib\\site-packages (2.6.0)\n",
      "Requirement already satisfied: filelock in d:\\anaconda\\lib\\site-packages (from torch) (3.13.1)\n",
      "Requirement already satisfied: typing-extensions>=4.10.0 in d:\\anaconda\\lib\\site-packages (from torch) (4.11.0)\n",
      "Requirement already satisfied: networkx in d:\\anaconda\\lib\\site-packages (from torch) (3.3)\n",
      "Requirement already satisfied: jinja2 in d:\\anaconda\\lib\\site-packages (from torch) (3.1.4)\n",
      "Requirement already satisfied: fsspec in d:\\anaconda\\lib\\site-packages (from torch) (2024.6.1)\n",
      "Requirement already satisfied: setuptools in d:\\anaconda\\lib\\site-packages (from torch) (75.1.0)\n",
      "Requirement already satisfied: sympy==1.13.1 in d:\\anaconda\\lib\\site-packages (from torch) (1.13.1)\n",
      "Requirement already satisfied: mpmath<1.4,>=1.1.0 in d:\\anaconda\\lib\\site-packages (from sympy==1.13.1->torch) (1.3.0)\n",
      "Requirement already satisfied: numpy in d:\\anaconda\\lib\\site-packages (from torchvision) (1.26.4)\n",
      "Requirement already satisfied: pillow!=8.3.*,>=5.3.0 in d:\\anaconda\\lib\\site-packages (from torchvision) (10.4.0)\n",
      "Requirement already satisfied: MarkupSafe>=2.0 in d:\\anaconda\\lib\\site-packages (from jinja2->torch) (2.1.3)\n"
     ]
    }
   ],
   "source": [
    "!pip install torch torchvision torchaudio"
   ]
  },
  {
   "cell_type": "code",
   "execution_count": 6,
   "id": "4b9cdc0a-8adc-430e-9a17-dc4680ed7643",
   "metadata": {},
   "outputs": [
    {
     "name": "stdout",
     "output_type": "stream",
     "text": [
      "Collecting xgboost\n",
      "  Downloading xgboost-3.0.0-py3-none-win_amd64.whl.metadata (2.1 kB)\n",
      "Requirement already satisfied: numpy in d:\\anaconda\\lib\\site-packages (from xgboost) (1.26.4)\n",
      "Requirement already satisfied: scipy in d:\\anaconda\\lib\\site-packages (from xgboost) (1.13.1)\n",
      "Downloading xgboost-3.0.0-py3-none-win_amd64.whl (150.0 MB)\n",
      "   ---------------------------------------- 0.0/150.0 MB ? eta -:--:--\n",
      "   ---------------------------------------- 0.0/150.0 MB ? eta -:--:--\n",
      "   ---------------------------------------- 0.0/150.0 MB ? eta -:--:--\n",
      "   ---------------------------------------- 0.5/150.0 MB 1.7 MB/s eta 0:01:29\n",
      "   ---------------------------------------- 1.0/150.0 MB 2.3 MB/s eta 0:01:06\n",
      "    --------------------------------------- 2.4/150.0 MB 3.9 MB/s eta 0:00:38\n",
      "   - -------------------------------------- 5.0/150.0 MB 6.2 MB/s eta 0:00:24\n",
      "   -- ------------------------------------- 8.7/150.0 MB 8.4 MB/s eta 0:00:17\n",
      "   --- ------------------------------------ 12.8/150.0 MB 11.2 MB/s eta 0:00:13\n",
      "   --- ------------------------------------ 12.8/150.0 MB 11.2 MB/s eta 0:00:13\n",
      "   --- ------------------------------------ 12.8/150.0 MB 11.2 MB/s eta 0:00:13\n",
      "   ------ --------------------------------- 23.9/150.0 MB 14.2 MB/s eta 0:00:09\n",
      "   -------- ------------------------------- 30.7/150.0 MB 15.1 MB/s eta 0:00:08\n",
      "   -------- ------------------------------- 32.0/150.0 MB 15.4 MB/s eta 0:00:08\n",
      "   -------- ------------------------------- 32.8/150.0 MB 13.6 MB/s eta 0:00:09\n",
      "   -------- ------------------------------- 32.8/150.0 MB 13.6 MB/s eta 0:00:09\n",
      "   ----------- ---------------------------- 43.8/150.0 MB 15.3 MB/s eta 0:00:07\n",
      "   ------------ --------------------------- 46.1/150.0 MB 15.0 MB/s eta 0:00:07\n",
      "   ------------ --------------------------- 48.5/150.0 MB 14.8 MB/s eta 0:00:07\n",
      "   ------------- -------------------------- 51.1/150.0 MB 14.6 MB/s eta 0:00:07\n",
      "   -------------- ------------------------- 53.7/150.0 MB 14.6 MB/s eta 0:00:07\n",
      "   --------------- ------------------------ 56.6/150.0 MB 14.5 MB/s eta 0:00:07\n",
      "   --------------- ------------------------ 59.5/150.0 MB 14.4 MB/s eta 0:00:07\n",
      "   ---------------- ----------------------- 62.4/150.0 MB 14.5 MB/s eta 0:00:07\n",
      "   ----------------- ---------------------- 65.5/150.0 MB 14.5 MB/s eta 0:00:06\n",
      "   ------------------ --------------------- 68.7/150.0 MB 14.5 MB/s eta 0:00:06\n",
      "   ------------------- -------------------- 71.8/150.0 MB 14.6 MB/s eta 0:00:06\n",
      "   -------------------- ------------------- 75.5/150.0 MB 14.6 MB/s eta 0:00:06\n",
      "   --------------------- ------------------ 79.2/150.0 MB 14.8 MB/s eta 0:00:05\n",
      "   ---------------------- ----------------- 82.8/150.0 MB 14.9 MB/s eta 0:00:05\n",
      "   ----------------------- ---------------- 86.8/150.0 MB 15.0 MB/s eta 0:00:05\n",
      "   ------------------------ --------------- 90.4/150.0 MB 15.1 MB/s eta 0:00:04\n",
      "   ------------------------- -------------- 94.4/150.0 MB 15.2 MB/s eta 0:00:04\n",
      "   -------------------------- ------------- 98.6/150.0 MB 15.4 MB/s eta 0:00:04\n",
      "   -------------------------- ------------ 102.5/150.0 MB 15.5 MB/s eta 0:00:04\n",
      "   --------------------------- ----------- 107.0/150.0 MB 15.6 MB/s eta 0:00:03\n",
      "   ---------------------------- ---------- 110.9/150.0 MB 15.8 MB/s eta 0:00:03\n",
      "   ----------------------------- --------- 115.3/150.0 MB 15.9 MB/s eta 0:00:03\n",
      "   ------------------------------- ------- 119.5/150.0 MB 16.1 MB/s eta 0:00:02\n",
      "   -------------------------------- ------ 124.3/150.0 MB 16.2 MB/s eta 0:00:02\n",
      "   --------------------------------- ----- 128.7/150.0 MB 16.4 MB/s eta 0:00:02\n",
      "   ---------------------------------- ---- 133.7/150.0 MB 16.6 MB/s eta 0:00:01\n",
      "   ----------------------------------- --- 138.4/150.0 MB 16.7 MB/s eta 0:00:01\n",
      "   ------------------------------------- - 143.4/150.0 MB 16.9 MB/s eta 0:00:01\n",
      "   --------------------------------------  148.1/150.0 MB 17.0 MB/s eta 0:00:01\n",
      "   --------------------------------------  149.9/150.0 MB 17.1 MB/s eta 0:00:01\n",
      "   --------------------------------------- 150.0/150.0 MB 16.7 MB/s eta 0:00:00\n",
      "Installing collected packages: xgboost\n",
      "Successfully installed xgboost-3.0.0\n"
     ]
    }
   ],
   "source": [
    "!pip install xgboost"
   ]
  },
  {
   "cell_type": "code",
   "execution_count": 20,
   "id": "d3a1108b-e463-4a44-92e4-6fc2e479a74c",
   "metadata": {},
   "outputs": [],
   "source": [
    "import numpy as np\n",
    "from sklearn.model_selection import train_test_split\n",
    "from sklearn.preprocessing import StandardScaler\n",
    "import torch\n",
    "import torch.nn as nn\n",
    "import torch.optim as optim\n",
    "from torch.utils.tensorboard import SummaryWriter\n",
    "import xgboost as xgb\n",
    "import pandas as pd"
   ]
  },
  {
   "cell_type": "code",
   "execution_count": 22,
   "id": "8bb00300-e193-456a-aba2-0d9cfa52614a",
   "metadata": {},
   "outputs": [],
   "source": [
    "df = pd.read_csv('C:\\\\Users\\\\user\\\\Downloads\\\\ParisHousing.csv', encoding='ISO-8859-1', low_memory=False)\n",
    "Session = sessionmaker(bind=engine)\n",
    "session = Session()"
   ]
  },
  {
   "cell_type": "code",
   "execution_count": 120,
   "id": "8c1be3d4-c75e-47c5-b875-706992e07adb",
   "metadata": {},
   "outputs": [
    {
     "data": {
      "text/html": [
       "<div>\n",
       "<style scoped>\n",
       "    .dataframe tbody tr th:only-of-type {\n",
       "        vertical-align: middle;\n",
       "    }\n",
       "\n",
       "    .dataframe tbody tr th {\n",
       "        vertical-align: top;\n",
       "    }\n",
       "\n",
       "    .dataframe thead th {\n",
       "        text-align: right;\n",
       "    }\n",
       "</style>\n",
       "<table border=\"1\" class=\"dataframe\">\n",
       "  <thead>\n",
       "    <tr style=\"text-align: right;\">\n",
       "      <th></th>\n",
       "      <th>squareMeters</th>\n",
       "      <th>numberOfRooms</th>\n",
       "      <th>hasYard</th>\n",
       "      <th>hasPool</th>\n",
       "      <th>floors</th>\n",
       "      <th>cityCode</th>\n",
       "      <th>cityPartRange</th>\n",
       "      <th>numPrevOwners</th>\n",
       "      <th>made</th>\n",
       "      <th>isNewBuilt</th>\n",
       "      <th>hasStormProtector</th>\n",
       "      <th>basement</th>\n",
       "      <th>attic</th>\n",
       "      <th>garage</th>\n",
       "      <th>hasStorageRoom</th>\n",
       "      <th>hasGuestRoom</th>\n",
       "      <th>price</th>\n",
       "    </tr>\n",
       "  </thead>\n",
       "  <tbody>\n",
       "    <tr>\n",
       "      <th>0</th>\n",
       "      <td>75523</td>\n",
       "      <td>3</td>\n",
       "      <td>0</td>\n",
       "      <td>1</td>\n",
       "      <td>63</td>\n",
       "      <td>9373</td>\n",
       "      <td>3</td>\n",
       "      <td>8</td>\n",
       "      <td>2005</td>\n",
       "      <td>0</td>\n",
       "      <td>1</td>\n",
       "      <td>4313</td>\n",
       "      <td>9005</td>\n",
       "      <td>956</td>\n",
       "      <td>0</td>\n",
       "      <td>7</td>\n",
       "      <td>7559081.5</td>\n",
       "    </tr>\n",
       "    <tr>\n",
       "      <th>1</th>\n",
       "      <td>80771</td>\n",
       "      <td>39</td>\n",
       "      <td>1</td>\n",
       "      <td>1</td>\n",
       "      <td>98</td>\n",
       "      <td>39381</td>\n",
       "      <td>8</td>\n",
       "      <td>6</td>\n",
       "      <td>2015</td>\n",
       "      <td>1</td>\n",
       "      <td>0</td>\n",
       "      <td>3653</td>\n",
       "      <td>2436</td>\n",
       "      <td>128</td>\n",
       "      <td>1</td>\n",
       "      <td>2</td>\n",
       "      <td>8085989.5</td>\n",
       "    </tr>\n",
       "    <tr>\n",
       "      <th>2</th>\n",
       "      <td>55712</td>\n",
       "      <td>58</td>\n",
       "      <td>0</td>\n",
       "      <td>1</td>\n",
       "      <td>19</td>\n",
       "      <td>34457</td>\n",
       "      <td>6</td>\n",
       "      <td>8</td>\n",
       "      <td>2021</td>\n",
       "      <td>0</td>\n",
       "      <td>0</td>\n",
       "      <td>2937</td>\n",
       "      <td>8852</td>\n",
       "      <td>135</td>\n",
       "      <td>1</td>\n",
       "      <td>9</td>\n",
       "      <td>5574642.1</td>\n",
       "    </tr>\n",
       "    <tr>\n",
       "      <th>3</th>\n",
       "      <td>32316</td>\n",
       "      <td>47</td>\n",
       "      <td>0</td>\n",
       "      <td>0</td>\n",
       "      <td>6</td>\n",
       "      <td>27939</td>\n",
       "      <td>10</td>\n",
       "      <td>4</td>\n",
       "      <td>2012</td>\n",
       "      <td>0</td>\n",
       "      <td>1</td>\n",
       "      <td>659</td>\n",
       "      <td>7141</td>\n",
       "      <td>359</td>\n",
       "      <td>0</td>\n",
       "      <td>3</td>\n",
       "      <td>3232561.2</td>\n",
       "    </tr>\n",
       "    <tr>\n",
       "      <th>4</th>\n",
       "      <td>70429</td>\n",
       "      <td>19</td>\n",
       "      <td>1</td>\n",
       "      <td>1</td>\n",
       "      <td>90</td>\n",
       "      <td>38045</td>\n",
       "      <td>3</td>\n",
       "      <td>7</td>\n",
       "      <td>1990</td>\n",
       "      <td>1</td>\n",
       "      <td>0</td>\n",
       "      <td>8435</td>\n",
       "      <td>2429</td>\n",
       "      <td>292</td>\n",
       "      <td>1</td>\n",
       "      <td>4</td>\n",
       "      <td>7055052.0</td>\n",
       "    </tr>\n",
       "  </tbody>\n",
       "</table>\n",
       "</div>"
      ],
      "text/plain": [
       "   squareMeters  numberOfRooms  hasYard  hasPool  floors  cityCode  \\\n",
       "0         75523              3        0        1      63      9373   \n",
       "1         80771             39        1        1      98     39381   \n",
       "2         55712             58        0        1      19     34457   \n",
       "3         32316             47        0        0       6     27939   \n",
       "4         70429             19        1        1      90     38045   \n",
       "\n",
       "   cityPartRange  numPrevOwners  made  isNewBuilt  hasStormProtector  \\\n",
       "0              3              8  2005           0                  1   \n",
       "1              8              6  2015           1                  0   \n",
       "2              6              8  2021           0                  0   \n",
       "3             10              4  2012           0                  1   \n",
       "4              3              7  1990           1                  0   \n",
       "\n",
       "   basement  attic  garage  hasStorageRoom  hasGuestRoom      price  \n",
       "0      4313   9005     956               0             7  7559081.5  \n",
       "1      3653   2436     128               1             2  8085989.5  \n",
       "2      2937   8852     135               1             9  5574642.1  \n",
       "3       659   7141     359               0             3  3232561.2  \n",
       "4      8435   2429     292               1             4  7055052.0  "
      ]
     },
     "execution_count": 120,
     "metadata": {},
     "output_type": "execute_result"
    }
   ],
   "source": [
    "df.head()"
   ]
  },
  {
   "cell_type": "code",
   "execution_count": 122,
   "id": "e2bc3ba4-0d64-4339-8bb7-f976b3ba0dc0",
   "metadata": {},
   "outputs": [
    {
     "name": "stdout",
     "output_type": "stream",
     "text": [
      "<class 'pandas.core.frame.DataFrame'>\n",
      "RangeIndex: 10000 entries, 0 to 9999\n",
      "Data columns (total 17 columns):\n",
      " #   Column             Non-Null Count  Dtype  \n",
      "---  ------             --------------  -----  \n",
      " 0   squareMeters       10000 non-null  int64  \n",
      " 1   numberOfRooms      10000 non-null  int64  \n",
      " 2   hasYard            10000 non-null  int64  \n",
      " 3   hasPool            10000 non-null  int64  \n",
      " 4   floors             10000 non-null  int64  \n",
      " 5   cityCode           10000 non-null  int64  \n",
      " 6   cityPartRange      10000 non-null  int64  \n",
      " 7   numPrevOwners      10000 non-null  int64  \n",
      " 8   made               10000 non-null  int64  \n",
      " 9   isNewBuilt         10000 non-null  int64  \n",
      " 10  hasStormProtector  10000 non-null  int64  \n",
      " 11  basement           10000 non-null  int64  \n",
      " 12  attic              10000 non-null  int64  \n",
      " 13  garage             10000 non-null  int64  \n",
      " 14  hasStorageRoom     10000 non-null  int64  \n",
      " 15  hasGuestRoom       10000 non-null  int64  \n",
      " 16  price              10000 non-null  float64\n",
      "dtypes: float64(1), int64(16)\n",
      "memory usage: 1.3 MB\n"
     ]
    }
   ],
   "source": [
    "df.info()"
   ]
  },
  {
   "cell_type": "code",
   "execution_count": 118,
   "id": "1784559d-510f-41ea-99ed-d0d6234e0c7c",
   "metadata": {},
   "outputs": [
    {
     "data": {
      "text/plain": [
       "4993447.52575"
      ]
     },
     "execution_count": 118,
     "metadata": {},
     "output_type": "execute_result"
    }
   ],
   "source": [
    "# Средняя цена на жилье\n",
    "average_price = y.mean()\n",
    "average_price"
   ]
  },
  {
   "cell_type": "code",
   "execution_count": 18,
   "id": "93e2df08-5f65-4cce-b70a-90eb5e996104",
   "metadata": {},
   "outputs": [],
   "source": [
    "# Выделение признаков и целевой переменной\n",
    "X = df.drop(columns='price')\n",
    "y = df['price']"
   ]
  },
  {
   "cell_type": "code",
   "execution_count": 24,
   "id": "29f6c393-da70-4514-a039-fa0a3cc3cbe3",
   "metadata": {},
   "outputs": [],
   "source": [
    "# Разделение на обучающую и тестовую выборки\n",
    "X_train, X_test, y_train, y_test = train_test_split(X, y, test_size=0.2, random_state=42)"
   ]
  },
  {
   "cell_type": "code",
   "execution_count": 26,
   "id": "645f6116-3999-4a89-9b42-8a5fbb5658ea",
   "metadata": {},
   "outputs": [
    {
     "data": {
      "text/plain": [
       "(array([[ 1.1189976 ,  0.22279829, -1.01460667,  1.00652126, -1.66466359,\n",
       "          0.10022454,  0.51428242, -1.57845239, -1.66971495, -0.99476371,\n",
       "         -0.99850112,  0.39946723,  1.70579207,  0.70692003,  1.00025003,\n",
       "         -0.93962897],\n",
       "        [ 1.02094519,  1.2987203 , -1.01460667, -0.99352099,  0.99630997,\n",
       "          0.97939221,  0.51428242,  0.16916983, -1.56238092,  1.00526385,\n",
       "          1.00150113,  0.302882  ,  0.35353226,  0.72979271, -0.99975003,\n",
       "         -0.62348178],\n",
       "        [ 0.99548658,  0.70869855,  0.98560362,  1.00652126,  1.58379764,\n",
       "         -0.36777924,  1.55727534,  1.5672676 , -1.66971495,  1.00526385,\n",
       "          1.00150113, -0.17900188, -0.9949339 , -0.84460972,  1.00025003,\n",
       "          0.32495979],\n",
       "        [-1.18537417, -0.88783089,  0.98560362, -0.99352099,  0.16691561,\n",
       "         -1.13644986, -1.57170341,  0.51869427,  0.1549635 , -0.99476371,\n",
       "          1.00150113,  1.1492188 , -1.19910065,  1.17580986,  1.00025003,\n",
       "          0.95725417],\n",
       "        [-1.62440385,  0.29221261, -1.01460667, -0.99352099,  1.54923954,\n",
       "         -0.497615  ,  0.16661812,  0.16916983, -0.16703858,  1.00526385,\n",
       "          1.00150113,  1.62137467,  0.39491741, -0.81030071, -0.99975003,\n",
       "          0.0088126 ]]),\n",
       " array([8158198. , 7878473.1, 7816750. , 1577602.7,  322180.4]))"
      ]
     },
     "execution_count": 26,
     "metadata": {},
     "output_type": "execute_result"
    }
   ],
   "source": [
    "# Масштабирование данных\n",
    "scaler = StandardScaler()\n",
    "X_train_scaled = scaler.fit_transform(X_train)\n",
    "X_test_scaled = scaler.transform(X_test)\n",
    "\n",
    "X_train_scaled[:5], y_train[:5].values"
   ]
  },
  {
   "cell_type": "code",
   "execution_count": 28,
   "id": "2203a39b-c8b9-4fed-9cc2-e78bc9da84d2",
   "metadata": {},
   "outputs": [],
   "source": [
    "# Преобразование данных в тензоры\n",
    "X_train_tensor = torch.tensor(X_train_scaled, dtype=torch.float32)\n",
    "y_train_tensor = torch.tensor(y_train.values, dtype=torch.float32).view(-1, 1)\n",
    "X_test_tensor = torch.tensor(X_test_scaled, dtype=torch.float32)\n",
    "y_test_tensor = torch.tensor(y_test.values, dtype=torch.float32).view(-1, 1)"
   ]
  },
  {
   "cell_type": "code",
   "execution_count": 30,
   "id": "f06c239e-7727-4439-9bd5-80f8c4ba5930",
   "metadata": {},
   "outputs": [],
   "source": [
    "# Настройка XGBoost\n",
    "dtrain = xgb.DMatrix(X_train_scaled, label=y_train)\n",
    "dtest = xgb.DMatrix(X_test_scaled, label=y_test)"
   ]
  },
  {
   "cell_type": "code",
   "execution_count": 140,
   "id": "8852fb89-1695-4e87-867e-eb658dbf1025",
   "metadata": {},
   "outputs": [],
   "source": [
    "# Определение параметров\n",
    "params = {\n",
    "    'objective': 'reg:squarederror',\n",
    "    'eval_metric': 'rmse',\n",
    "    'learning_rate': 0.1,\n",
    "    'max_depth': 3,\n",
    "    'min_child_weight': 10,\n",
    "    'subsample': 0.8,\n",
    "    'colsample_bytree': 0.8,\n",
    "    'seed': 42\n",
    "}"
   ]
  },
  {
   "cell_type": "code",
   "execution_count": 126,
   "id": "2eff596a-3c61-41d5-b13b-be861296d237",
   "metadata": {},
   "outputs": [],
   "source": [
    "# Регуляризация\n",
    "params['reg_alpha'] = 0.1\n",
    "params['reg_lambda'] = 1.0"
   ]
  },
  {
   "cell_type": "code",
   "execution_count": 34,
   "id": "58a1e1c4-0367-4057-ab25-5a48d81fdca8",
   "metadata": {},
   "outputs": [],
   "source": [
    "# Запуск TensorBoard\n",
    "writer = SummaryWriter(log_dir='./logs/xgboost')"
   ]
  },
  {
   "cell_type": "code",
   "execution_count": 142,
   "id": "853f2f8b-9bd9-44ea-abb2-09341bc58716",
   "metadata": {},
   "outputs": [
    {
     "name": "stdout",
     "output_type": "stream",
     "text": [
      "[0]\ttrain-rmse:2575440.58710\teval-rmse:2672583.09871\n",
      "[50]\ttrain-rmse:61915.40961\teval-rmse:68162.27948\n",
      "[100]\ttrain-rmse:27876.74817\teval-rmse:28908.49645\n",
      "[150]\ttrain-rmse:25059.08286\teval-rmse:25832.81817\n",
      "[200]\ttrain-rmse:23806.28812\teval-rmse:24740.07939\n",
      "[250]\ttrain-rmse:22606.69665\teval-rmse:23774.99675\n",
      "[300]\ttrain-rmse:21667.14766\teval-rmse:23031.44248\n",
      "[350]\ttrain-rmse:20596.26026\teval-rmse:22248.08679\n",
      "[400]\ttrain-rmse:19817.06038\teval-rmse:21794.81881\n",
      "[450]\ttrain-rmse:19082.50246\teval-rmse:21352.06926\n",
      "[500]\ttrain-rmse:18408.91809\teval-rmse:20973.85924\n",
      "[550]\ttrain-rmse:17947.02873\teval-rmse:20703.98180\n",
      "[600]\ttrain-rmse:17290.96618\teval-rmse:20203.02054\n",
      "[650]\ttrain-rmse:16781.11223\teval-rmse:19910.56975\n",
      "[700]\ttrain-rmse:16292.83836\teval-rmse:19621.39535\n",
      "[750]\ttrain-rmse:15834.30266\teval-rmse:19364.63996\n",
      "[800]\ttrain-rmse:15402.13873\teval-rmse:19123.94979\n",
      "[850]\ttrain-rmse:15051.78900\teval-rmse:18945.17614\n",
      "[900]\ttrain-rmse:14705.57467\teval-rmse:18777.16444\n",
      "[950]\ttrain-rmse:14339.92192\teval-rmse:18582.23880\n",
      "[999]\ttrain-rmse:14017.82215\teval-rmse:18417.60029\n"
     ]
    }
   ],
   "source": [
    "# Обучение модели и логирование метрик\n",
    "evals_result = {}\n",
    "xgb_model = xgb.train(params, dtrain, num_boost_round=1000, evals=evals,\n",
    "                       early_stopping_rounds=50, verbose_eval=50,\n",
    "                       evals_result=evals_result)"
   ]
  },
  {
   "cell_type": "code",
   "execution_count": 52,
   "id": "12771a59-47ba-4a36-a7de-5eaf7c06693f",
   "metadata": {},
   "outputs": [],
   "source": [
    "# Логирование метрик в TensorBoard\n",
    "for i in range(len(evals_result['train']['rmse'])):\n",
    "    writer.add_scalar('Loss/train', evals_result['train']['rmse'][i], i)\n",
    "    writer.add_scalar('Loss/eval', evals_result['eval']['rmse'][i], i)"
   ]
  },
  {
   "cell_type": "code",
   "execution_count": 134,
   "id": "996ebccd-0ec6-47f7-a61c-8dee01f7223a",
   "metadata": {},
   "outputs": [
    {
     "data": {
      "text/plain": [
       "18416.78495681251"
      ]
     },
     "execution_count": 134,
     "metadata": {},
     "output_type": "execute_result"
    }
   ],
   "source": [
    "xgb_model.best_score"
   ]
  },
  {
   "cell_type": "code",
   "execution_count": 56,
   "id": "25a466ed-ccaa-42e5-b37c-1a7160442a37",
   "metadata": {},
   "outputs": [
    {
     "data": {
      "text/plain": [
       "count    1.000000e+04\n",
       "mean     4.993448e+06\n",
       "std      2.877424e+06\n",
       "min      1.031350e+04\n",
       "25%      2.516402e+06\n",
       "50%      5.016180e+06\n",
       "75%      7.469092e+06\n",
       "max      1.000677e+07\n",
       "Name: price, dtype: float64"
      ]
     },
     "execution_count": 56,
     "metadata": {},
     "output_type": "execute_result"
    }
   ],
   "source": [
    "y.describe()"
   ]
  },
  {
   "cell_type": "code",
   "execution_count": 144,
   "id": "dd78025f-4f84-4bf2-9a82-7791aab33aef",
   "metadata": {},
   "outputs": [],
   "source": [
    "writer.close()"
   ]
  }
 ],
 "metadata": {
  "kernelspec": {
   "display_name": "Python [conda env:base] *",
   "language": "python",
   "name": "conda-base-py"
  },
  "language_info": {
   "codemirror_mode": {
    "name": "ipython",
    "version": 3
   },
   "file_extension": ".py",
   "mimetype": "text/x-python",
   "name": "python",
   "nbconvert_exporter": "python",
   "pygments_lexer": "ipython3",
   "version": "3.12.7"
  }
 },
 "nbformat": 4,
 "nbformat_minor": 5
}
