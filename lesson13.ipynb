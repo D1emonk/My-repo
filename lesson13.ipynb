{
  "nbformat": 4,
  "nbformat_minor": 0,
  "metadata": {
    "colab": {
      "provenance": [],
      "authorship_tag": "ABX9TyMF+XisuOVmc98Lhjx6yMl0",
      "include_colab_link": true
    },
    "kernelspec": {
      "name": "python3",
      "display_name": "Python 3"
    },
    "language_info": {
      "name": "python"
    }
  },
  "cells": [
    {
      "cell_type": "markdown",
      "metadata": {
        "id": "view-in-github",
        "colab_type": "text"
      },
      "source": [
        "<a href=\"https://colab.research.google.com/github/D1emonk/My-repo/blob/main/lesson13.ipynb\" target=\"_parent\"><img src=\"https://colab.research.google.com/assets/colab-badge.svg\" alt=\"Open In Colab\"/></a>"
      ]
    },
    {
      "cell_type": "code",
      "source": [
        "import numpy as np\n",
        "from scipy import stats\n",
        "import matplotlib.pyplot as plt\n",
        "from scipy.special import perm, comb, factorial"
      ],
      "metadata": {
        "id": "bL9oJfYkbkGj"
      },
      "execution_count": null,
      "outputs": []
    },
    {
      "cell_type": "markdown",
      "source": [
        "<h3>Задача 1. В группе 30 студентов. Необходимо выбрать старосту, заместителя старосты и профорга. Сколько существует способов это сделать?<h3>"
      ],
      "metadata": {
        "id": "N_dOVo6JrLwx"
      }
    },
    {
      "cell_type": "markdown",
      "source": [
        "Старосту можно выбрить из 30 студентов. Заместителя старосты можно выбрать из 29 студентов. Профорга можно выбрать из 28 студентов. Таким образом, общее число способов выбрать старосту, заместителя старосты и профорга равно произведению этих чисел: 30 * 29 * 28 = 24360\n"
      ],
      "metadata": {
        "id": "SxcQ_WZiWNe0"
      }
    },
    {
      "cell_type": "markdown",
      "source": [
        "<h3>Задача 2. Два почтальона должны разнести 10 писем по 10 адресам. Сколькими способами они могут распределить работу?<h3"
      ],
      "metadata": {
        "id": "hrT3ARloWxFL"
      }
    },
    {
      "cell_type": "markdown",
      "source": [
        "Всего есть два почтальона и 10 писем, которые надо разными способами разнести по 10 адресатам. Поскольку писем 10, общее количество способов распределения писем между двумя почтальонами равно 2^10 = 1024\n"
      ],
      "metadata": {
        "id": "Chu3nP8xXFTN"
      }
    },
    {
      "cell_type": "code",
      "source": [
        "k = np.array(10)\n",
        "n = np.array(2)\n",
        "n**k"
      ],
      "metadata": {
        "colab": {
          "base_uri": "https://localhost:8080/"
        },
        "id": "645Kbp5ncdp7",
        "outputId": "70a82a95-d87f-4645-d130-e234674f7edb"
      },
      "execution_count": null,
      "outputs": [
        {
          "output_type": "execute_result",
          "data": {
            "text/plain": [
              "1024"
            ]
          },
          "metadata": {},
          "execution_count": 2
        }
      ]
    },
    {
      "cell_type": "markdown",
      "source": [
        "<h3>Задача  3. В ящике 100 деталей, из них 30 – деталей 1-го сорта, 50 – 2-го, остальные – 3-го. Сколько существует способов извлечения из ящика одной детали 1-го или 2-го сорта?"
      ],
      "metadata": {
        "id": "nclMwyBcYBkN"
      }
    },
    {
      "cell_type": "markdown",
      "source": [
        "Извлечение детали 1-го сорта можно сделать 30 способами (по числу деталей 1-го сорта). Извлечение детали 2-го сорта можно сделать 50 способами (по числу деталей 2-го сорта). Общее количество: 50+30=80"
      ],
      "metadata": {
        "id": "l5CNAr1GYYqM"
      }
    },
    {
      "cell_type": "markdown",
      "source": [
        "<h3>Задача 5.  Порядок выступления 7 участников конкурса определяется жребием. Сколько различных вариантов жеребьевки при этом возможно?"
      ],
      "metadata": {
        "id": "q2o9IHRnZA3v"
      }
    },
    {
      "cell_type": "markdown",
      "source": [
        "Порядок выступления 7 участников представляет собой перестановку из 7 элементов. Количество таких перестановок вычисляется как 7! = 5040"
      ],
      "metadata": {
        "id": "-anmrCX7Zs1O"
      }
    },
    {
      "cell_type": "code",
      "source": [
        "n = np.array(7)\n",
        "factorial(n, exact=True)"
      ],
      "metadata": {
        "colab": {
          "base_uri": "https://localhost:8080/"
        },
        "id": "CB9N4gBVdx-q",
        "outputId": "3598bf90-ef2e-4272-f26a-87701c232c86"
      },
      "execution_count": null,
      "outputs": [
        {
          "output_type": "execute_result",
          "data": {
            "text/plain": [
              "array(5040)"
            ]
          },
          "metadata": {},
          "execution_count": 5
        }
      ]
    },
    {
      "cell_type": "markdown",
      "source": [
        "<h3>Задача 6. В конкурсе по 5 номинациям участвуют 10 кинофильмов. Сколько существует вариантов распределения призов, если по всем номинациям установлены различные премии?"
      ],
      "metadata": {
        "id": "4xIhRdJrZzCb"
      }
    },
    {
      "cell_type": "markdown",
      "source": [
        "Каждая из 5 номинаций может быть присуждена любому из 10 кинофильмов. Таким образом общее количество способов распределения призов равно 10^5 = 100000"
      ],
      "metadata": {
        "id": "wtwf77reZ6jz"
      }
    },
    {
      "cell_type": "code",
      "source": [
        "k = np.array(5)\n",
        "n = np.array(10)\n",
        "n**k"
      ],
      "metadata": {
        "colab": {
          "base_uri": "https://localhost:8080/"
        },
        "id": "Acy_rm6vd-kD",
        "outputId": "6a1cb935-f69a-4277-f20a-8cc07c3f8a52"
      },
      "execution_count": null,
      "outputs": [
        {
          "output_type": "execute_result",
          "data": {
            "text/plain": [
              "100000"
            ]
          },
          "metadata": {},
          "execution_count": 6
        }
      ]
    },
    {
      "cell_type": "markdown",
      "source": [
        "<h3> Задача  7.  В шахматном турнире  участвуют 16 человек. Сколько партий должно быть сыграно в турнире, если между любыми двумя участниками должна быть сыграна одна партия?"
      ],
      "metadata": {
        "id": "TezoRxmxatKD"
      }
    },
    {
      "cell_type": "markdown",
      "source": [
        "В турнире, где каждый участник играет с каждым другим участником один раз, количество партий определяется по формуле для полного кругового турнира: n × ( n − 1 ) / 2​ , где n  — количество участников. В данном случае n=16, поэтому общее количество партий равно 16 × 15 / 2 = 120"
      ],
      "metadata": {
        "id": "QT_XLifBaw47"
      }
    },
    {
      "cell_type": "code",
      "source": [
        "k = np.array(2)\n",
        "n = np.array(16)\n",
        "comb(n, k, exact=True, repetition=False)"
      ],
      "metadata": {
        "colab": {
          "base_uri": "https://localhost:8080/"
        },
        "id": "231dLOcahLJA",
        "outputId": "d0bea024-758c-4c33-a7cb-1071c34dade4"
      },
      "execution_count": null,
      "outputs": [
        {
          "output_type": "execute_result",
          "data": {
            "text/plain": [
              "120"
            ]
          },
          "metadata": {},
          "execution_count": 12
        }
      ]
    },
    {
      "cell_type": "markdown",
      "source": [
        "<h3>Задача 8. В условиях задачи 6 определить, сколько существует вариантов распределения призов, если по всем номинациям установлены одинаковые призы?"
      ],
      "metadata": {
        "id": "e0lcQp53iNBz"
      }
    },
    {
      "cell_type": "markdown",
      "source": [
        "Если по всем номинациям установлены одинаковые призы, это означает, что порядок, в котором фильмы получают призы, не имеет значения. В этом случае задача сводится к выбору 5 фильмов из 10, что соответствует сочетаниям из 10 по 5."
      ],
      "metadata": {
        "id": "3WF_eX0Kku-7"
      }
    },
    {
      "cell_type": "code",
      "source": [
        "k = np.array(5)\n",
        "n = np.array(10)\n",
        "comb(n, k, exact=True, repetition=False)"
      ],
      "metadata": {
        "colab": {
          "base_uri": "https://localhost:8080/"
        },
        "id": "VeVdViDSlCeh",
        "outputId": "6e9474b9-0b0b-420c-d1d7-3d9749428d80"
      },
      "execution_count": null,
      "outputs": [
        {
          "output_type": "execute_result",
          "data": {
            "text/plain": [
              "252"
            ]
          },
          "metadata": {},
          "execution_count": 13
        }
      ]
    },
    {
      "cell_type": "markdown",
      "source": [
        "<h3> Задача 9. Садовник должен в течении трех дней посадить 6 деревьев. Сколькими способами он может распределить по дням работу, если будет сажать не менее одного дерева в день?"
      ],
      "metadata": {
        "id": "YcE8TR4qllHA"
      }
    },
    {
      "cell_type": "markdown",
      "source": [],
      "metadata": {
        "id": "_ZoEmQU1rvGj"
      }
    },
    {
      "cell_type": "code",
      "source": [
        "# количество сочетаний с повторениями из n элементов по k\n",
        "k = np.array(3)\n",
        "n = np.array(3)\n",
        "comb(n, k, exact=True, repetition=True)"
      ],
      "metadata": {
        "colab": {
          "base_uri": "https://localhost:8080/"
        },
        "id": "g1FqbRHGlspA",
        "outputId": "85c4a748-2d3d-4814-bd19-c39c1e572eda"
      },
      "execution_count": null,
      "outputs": [
        {
          "output_type": "execute_result",
          "data": {
            "text/plain": [
              "10"
            ]
          },
          "metadata": {},
          "execution_count": 14
        }
      ]
    },
    {
      "cell_type": "markdown",
      "source": [
        "<h3>Задача 10. Сколько существует четырехзначных чисел (возможно, начинающихся с нуля), сумма цифр которых равна 5?"
      ],
      "metadata": {
        "id": "oMhr4BiKr6uj"
      }
    },
    {
      "cell_type": "code",
      "source": [
        "# количество сочетаний с повторениями из n элементов по k\n",
        "k = np.array(4)\n",
        "n = np.array(5)\n",
        "comb(n, k, exact=True, repetition=True)"
      ],
      "metadata": {
        "colab": {
          "base_uri": "https://localhost:8080/"
        },
        "id": "B3JKoXZAsAn5",
        "outputId": "1b84346e-6a64-456c-d495-de7c2a51a112"
      },
      "execution_count": null,
      "outputs": [
        {
          "output_type": "execute_result",
          "data": {
            "text/plain": [
              "70"
            ]
          },
          "metadata": {},
          "execution_count": 16
        }
      ]
    },
    {
      "cell_type": "markdown",
      "source": [
        "<h3>Задача 11. Сколькими способами можно разбить группу из 25 студентов на три подгруппы А, В и С по 6, 9 и 10 человек соответственно?"
      ],
      "metadata": {
        "id": "-8THUIsMtS6o"
      }
    },
    {
      "cell_type": "markdown",
      "source": [
        "Количество способов выбрать 6 человек из 25 в подгруппе А равно 25/6. Количество способов выбрать 9 человек из 19 в подгруппе В равно 19/9.\n",
        "Количество способов выбрать 10 человек из 10 в подгруппе С равно 10/10.  "
      ],
      "metadata": {
        "id": "ISM_V4GjLc-I"
      }
    },
    {
      "cell_type": "code",
      "source": [
        "# Количество студентов в каждой подгруппе\n",
        "total_students = 25\n",
        "a = 6\n",
        "b = 9\n",
        "c = 10\n",
        "\n",
        "# Вычисление количества способов выбрать подгруппы\n",
        "group_a = comb(total_students, a, exact=True)\n",
        "group_b = comb(total_students - a, b, exact=True)\n",
        "group_c = comb(total_students - a - b, c, exact=True)\n",
        "\n",
        "# Общее количество способов\n",
        "total_ways = group_a * group_b * group_c\n",
        "total_ways"
      ],
      "metadata": {
        "colab": {
          "base_uri": "https://localhost:8080/"
        },
        "id": "vjDPyNS5K7wO",
        "outputId": "dc2010ae-d7b1-4696-9b03-eb8a2cd3958c"
      },
      "execution_count": null,
      "outputs": [
        {
          "output_type": "execute_result",
          "data": {
            "text/plain": [
              "16360143800"
            ]
          },
          "metadata": {},
          "execution_count": 6
        }
      ]
    },
    {
      "cell_type": "markdown",
      "source": [
        "<h3> Задача 12. Сколько существует семизначных чисел, состоящих из цифр 4, 5 и 6, в которых цифра 4 повторяется 3 раза, а цифры 5 и 6 – по 2 раза?"
      ],
      "metadata": {
        "id": "G3_DpQuZK8PG"
      }
    },
    {
      "cell_type": "markdown",
      "source": [
        "Чтобы определить количество семизначных чисел, состоящих из цифр 4, 5 и 6, где цифра 4 повторяется 3 раза, а цифры 5 и 6 — по 2 раза, нужно рассмотреть количество способов распределения этих цифр по позициям.\n",
        "4: 7/3\n",
        "5: 4/2\n",
        "6: 2/2\n",
        "Общее к-во способов: 7/3 * 4/2 * 2/2 = 210"
      ],
      "metadata": {
        "id": "6XGcAXdJPFdh"
      }
    },
    {
      "cell_type": "code",
      "source": [
        "total_positions = 7\n",
        "count_4 = 3\n",
        "count_5 = 2\n",
        "count_6 = 2\n",
        "\n",
        "# Вычисление количества способов выбрать позиции для каждой цифры\n",
        "ways_to_choose_4 = comb(total_positions, count_4, exact=True)\n",
        "ways_to_choose_5 = comb(total_positions - count_4, count_5, exact=True)\n",
        "ways_to_choose_6 = comb(total_positions - count_4 - count_5, count_6, exact=True)\n",
        "\n",
        "# Общее количество способов\n",
        "total_ways = ways_to_choose_4 * ways_to_choose_5 * ways_to_choose_6\n",
        "total_ways"
      ],
      "metadata": {
        "colab": {
          "base_uri": "https://localhost:8080/"
        },
        "id": "l_f1qXxRNvfp",
        "outputId": "f236bf63-07fe-4ed6-92dc-73decc0afcb3"
      },
      "execution_count": null,
      "outputs": [
        {
          "output_type": "execute_result",
          "data": {
            "text/plain": [
              "210"
            ]
          },
          "metadata": {},
          "execution_count": 3
        }
      ]
    },
    {
      "cell_type": "markdown",
      "source": [
        "<h3> Задача  1. В ящике 5 апельсинов и 4 яблока. Наудачу выбираются 3 фрукта. Какова вероятность, что все три фрукта – апельсины?"
      ],
      "metadata": {
        "id": "xiwrEojV2BU9"
      }
    },
    {
      "cell_type": "markdown",
      "source": [
        "Общее количество способов выбрать 3 фрукта из 9: 9/3\n",
        "Количество способов выбрать 3 апельсина из 5: 5/3\n",
        "Вероятность: 5/3 * 3/9"
      ],
      "metadata": {
        "id": "nzXPY1NP2mT_"
      }
    },
    {
      "cell_type": "code",
      "source": [
        "# Общее количество способов выбрать 3 фрукта из 9\n",
        "total_fruits = 9\n",
        "total_choose_3 = comb(total_fruits, 3, exact=True)\n",
        "\n",
        "# Количество способов выбрать 3 апельсина из 5\n",
        "oranges = 5\n",
        "choose_3_oranges = comb(oranges, 3, exact=True)\n",
        "\n",
        "# Вероятность того, что все три фрукта будут апельсинами\n",
        "probability_all_oranges = choose_3_oranges / total_choose_3\n",
        "probability_all_oranges"
      ],
      "metadata": {
        "colab": {
          "base_uri": "https://localhost:8080/"
        },
        "id": "2coNwlXG2FDf",
        "outputId": "5577cd97-cce8-4634-8370-9b21b21d8057"
      },
      "execution_count": null,
      "outputs": [
        {
          "output_type": "execute_result",
          "data": {
            "text/plain": [
              "0.11904761904761904"
            ]
          },
          "metadata": {},
          "execution_count": 3
        }
      ]
    },
    {
      "cell_type": "markdown",
      "source": [
        "<h3> Задача  2. Преподаватель предлагает каждому из трех студентов задумать любое число от 1 до 10. Считая, что выбор каждым из студентов любого числа из заданных равновозможен, найти вероятность того, что у кого-то из них задуманные числа совпадут."
      ],
      "metadata": {
        "id": "plK7oYvP_KQa"
      }
    },
    {
      "cell_type": "markdown",
      "source": [
        "Общее к-во исходов: 10^3=1000. К-во исходов, где все числа равны: 10 * 9 * 8=720. Вероятность того, что все числа различны: 720/1000 = 0,72. Вероятность того, что хотя бы у двух студентов числа совпадут: 1 - 0,72 = 0,28"
      ],
      "metadata": {
        "id": "qF_2HH54_QIv"
      }
    },
    {
      "cell_type": "markdown",
      "source": [
        "<h3> Задача 3. Найти вероятность того, что в 8-значном числе ровно 4 цифры совпадают, а остальные различны."
      ],
      "metadata": {
        "id": "LIqitIDwDNDt"
      }
    },
    {
      "cell_type": "markdown",
      "source": [
        "Общее количество 8-значных чисел: 10^8. К-во способов выбрать 4 позиции для совпадающих цифр: 8/4. Для выбранных 4 позиций нужно выбрать одну из 10 цифр. Количество способов выбрать одну цифру равно 10. Оставшиеся 4 позиции должны быть заполнены различными цифрами, отличными от выбранной для совпадающих позиций. Количество способов выбрать 4 различные цифры из оставшихся 9: 9 * 8 * 7 * 6. Умножаем количество способов выбрать позиции, цифру для совпадающих позиций и цифры для оставшихся позиций. Таким образом, вероятность того, что в 8-значном числе ровно 4 цифры совпадают, а остальные различны, равна ![image.png](data:image/png;base64,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) = 0,02"
      ],
      "metadata": {
        "id": "i0xX97aoBPQH"
      }
    },
    {
      "cell_type": "code",
      "source": [
        "# Общее количество 8-значных чисел\n",
        "total_numbers = 10**8\n",
        "\n",
        "# Количество способов выбрать 4 позиции для совпадающих цифр\n",
        "positions = comb(8, 4, exact=True)\n",
        "\n",
        "# Количество способов выбрать одну цифру для совпадающих позиций\n",
        "digit = 10\n",
        "\n",
        "# Количество способов выбрать 4 различные цифры для оставшихся позиций\n",
        "remaining_digits = 9 * 8 * 7 * 6\n",
        "\n",
        "# Количество благоприятных исходов\n",
        "favorable_outcomes = positions * digit * remaining_digits\n",
        "\n",
        "# Вероятность\n",
        "probability = favorable_outcomes / total_numbers\n",
        "probability"
      ],
      "metadata": {
        "colab": {
          "base_uri": "https://localhost:8080/"
        },
        "id": "XGe6go9pM85k",
        "outputId": "35fa93f0-315c-442d-987d-c9ea100b4e11"
      },
      "execution_count": 5,
      "outputs": [
        {
          "output_type": "execute_result",
          "data": {
            "text/plain": [
              "0.021168"
            ]
          },
          "metadata": {},
          "execution_count": 5
        }
      ]
    },
    {
      "cell_type": "markdown",
      "source": [
        "<h3> Задача 4. Шесть клиентов случайным образом обращаются в 5 фирм. Найти вероятность того, что хотя бы в одну фирму никто не обратится."
      ],
      "metadata": {
        "id": "LK91_MwdNm0j"
      }
    },
    {
      "cell_type": "markdown",
      "source": [
        "Каждый из шести клиентов может обратиться в любую из пяти фирм, что дает 5^6 исходов. Если брать, что ровно одна фирма не получает клиентов, то выбираем  одну фирму из пяти 5/1 и распределяем клиентов по оставшимся четырем фирмам 4^6. аналогично с двумя, тремя, четыремя и пятью фирмами: 5/2 и 3^6. 5/3 и 2^6. 5/4 и 1^6. Таким образом, вероятность того, что хотя бы одна фирма не получит ни одного клиента, равна (15624−3120+240−1) / 15625 = 0,668\n",
        "​\n",
        ""
      ],
      "metadata": {
        "id": "3br0yyJxNvfM"
      }
    },
    {
      "cell_type": "markdown",
      "source": [
        "<h3> Задача  1. В ящике 10 красных и 5 синих пуговиц. Вынимаются наудачу две пуговицы. Какова вероятность, что пуговицы будут одноцветными?"
      ],
      "metadata": {
        "id": "iyk_HwdnPn2a"
      }
    },
    {
      "cell_type": "markdown",
      "source": [
        "Общее количество способов выбрать две пуговицы из 15: 15/2. Количество способов выбрать две красные пуговицы: 10/2. Количество способов выбрать две синие пуговицы: 5/2. Вероятность: (10/2 + 5/2) / (15/2) = 0,524"
      ],
      "metadata": {
        "id": "llJbwaeqReVa"
      }
    },
    {
      "cell_type": "code",
      "source": [
        "total_buttons = 15\n",
        "total_choose_2 = comb(total_buttons, 2, exact=True)\n",
        "\n",
        "# Количество способов выбрать две красные пуговицы\n",
        "red_buttons = 10\n",
        "choose_2_red = comb(red_buttons, 2, exact=True)\n",
        "\n",
        "# Количество способов выбрать две синие пуговицы\n",
        "blue_buttons = 5\n",
        "choose_2_blue = comb(blue_buttons, 2, exact=True)\n",
        "\n",
        "# Вероятность того, что пуговицы будут одноцветными\n",
        "probability_same_color = (choose_2_red + choose_2_blue) / total_choose_2\n",
        "probability_same_color"
      ],
      "metadata": {
        "colab": {
          "base_uri": "https://localhost:8080/"
        },
        "id": "6JqbyLjzSd8H",
        "outputId": "662fc6fc-4df5-42e6-f799-e7451ddfab1c"
      },
      "execution_count": 6,
      "outputs": [
        {
          "output_type": "execute_result",
          "data": {
            "text/plain": [
              "0.5238095238095238"
            ]
          },
          "metadata": {},
          "execution_count": 6
        }
      ]
    },
    {
      "cell_type": "markdown",
      "source": [
        "<h3> Задача 2. Среди сотрудников фирмы 28% знают английский язык, 30%  – немецкий, 42% – французский; английский и немецкий – 8%, английский и французский – 10%, немецкий и французский – 5%, все три языка – 3%. Найти вероятность того, что случайно выбранный сотрудник фирмы: а) знает английский или немецкий; б) знает английский, немецкий или французский; в) не знает ни один из перечисленных языков."
      ],
      "metadata": {
        "id": "ViOOY-oIVItd"
      }
    },
    {
      "cell_type": "markdown",
      "source": [
        "Английский = 0,28. Немецкий = 0,42. Французкий + Английский + немецкий = 0,08. Английский + Французский = 0,1. Немецкий + Французский = 0,05. Все три языка 0,03. А. английский или немецкий = английский + немецкий − английский и немецкий = 0.28+0.30−0.08=0.50. Б. английский или немецкий или французский = английский + немецкий + французский − английский и немецкий − английский и французский − немецкий и французский + все три языка = 0.28+0.30+0.42−0.08−0.10−0.05+0.03=0.80. В. не знает ни один язык = 1 - 0,8 = 0,2"
      ],
      "metadata": {
        "id": "LrhjfDDlVMx3"
      }
    },
    {
      "cell_type": "markdown",
      "source": [
        "<h3> Задача 3. В семье – двое детей. Какова вероятность, что старший ребенок – мальчик, если известно, что в семье есть дети обоего пола?"
      ],
      "metadata": {
        "id": "W05-kosDZcRP"
      }
    },
    {
      "cell_type": "markdown",
      "source": [
        "Возможные комбинации: ММ (оба мальчики), МД (старший мальчик и младшая девочка), ДМ (старшая девочка и младшый мальчик) и ДД (обе девочки). Исключаем две комбинации ММ и ДД. В таком случаи вероятность равно 0,5"
      ],
      "metadata": {
        "id": "CdWx_OklZfLW"
      }
    }
  ]
}