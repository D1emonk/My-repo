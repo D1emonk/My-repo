{
  "nbformat": 4,
  "nbformat_minor": 0,
  "metadata": {
    "colab": {
      "provenance": [],
      "authorship_tag": "ABX9TyN9NmYCeyawyCZjwQCQFYds",
      "include_colab_link": true
    },
    "kernelspec": {
      "name": "python3",
      "display_name": "Python 3"
    },
    "language_info": {
      "name": "python"
    }
  },
  "cells": [
    {
      "cell_type": "markdown",
      "metadata": {
        "id": "view-in-github",
        "colab_type": "text"
      },
      "source": [
        "<a href=\"https://colab.research.google.com/github/D1emonk/My-repo/blob/dev/matrix.ipynb\" target=\"_parent\"><img src=\"https://colab.research.google.com/assets/colab-badge.svg\" alt=\"Open In Colab\"/></a>"
      ]
    },
    {
      "cell_type": "code",
      "execution_count": 11,
      "metadata": {
        "id": "scvqsXBmsYlE",
        "colab": {
          "base_uri": "https://localhost:8080/"
        },
        "outputId": "bcadfa9a-d2a1-49db-81af-560504c352ec"
      },
      "outputs": [
        {
          "output_type": "stream",
          "name": "stdout",
          "text": [
            "Сложение матриц 3x3:\n",
            "[[ 0  2  7]\n",
            " [ 9 -1 -1]\n",
            " [-9  2  8]]\n",
            "\n",
            "Вычитание матриц 3x3:\n",
            "[[ 2  2  1]\n",
            " [ 5 11 -3]\n",
            " [ 5  0 -2]]\n",
            "\n",
            "Умножение матрицы 3x3 на 3x2:\n",
            "[[34 -1]\n",
            " [-8 23]\n",
            " [29 -9]]\n",
            "\n",
            "Умножение двух матрицы 3x3 на одну матрицу  3x2:\n",
            "[[ 193 -100]\n",
            " [ -50   35]\n",
            " [  92  -61]]\n"
          ]
        }
      ],
      "source": [
        "import numpy as np\n",
        "# Определяем матрицы\n",
        "A = np.array([[1, 2, 4], [7, 5, -2], [-2, 1, 3]])  # Матрица 3x3\n",
        "B = np.array([[-1, 0, 3], [2, -6, 1], [-7, 1, 5]])  # Матрица 3x3\n",
        "C = np.array([[-2, 3], [4, 0], [7, -1]])  # Матрица 3x2\n",
        "\n",
        "# Операции с матрицами\n",
        "sum_result = A + B\n",
        "sub_result = A - B\n",
        "mul_result1 = np.dot(A, C)\n",
        "mul_result2 = np.dot(np.dot(A, B), C)\n",
        "\n",
        "# Вывод результатов\n",
        "print(\"Сложение матриц 3x3:\")\n",
        "print(sum_result)\n",
        "\n",
        "print(\"\\nВычитание матриц 3x3:\")\n",
        "print(sub_result)\n",
        "\n",
        "print(\"\\nУмножение матрицы 3x3 на 3x2:\")\n",
        "print(mul_result1)\n",
        "\n",
        "print(\"\\nУмножение двух матрицы 3x3 на одну матрицу  3x2:\")\n",
        "print(mul_result2)\n"
      ]
    },
    {
      "cell_type": "code",
      "source": [
        "# Определяем матрицы\n",
        "A = np.array([[0, 3, 4], [-7, 1, -2], [2, -1, 3]])  # Матрица 3x3\n",
        "B = np.array([[1, 2, 4], [7, 0, -2], [-3, -2, 5]])  # Матрица 3x3\n",
        "C = np.array([[-3, 2], [0, 4], [-1, 7]])  # Матрица 3x2\n",
        "\n",
        "# Операции с матрицами\n",
        "sum_result = A + B\n",
        "sub_result = A - B\n",
        "mul_result1 = np.dot(A, C)\n",
        "mul_result2 = np.dot(np.dot(A, B), C)\n",
        "\n",
        "# Вывод результатов\n",
        "print(\"Сложение матриц 3x3:\")\n",
        "print(sum_result)\n",
        "\n",
        "print(\"\\nВычитание матриц 3x3:\")\n",
        "print(sub_result)\n",
        "\n",
        "print(\"\\nУмножение матрицы 3x3 на 3x2:\")\n",
        "print(mul_result1)\n",
        "\n",
        "print(\"\\nУмножение двух матрицы 3x3 на одну матрицу  3x2:\")\n",
        "print(mul_result2)"
      ],
      "metadata": {
        "colab": {
          "base_uri": "https://localhost:8080/"
        },
        "id": "6h-FOc5oZ1Dp",
        "outputId": "78a2dea6-dc9b-41d8-cffa-846700f06da8"
      },
      "execution_count": 13,
      "outputs": [
        {
          "output_type": "stream",
          "name": "stdout",
          "text": [
            "Сложение матриц 3x3:\n",
            "[[ 1  5  8]\n",
            " [ 0  1 -4]\n",
            " [-1 -3  8]]\n",
            "\n",
            "Вычитание матриц 3x3:\n",
            "[[ -1   1   0]\n",
            " [-14   1   0]\n",
            " [  5   1  -2]]\n",
            "\n",
            "Умножение матрицы 3x3 на 3x2:\n",
            "[[ -4  40]\n",
            " [ 23 -24]\n",
            " [ -9  21]]\n",
            "\n",
            "Умножение двух матрицы 3x3 на одну матрицу  3x2:\n",
            "[[ -41   84]\n",
            " [  22 -308]\n",
            " [  17  139]]\n"
          ]
        }
      ]
    },
    {
      "cell_type": "code",
      "source": [
        "# Определяем матрицы\n",
        "A = np.array([[5, 2, 9], [7, 0, -2], [-2, 1, 6]])  # Матрица 3x3\n",
        "B = np.array([[1, -2, 1], [7, 5, -2], [-2, 8, 3]])  # Матрица 3x3\n",
        "C = np.array([[-2, 3], [4, 5], [0, -1]])  # Матрица 3x2\n",
        "\n",
        "# Операции с матрицами\n",
        "sum_result = A + B\n",
        "sub_result = A - B\n",
        "mul_result1 = np.dot(A, C)\n",
        "mul_result2 = np.dot(np.dot(A, B), C)\n",
        "\n",
        "# Вывод результатов\n",
        "print(\"Сложение матриц 3x3:\")\n",
        "print(sum_result)\n",
        "\n",
        "print(\"\\nВычитание матриц 3x3:\")\n",
        "print(sub_result)\n",
        "\n",
        "print(\"\\nУмножение матрицы 3x3 на 3x2:\")\n",
        "print(mul_result1)\n",
        "\n",
        "print(\"\\nУмножение двух матрицы 3x3 на одну матрицу  3x2:\")\n",
        "print(mul_result2)"
      ],
      "metadata": {
        "colab": {
          "base_uri": "https://localhost:8080/"
        },
        "id": "v4n3NpaUaQI0",
        "outputId": "c5d0fbf6-0e5d-4d8a-c606-b1878212f1f5"
      },
      "execution_count": 17,
      "outputs": [
        {
          "output_type": "stream",
          "name": "stdout",
          "text": [
            "Сложение матриц 3x3:\n",
            "[[ 6  0 10]\n",
            " [14  5 -4]\n",
            " [-4  9  9]]\n",
            "\n",
            "Вычитание матриц 3x3:\n",
            "[[ 4  4  8]\n",
            " [ 0 -5  0]\n",
            " [ 0 -7  3]]\n",
            "\n",
            "Умножение матрицы 3x3 на 3x2:\n",
            "[[ -2  16]\n",
            " [-14  23]\n",
            " [  8  -7]]\n",
            "\n",
            "Умножение двух матрицы 3x3 на одну матрицу  3x2:\n",
            "[[ 286  335]\n",
            " [-142 -118]\n",
            " [ 242  250]]\n"
          ]
        }
      ]
    },
    {
      "cell_type": "code",
      "source": [
        "# Определяем матрицы\n",
        "A = np.array([[1, -2, 8], [7, 5, -2], [-2, 3, 0]])  # Матрица 3x3\n",
        "B = np.array([[0, 2, 4], [1, -3, -2], [-2, 1, 3]])  # Матрица 3x3\n",
        "C = np.array([[0, 3], [5, -4], [7, -1]])  # Матрица 3x2\n",
        "\n",
        "# Операции с матрицами\n",
        "sum_result = A + B\n",
        "sub_result = A - B\n",
        "mul_result1 = np.dot(A, C)\n",
        "mul_result2 = np.dot(np.dot(A, B), C)\n",
        "\n",
        "# Вывод результатов\n",
        "print(\"Сложение матриц 3x3:\")\n",
        "print(sum_result)\n",
        "\n",
        "print(\"\\nВычитание матриц 3x3:\")\n",
        "print(sub_result)\n",
        "\n",
        "print(\"\\nУмножение матрицы 3x3 на 3x2:\")\n",
        "print(mul_result1)\n",
        "\n",
        "print(\"\\nУмножение двух матрицы 3x3 на одну матрицу  3x2:\")\n",
        "print(mul_result2)"
      ],
      "metadata": {
        "colab": {
          "base_uri": "https://localhost:8080/"
        },
        "id": "u0qEPCbqbCLG",
        "outputId": "d54450e6-d9e8-49a3-8bda-4ab46133c85c"
      },
      "execution_count": 18,
      "outputs": [
        {
          "output_type": "stream",
          "name": "stdout",
          "text": [
            "Сложение матриц 3x3:\n",
            "[[ 1  0 12]\n",
            " [ 8  2 -4]\n",
            " [-4  4  3]]\n",
            "\n",
            "Вычитание матриц 3x3:\n",
            "[[ 1 -4  4]\n",
            " [ 6  8  0]\n",
            " [ 0  2 -3]]\n",
            "\n",
            "Умножение матрицы 3x3 на 3x2:\n",
            "[[ 46   3]\n",
            " [ 11   3]\n",
            " [ 15 -18]]\n",
            "\n",
            "Умножение двух матрицы 3x3 на одну матрицу  3x2:\n",
            "[[ 304 -150]\n",
            " [  69   27]\n",
            " [-163   75]]\n"
          ]
        }
      ]
    },
    {
      "cell_type": "code",
      "source": [
        "# Определяем матрицы\n",
        "A = np.array([[9, 2, 4], [7, 5, -5], [6, -2, 3]])  # Матрица 3x3\n",
        "B = np.array([[8, 2, 4], [0, 1, -3], [-2, 1, 6]])  # Матрица 3x3\n",
        "C = np.array([[-2, 0], [4, 8], [1, -1]])  # Матрица 3x2\n",
        "\n",
        "# Операции с матрицами\n",
        "sum_result = A + B\n",
        "sub_result = A - B\n",
        "mul_result1 = np.dot(A, C)\n",
        "mul_result2 = np.dot(np.dot(A, B), C)\n",
        "\n",
        "# Вывод результатов\n",
        "print(\"Сложение матриц 3x3:\")\n",
        "print(sum_result)\n",
        "\n",
        "print(\"\\nВычитание матриц 3x3:\")\n",
        "print(sub_result)\n",
        "\n",
        "print(\"\\nУмножение матрицы 3x3 на 3x2:\")\n",
        "print(mul_result1)\n",
        "\n",
        "print(\"\\nУмножение двух матрицы 3x3 на одну матрицу  3x2:\")\n",
        "print(mul_result2)"
      ],
      "metadata": {
        "colab": {
          "base_uri": "https://localhost:8080/"
        },
        "id": "3qNPq1-_bVPn",
        "outputId": "b9ab304d-565c-43c7-ac96-0bf86ace8507"
      },
      "execution_count": 19,
      "outputs": [
        {
          "output_type": "stream",
          "name": "stdout",
          "text": [
            "Сложение матриц 3x3:\n",
            "[[17  4  8]\n",
            " [ 7  6 -8]\n",
            " [ 4 -1  9]]\n",
            "\n",
            "Вычитание матриц 3x3:\n",
            "[[ 1  0  0]\n",
            " [ 7  4 -2]\n",
            " [ 8 -3 -3]]\n",
            "\n",
            "Умножение матрицы 3x3 на 3x2:\n",
            "[[ -6  12]\n",
            " [  1  45]\n",
            " [-17 -19]]\n",
            "\n",
            "Умножение двух матрицы 3x3 на одну матрицу  3x2:\n",
            "[[ 22 138]\n",
            " [-93 129]\n",
            " [ 16  56]]\n"
          ]
        }
      ]
    }
  ]
}