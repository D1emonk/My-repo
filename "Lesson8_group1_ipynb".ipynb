{
  "nbformat": 4,
  "nbformat_minor": 0,
  "metadata": {
    "colab": {
      "provenance": [],
      "include_colab_link": true
    },
    "kernelspec": {
      "name": "python3",
      "display_name": "Python 3"
    },
    "language_info": {
      "name": "python"
    }
  },
  "cells": [
    {
      "cell_type": "markdown",
      "metadata": {
        "id": "view-in-github",
        "colab_type": "text"
      },
      "source": [
        "<a href=\"https://colab.research.google.com/github/D1emonk/My-repo/blob/dev/%22Lesson8_group1_ipynb%22.ipynb\" target=\"_parent\"><img src=\"https://colab.research.google.com/assets/colab-badge.svg\" alt=\"Open In Colab\"/></a>"
      ]
    },
    {
      "cell_type": "code",
      "execution_count": null,
      "metadata": {
        "id": "U0H2w6ZhtROL"
      },
      "outputs": [],
      "source": [
        "class Electronics:\n",
        "\n",
        "  def __init__ (self, brand: str, price: float, max_capasity = 1500, cnt = 0):\n",
        "    self.cnt = cnt\n",
        "    self.brand = brand\n",
        "    self.price = price\n",
        "    self.max_capasity = max_capasity\n",
        "\n",
        "  def buy(self, amount: int):\n",
        "    if self.cnt >= amount:\n",
        "      self.cnt -= amount\n",
        "    else:\n",
        "      print(f\"Ошибка! Нельзя продать больше, чем есть в наличии.\")\n",
        "\n",
        "  def add(self, amount: int):\n",
        "    if self.max_capasity >= self.cnt + amount:\n",
        "      self.cnt += amount\n",
        "    else:\n",
        "      print(f\"Склад переполнен!\")\n",
        "\n",
        "  def display_info (self):\n",
        "    print(f\"Бренд:\", self.brand, f\"Цена:\", self.price, f\"Количество:\", self.cnt)"
      ]
    },
    {
      "cell_type": "code",
      "source": [
        "Item1 = Electronics(\"Samsung\", 999.99)\n",
        "Item1.display_info()"
      ],
      "metadata": {
        "colab": {
          "base_uri": "https://localhost:8080/"
        },
        "id": "ksPppZ5Au2ob",
        "outputId": "8751ec07-e93a-49a4-8150-3ab48ec39bff"
      },
      "execution_count": null,
      "outputs": [
        {
          "output_type": "stream",
          "name": "stdout",
          "text": [
            "Бренд: Samsung Цена: 999.99 Количество: 0\n"
          ]
        }
      ]
    },
    {
      "cell_type": "code",
      "source": [
        "class Smartphone(Electronics):\n",
        "\n",
        "  def __init__ (self, brand: str, price: float, os: str, camera_mp: str, max_capasity = 1500, cnt = 0):\n",
        "    super().__init__(brand, price, max_capasity, cnt)\n",
        "    self.os = os\n",
        "    self.camera_mp = camera_mp\n",
        "\n",
        "  def display_info (self):\n",
        "    super().display_info()\n",
        "    print(f\"ОС:\", self.os, f\"Камера_мп:\", self.camera_mp)\n"
      ],
      "metadata": {
        "id": "Q05jz88hxyDv"
      },
      "execution_count": null,
      "outputs": []
    },
    {
      "cell_type": "code",
      "source": [
        "Item2 = Smartphone(\"Samsung\",900.00,\"Exynos\",\"40\")\n",
        "Item2.display_info()"
      ],
      "metadata": {
        "colab": {
          "base_uri": "https://localhost:8080/"
        },
        "id": "qg0ZOa0gzp7H",
        "outputId": "9dc438be-00e2-4bbc-ca5d-56c85d24b99f"
      },
      "execution_count": null,
      "outputs": [
        {
          "output_type": "stream",
          "name": "stdout",
          "text": [
            "Бренд: Samsung Цена: 900.0 Количество: 0\n",
            "ОС: Exynos Камера_мп: 40\n"
          ]
        }
      ]
    },
    {
      "cell_type": "code",
      "source": [
        "Item2.add(50)\n",
        "Item2.display_info()\n",
        "\n",
        "Item2.buy(20)\n",
        "Item2.display_info()\n",
        "\n",
        "Item2.buy(50)\n",
        "Item2.display_info()\n",
        "\n",
        "Item2.add(2000)\n",
        "Item2.display_info()\n",
        "\n",
        "Item2.max_capasity = 5000\n",
        "\n",
        "Item2.add(2000)\n",
        "Item2.display_info()"
      ],
      "metadata": {
        "colab": {
          "base_uri": "https://localhost:8080/"
        },
        "id": "47F_oD216DSk",
        "outputId": "8baf1071-2fdf-4041-875a-ff9a3baffd9a"
      },
      "execution_count": null,
      "outputs": [
        {
          "output_type": "stream",
          "name": "stdout",
          "text": [
            "Brand: Samsung Price: 900.0 Count: 50\n",
            "OS: Exynos Camera_mp: 40\n",
            "Brand: Samsung Price: 900.0 Count: 30\n",
            "OS: Exynos Camera_mp: 40\n",
            "Ошибка! Нельзя продать больше, чем есть в наличии.\n",
            "Brand: Samsung Price: 900.0 Count: 30\n",
            "OS: Exynos Camera_mp: 40\n",
            "Склад переполнен!\n",
            "Brand: Samsung Price: 900.0 Count: 30\n",
            "OS: Exynos Camera_mp: 40\n",
            "Brand: Samsung Price: 900.0 Count: 2030\n",
            "OS: Exynos Camera_mp: 40\n"
          ]
        }
      ]
    },
    {
      "cell_type": "code",
      "source": [
        "class Laptop(Electronics):\n",
        "\n",
        "  def __init__ (self, brand: str, price: float, ram: str, cpu: str, max_capasity = 1000, cnt = 0):\n",
        "      super().__init__(brand, price, max_capasity, cnt)\n",
        "      self.ram = ram\n",
        "      self.cpu = cpu\n",
        "\n",
        "  def display_info (self):\n",
        "    super().display_info()\n",
        "    print(f\"Память:\", self.ram, f\"ЦПУ:\", self.cpu)\n"
      ],
      "metadata": {
        "id": "V-56T1vo0E70"
      },
      "execution_count": null,
      "outputs": []
    },
    {
      "cell_type": "code",
      "source": [
        "Item3 = Laptop(\"Lenovo\",1500.00,\"16 Gb\",\"40\")\n",
        "Item3.display_info()"
      ],
      "metadata": {
        "colab": {
          "base_uri": "https://localhost:8080/"
        },
        "id": "ruqzWphK01_w",
        "outputId": "c82d4fa2-eb51-49cb-9c27-c0d7362e6d7c"
      },
      "execution_count": null,
      "outputs": [
        {
          "output_type": "stream",
          "name": "stdout",
          "text": [
            "Бренд: Lenovo Цена: 1500.0 Количество: 0\n",
            "Память: 16 Gb ЦПУ: 40\n"
          ]
        }
      ]
    },
    {
      "cell_type": "code",
      "source": [
        "Item3.add(25)\n",
        "Item3.display_info()\n",
        "\n",
        "Item3.buy(50)\n",
        "Item3.display_info()\n",
        "\n",
        "Item3.buy(20)\n",
        "Item3.display_info()\n",
        "\n",
        "Item3.add(1200)\n",
        "Item3.display_info()\n",
        "\n",
        "Item3.max_capasity = 5000\n",
        "\n",
        "Item3.add(2000)\n",
        "Item3.display_info()"
      ],
      "metadata": {
        "colab": {
          "base_uri": "https://localhost:8080/"
        },
        "id": "GC1n1cBt8z8z",
        "outputId": "0d4958d6-f263-4ff1-ba11-dcc2cd3a425b"
      },
      "execution_count": null,
      "outputs": [
        {
          "output_type": "stream",
          "name": "stdout",
          "text": [
            "Бренд: Lenovo Цена: 1500.0 Количество: 25\n",
            "Память: 16 Gb ЦПУ: 40\n",
            "Ошибка! Нельзя продать больше, чем есть в наличии.\n",
            "Бренд: Lenovo Цена: 1500.0 Количество: 25\n",
            "Память: 16 Gb ЦПУ: 40\n",
            "Бренд: Lenovo Цена: 1500.0 Количество: 5\n",
            "Память: 16 Gb ЦПУ: 40\n",
            "Склад переполнен!\n",
            "Бренд: Lenovo Цена: 1500.0 Количество: 5\n",
            "Память: 16 Gb ЦПУ: 40\n",
            "Бренд: Lenovo Цена: 1500.0 Количество: 2005\n",
            "Память: 16 Gb ЦПУ: 40\n"
          ]
        }
      ]
    },
    {
      "cell_type": "code",
      "source": [
        "class Smartwatch(Electronics):\n",
        "\n",
        "  def __init__ (self, brand: str, price: float, battery_life: int, sport_mode: bool, max_capasity = 5000, cnt = 0):\n",
        "      super().__init__(brand, price, max_capasity, cnt)\n",
        "      self.battery_life = battery_life\n",
        "      self.sport_mode = sport_mode\n",
        "\n",
        "  def display_info (self):\n",
        "    super().display_info()\n",
        "    print(f\"Срок службы батареи:\", self.battery_life, f\"Спорт режим:\", self.sport_mode)\n"
      ],
      "metadata": {
        "id": "F3of430v1Dd9"
      },
      "execution_count": null,
      "outputs": []
    },
    {
      "cell_type": "code",
      "source": [
        "Item4 = Smartwatch(\"Swatch\",2000,240,True)\n",
        "Item4.display_info()"
      ],
      "metadata": {
        "colab": {
          "base_uri": "https://localhost:8080/"
        },
        "id": "p4zJsE1r1nhS",
        "outputId": "06e01291-4b21-4a14-f117-5944342bfb3b"
      },
      "execution_count": null,
      "outputs": [
        {
          "output_type": "stream",
          "name": "stdout",
          "text": [
            "Бренд: Swatch Цена: 2000 Количество: 0\n",
            "Срок службы батареи: 240 Спорт режим: True\n"
          ]
        }
      ]
    },
    {
      "cell_type": "code",
      "source": [
        "Item4.add(25)\n",
        "Item4.display_info()\n",
        "\n",
        "Item4.buy(50)\n",
        "Item4.display_info()"
      ],
      "metadata": {
        "colab": {
          "base_uri": "https://localhost:8080/"
        },
        "id": "hLLQRTQl9fav",
        "outputId": "ffc22df4-ee25-4b97-971c-50e02538c085"
      },
      "execution_count": null,
      "outputs": [
        {
          "output_type": "stream",
          "name": "stdout",
          "text": [
            "Бренд: Swatch Цена: 2000 Количество: 25\n",
            "Срок службы батареи: 240 Спорт режим: True\n",
            "Ошибка! Нельзя продать больше, чем есть в наличии.\n",
            "Бренд: Swatch Цена: 2000 Количество: 25\n",
            "Срок службы батареи: 240 Спорт режим: True\n"
          ]
        }
      ]
    },
    {
      "cell_type": "code",
      "source": [
        "class TV(Electronics):\n",
        "\n",
        "  def __init__ (self, brand: str, price: float, diagonal: int, smart_tv: bool, max_capasity = 500, cnt = 0):\n",
        "    super().__init__(brand, price, max_capasity, cnt)\n",
        "    self.diagonal = diagonal\n",
        "    self.smart_tv = smart_tv\n",
        "\n",
        "  def display_info (self):\n",
        "    super().display_info()\n",
        "    print(f\"Диагональ:\", self.diagonal, f\"Смарт TV:\", self.smart_tv)"
      ],
      "metadata": {
        "id": "tFY56PYn2QP8"
      },
      "execution_count": null,
      "outputs": []
    },
    {
      "cell_type": "code",
      "source": [
        "Item5 = TV(\"Sony\",1650,48,False)\n",
        "Item5.display_info()"
      ],
      "metadata": {
        "colab": {
          "base_uri": "https://localhost:8080/"
        },
        "id": "Xi3FYFDq2vfC",
        "outputId": "534deed6-b956-4b08-d091-c9e10ae85e1f"
      },
      "execution_count": null,
      "outputs": [
        {
          "output_type": "stream",
          "name": "stdout",
          "text": [
            "Бренд: Sony Цена: 1650 Количество: 0\n",
            "Диагональ: 48 Смарт TV: False\n"
          ]
        }
      ]
    },
    {
      "cell_type": "code",
      "source": [
        "Item5.add(5)\n",
        "Item5.display_info()\n",
        "\n",
        "Item5.buy(6)\n",
        "Item5.display_info()"
      ],
      "metadata": {
        "colab": {
          "base_uri": "https://localhost:8080/"
        },
        "id": "TFklaOAb9lD5",
        "outputId": "e8e0e9a8-38cb-47d4-e135-4d475b16ccb1"
      },
      "execution_count": null,
      "outputs": [
        {
          "output_type": "stream",
          "name": "stdout",
          "text": [
            "Бренд: Sony Цена: 1650 Количество: 5\n",
            "Диагональ: 48 Смарт TV: False\n",
            "Ошибка! Нельзя продать больше, чем есть в наличии.\n",
            "Бренд: Sony Цена: 1650 Количество: 5\n",
            "Диагональ: 48 Смарт TV: False\n"
          ]
        }
      ]
    },
    {
      "cell_type": "code",
      "source": [
        "class Courier:\n",
        "  def __init__(self,name: str):\n",
        "    self.name = name"
      ],
      "metadata": {
        "id": "P4vx4kHNrvn8"
      },
      "execution_count": null,
      "outputs": []
    },
    {
      "cell_type": "code",
      "source": [
        "class CarCourier(Courier):\n",
        "      def deliver(self, item):\n",
        "        print(f\"Курьер {self.name} доставляет {item} на машине.\")"
      ],
      "metadata": {
        "id": "XObCyJt9uDed"
      },
      "execution_count": null,
      "outputs": []
    },
    {
      "cell_type": "code",
      "source": [
        "class FootCourier(Courier):\n",
        "    \"\"\"\n",
        "    Курьер, доставляющий пешком\n",
        "    \"\"\"\n",
        "    def deliver(self, item):\n",
        "        return f\"Курьер {self.name} доставляет {item} пешком.\""
      ],
      "metadata": {
        "id": "3IbCrGS1wdlg"
      },
      "execution_count": null,
      "outputs": []
    },
    {
      "cell_type": "code",
      "source": [
        "def choose_courier(item):\n",
        "    if isinstance(item, (Laptop, TV)):\n",
        "        courier = CarCourier(\"Иван\")\n",
        "    elif isinstance(item, (Smartphone, Smartwatch)):\n",
        "        courier = FootCourier(\"Анна\")\n",
        "    else:\n",
        "        raise ValueError(\"Неизвестный тип товара.\")\n",
        "    return courier.deliver(item.__class__.__name__)"
      ],
      "metadata": {
        "id": "AGFfNcIPzjcw"
      },
      "execution_count": null,
      "outputs": []
    },
    {
      "cell_type": "code",
      "source": [
        "print(choose_courier(Item2))\n",
        "print(choose_courier(Item3))\n",
        "print(choose_courier(Item4))\n",
        "print(choose_courier(Item5))"
      ],
      "metadata": {
        "colab": {
          "base_uri": "https://localhost:8080/"
        },
        "id": "CRjIEtDkzoc_",
        "outputId": "84246803-3db8-488c-b1c4-2615750defab"
      },
      "execution_count": null,
      "outputs": [
        {
          "output_type": "stream",
          "name": "stdout",
          "text": [
            "Курьер Анна доставляет Smartphone пешком.\n",
            "Курьер Иван доставляет Laptop на машине.\n",
            "None\n",
            "Курьер Анна доставляет Smartwatch пешком.\n",
            "Курьер Иван доставляет TV на машине.\n",
            "None\n"
          ]
        }
      ]
    },
    {
      "cell_type": "code",
      "source": [
        "def calculate_total_cost(items, promo_code=None):\n",
        "    total_cost = sum(item.price * quantity for item, quantity in items)\n",
        "    if promo_code == \"DISCOUNT10\":\n",
        "        total_cost *= 0.9  # скидка 10%\n",
        "    return total_cost"
      ],
      "metadata": {
        "id": "H7zk5h0-lfpS"
      },
      "execution_count": null,
      "outputs": []
    },
    {
      "cell_type": "code",
      "source": [
        "items_to_buy = [(Item2, 2), (Item3, 1), (Item4, 3), (Item5, 1)]\n",
        "total_cost = calculate_total_cost(items_to_buy, promo_code=\"10\")\n",
        "print(f\"Общая стоимость покупки с учетом скидки: {total_cost} рублей\")\n"
      ],
      "metadata": {
        "colab": {
          "base_uri": "https://localhost:8080/"
        },
        "id": "wN8AacF6lgsa",
        "outputId": "33f1a0a3-4683-401c-ac34-067031fc8aa0"
      },
      "execution_count": null,
      "outputs": [
        {
          "output_type": "stream",
          "name": "stdout",
          "text": [
            "Общая стоимость покупки с учетом скидки: 10950.0 рублей\n"
          ]
        }
      ]
    }
  ]
}