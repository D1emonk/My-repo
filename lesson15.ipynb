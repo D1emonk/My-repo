{
  "nbformat": 4,
  "nbformat_minor": 0,
  "metadata": {
    "colab": {
      "provenance": [],
      "authorship_tag": "ABX9TyPTgtERsg9KU65QaneOvMUY",
      "include_colab_link": true
    },
    "kernelspec": {
      "name": "python3",
      "display_name": "Python 3"
    },
    "language_info": {
      "name": "python"
    }
  },
  "cells": [
    {
      "cell_type": "markdown",
      "metadata": {
        "id": "view-in-github",
        "colab_type": "text"
      },
      "source": [
        "<a href=\"https://colab.research.google.com/github/D1emonk/My-repo/blob/main/lesson15.ipynb\" target=\"_parent\"><img src=\"https://colab.research.google.com/assets/colab-badge.svg\" alt=\"Open In Colab\"/></a>"
      ]
    },
    {
      "cell_type": "markdown",
      "source": [
        "<h1> Среднеквадратичная ошибка (MSE)"
      ],
      "metadata": {
        "id": "uYhU4yK4-7EJ"
      }
    },
    {
      "cell_type": "code",
      "execution_count": null,
      "metadata": {
        "colab": {
          "base_uri": "https://localhost:8080/"
        },
        "id": "uxLMjV1a-nVp",
        "outputId": "f79b7290-061f-4fb8-fc9f-f4d402d7aec5"
      },
      "outputs": [
        {
          "output_type": "execute_result",
          "data": {
            "text/plain": [
              "0.875"
            ]
          },
          "metadata": {},
          "execution_count": 5
        }
      ],
      "source": [
        "import numpy as np\n",
        "import matplotlib.pyplot as plt\n",
        "\n",
        "y_true = np.array([3, 5, 2.5, 7])\n",
        "y_pred = np.array([2.5, 5, 4, 8])\n",
        "\n",
        "mse = np.mean((y_true - y_pred) ** 2)\n",
        "mse"
      ]
    },
    {
      "cell_type": "code",
      "source": [
        "import sklearn\n",
        "from sklearn.metrics import mean_squared_error\n",
        "\n",
        "y_true = np.array([3, 5, 2.5, 7])\n",
        "y_pred = np.array([2.5, 5, 4, 8])\n",
        "mean_squared_error(y_true, y_pred)"
      ],
      "metadata": {
        "colab": {
          "base_uri": "https://localhost:8080/"
        },
        "id": "hmuY3Vm-_Wyj",
        "outputId": "671caeaf-aafe-4e5d-a415-9103acdff987"
      },
      "execution_count": null,
      "outputs": [
        {
          "output_type": "execute_result",
          "data": {
            "text/plain": [
              "0.875"
            ]
          },
          "metadata": {},
          "execution_count": 3
        }
      ]
    },
    {
      "cell_type": "markdown",
      "source": [
        "<h1>Средняя абсолютная ошибка (MAE)"
      ],
      "metadata": {
        "id": "trCR3nzN_TW6"
      }
    },
    {
      "cell_type": "code",
      "source": [
        "y_true = np.array([3, 5, 2.5, 7])\n",
        "y_pred = np.array([2.5, 5, 4, 8])\n",
        "\n",
        "mse = np.mean(np.abs(y_true - y_pred))\n",
        "mse"
      ],
      "metadata": {
        "colab": {
          "base_uri": "https://localhost:8080/"
        },
        "id": "zLf9KLcbBtpT",
        "outputId": "12f02e9d-73c5-4703-f00f-55245c977ea8"
      },
      "execution_count": null,
      "outputs": [
        {
          "output_type": "execute_result",
          "data": {
            "text/plain": [
              "0.75"
            ]
          },
          "metadata": {},
          "execution_count": 8
        }
      ]
    },
    {
      "cell_type": "code",
      "source": [
        "from sklearn.metrics import mean_absolute_error\n",
        "y_true = np.array([3, 5, 2.5, 7])\n",
        "y_pred = np.array([2.5, 5, 4, 8])\n",
        "mean = mean_absolute_error(y_true, y_pred)\n",
        "mean"
      ],
      "metadata": {
        "colab": {
          "base_uri": "https://localhost:8080/"
        },
        "id": "O8XYS4s9DQ9N",
        "outputId": "c2d404f0-47e3-47d0-d6d6-b03cb5de86e6"
      },
      "execution_count": null,
      "outputs": [
        {
          "output_type": "execute_result",
          "data": {
            "text/plain": [
              "0.75"
            ]
          },
          "metadata": {},
          "execution_count": 25
        }
      ]
    },
    {
      "cell_type": "markdown",
      "source": [
        "<h1>Cross-Entropy Loss"
      ],
      "metadata": {
        "id": "VboitvjQDyV9"
      }
    },
    {
      "cell_type": "markdown",
      "source": [
        "<h2>Многоклассовая Cross-Entropy"
      ],
      "metadata": {
        "id": "ipNo6XfVdPew"
      }
    },
    {
      "cell_type": "code",
      "source": [
        "def cross_entropy(y_true, y_pred):\n",
        "    y_pred = np.clip(y_pred, 1e-7, 1)\n",
        "    return -np.mean(np.sum(y_true * np.log(y_pred), axis=1))\n",
        "\n",
        "y_true = np.array([[1, 0, 0], [0, 1, 0], [0, 0, 1]])\n",
        "y_pred = np.array([[0.9, 0.1, 0.0], [0.2, 0.7, 0.1], [0.1, 0.3, 0.6]])\n",
        "multiclass = cross_entropy(y_true, y_pred)\n",
        "multiclass"
      ],
      "metadata": {
        "colab": {
          "base_uri": "https://localhost:8080/"
        },
        "id": "_lpfuj-dDgHO",
        "outputId": "899853ad-42e0-4eb1-e085-c3c35acc31af"
      },
      "execution_count": null,
      "outputs": [
        {
          "output_type": "execute_result",
          "data": {
            "text/plain": [
              "0.3242870277875165"
            ]
          },
          "metadata": {},
          "execution_count": 23
        }
      ]
    },
    {
      "cell_type": "markdown",
      "source": [
        "<h2>Binary Cross-Entropy"
      ],
      "metadata": {
        "id": "MGVUj9N2dHR5"
      }
    },
    {
      "cell_type": "code",
      "source": [
        "def binary_cross_entropy(y_true, y_pred):\n",
        "    y_pred = np.clip(y_pred, 1e-7, 1 - 1e-7)  # Чтобы избежать log(0)\n",
        "    return -np.mean(y_true * np.log(y_pred) + (1 - y_true) * np.log(1 - y_pred))\n",
        "\n",
        "y_true = np.array([1, 0, 1])\n",
        "y_pred = np.array([0.9, 0.1, 0.8])\n",
        "binary = binary_cross_entropy(y_true, y_pred)\n",
        "binary"
      ],
      "metadata": {
        "colab": {
          "base_uri": "https://localhost:8080/"
        },
        "id": "G4nbTCB4dZwb",
        "outputId": "6c33f158-d684-4bfe-cf4e-3cf208248957"
      },
      "execution_count": null,
      "outputs": [
        {
          "output_type": "execute_result",
          "data": {
            "text/plain": [
              "0.14462152754328741"
            ]
          },
          "metadata": {},
          "execution_count": 24
        }
      ]
    },
    {
      "cell_type": "markdown",
      "source": [
        "<h1>F1-Score"
      ],
      "metadata": {
        "id": "T6DGR0mMdrEh"
      }
    },
    {
      "cell_type": "code",
      "source": [
        "from sklearn.metrics import f1_score\n",
        "\n",
        "y_true = [0, 1, 1, 0, 1]\n",
        "y_pred = [0, 1, 0, 0, 1]\n",
        "\n",
        "f1 = f1_score(y_true, y_pred, average='binary')\n",
        "f1"
      ],
      "metadata": {
        "colab": {
          "base_uri": "https://localhost:8080/"
        },
        "id": "Mjm-_E1rd0Tg",
        "outputId": "a164af52-6aad-4f3e-ae2b-67f1291de11d"
      },
      "execution_count": null,
      "outputs": [
        {
          "output_type": "execute_result",
          "data": {
            "text/plain": [
              "0.8"
            ]
          },
          "metadata": {},
          "execution_count": 16
        }
      ]
    },
    {
      "cell_type": "markdown",
      "source": [
        "<h1> Log Cosh Loss"
      ],
      "metadata": {
        "id": "V41wZ2cSeQTc"
      }
    },
    {
      "cell_type": "code",
      "source": [
        "def log_cosh_loss(y_true, y_pred):\n",
        "\n",
        "    y_true = np.array(y_true)\n",
        "    y_pred = np.array(y_pred)\n",
        "    error = y_pred - y_true\n",
        "    return np.mean(np.log(np.cosh(error)))\n",
        "\n",
        "    true_values = [3.0, -0.5, 2.0, 7.0]\n",
        "    predicted_values = [2.5, 0.0, 2.0, 8.0]\n",
        "\n",
        "    loss = log_cosh_loss(true_values, predicted_values)\n",
        "    loss"
      ],
      "metadata": {
        "id": "96goOMYlecnz"
      },
      "execution_count": null,
      "outputs": []
    },
    {
      "cell_type": "markdown",
      "source": [
        "<h1> Accuracy (Точность)"
      ],
      "metadata": {
        "id": "MarW3MrVip2J"
      }
    },
    {
      "cell_type": "code",
      "source": [
        "from sklearn.metrics import accuracy_score\n",
        "\n",
        "y_true = [0, 1, 1, 0, 1]\n",
        "y_pred = [0, 1, 0, 0, 1]\n",
        "\n",
        "accuracy = accuracy_score(y_true, y_pred)\n",
        "accuracy"
      ],
      "metadata": {
        "colab": {
          "base_uri": "https://localhost:8080/"
        },
        "id": "LLPf2jTRiqPy",
        "outputId": "111e42f0-80c5-4d29-fba9-481f0fae8562"
      },
      "execution_count": null,
      "outputs": [
        {
          "output_type": "execute_result",
          "data": {
            "text/plain": [
              "0.8"
            ]
          },
          "metadata": {},
          "execution_count": 31
        }
      ]
    },
    {
      "cell_type": "markdown",
      "source": [
        "<H1> Линейная регрессия"
      ],
      "metadata": {
        "id": "19_EhmDZstt6"
      }
    },
    {
      "cell_type": "code",
      "source": [
        "# Генерация случайных данных\n",
        "np.random.seed(42)\n",
        "X = np.random.rand(100, 3)\n",
        "y = 3*X[:, 0] + 2*X[:, 1] + 5*X[:, 2] + np.random.randn(100) * 0.5\n",
        "\n",
        "# Гиперпараметры\n",
        "learning_rate = 0.1\n",
        "num_epochs = 1000\n",
        "m, n = X.shape  # Количество примеров и признаков\n",
        "\n",
        "# Инициализация параметров\n",
        "W = np.random.randn(n)\n",
        "b = np.random.randn()\n",
        "\n",
        "# Градиентный спуск\n",
        "for epoch in range(num_epochs):\n",
        "    y_pred = X.dot(W) + b  # Предсказания\n",
        "    error = y_pred - y  # Ошибка\n",
        "\n",
        "    # Градиенты\n",
        "    dW = (2/m) * X.T.dot(error)\n",
        "    db = (2/m) * np.sum(error)\n",
        "\n",
        "    # Обновление параметров\n",
        "    W -= learning_rate * dW\n",
        "    b -= learning_rate * db\n",
        "\n",
        "    # Вывод ошибки каждые 100 итераций\n",
        "    if epoch % 100 == 0:\n",
        "        loss = np.mean(error ** 2)\n",
        "        print(f'Epoch {epoch}: Loss = {loss:.4f}')\n",
        "\n",
        "# Вывод итоговых параметров\n",
        "print(\"Optimized Weights:\", W)\n",
        "print(\"Optimized Bias:\", b)\n",
        "\n",
        "#Визуализация процесса обучения\n",
        "loss_history = []\n",
        "\n",
        "for epoch in range(num_epochs):\n",
        "    y_pred = X.dot(W) + b\n",
        "    error = y_pred - y\n",
        "    loss = np.mean(error ** 2)\n",
        "    loss_history.append(loss)\n",
        "\n",
        "    dW = (2/m) * X.T.dot(error)\n",
        "    db = (2/m) * np.sum(error)\n",
        "\n",
        "    W -= learning_rate * dW\n",
        "    b -= learning_rate * db\n",
        "\n",
        "plt.plot(range(num_epochs), loss_history)\n",
        "plt.xlabel('Эпохи')\n",
        "plt.ylabel('MSE')\n",
        "plt.title('График уменьшения ошибки')\n",
        "plt.show()"
      ],
      "metadata": {
        "colab": {
          "base_uri": "https://localhost:8080/",
          "height": 708
        },
        "id": "oUiGceDNstGI",
        "outputId": "27ccfcb1-3366-4628-ef45-83f9040ff5d1"
      },
      "execution_count": null,
      "outputs": [
        {
          "output_type": "stream",
          "name": "stdout",
          "text": [
            "Epoch 0: Loss = 27.4740\n",
            "Epoch 100: Loss = 0.3719\n",
            "Epoch 200: Loss = 0.2524\n",
            "Epoch 300: Loss = 0.2336\n",
            "Epoch 400: Loss = 0.2307\n",
            "Epoch 500: Loss = 0.2302\n",
            "Epoch 600: Loss = 0.2301\n",
            "Epoch 700: Loss = 0.2301\n",
            "Epoch 800: Loss = 0.2301\n",
            "Epoch 900: Loss = 0.2301\n",
            "Optimized Weights: [3.13879008 1.92099456 5.28497382]\n",
            "Optimized Bias: -0.13220087581184858\n"
          ]
        },
        {
          "output_type": "display_data",
          "data": {
            "text/plain": [
              "<Figure size 640x480 with 1 Axes>"
            ],
            "image/png": "[encoded data removed]"
          },
          "metadata": {}
        }
      ]
    }
  ]
}