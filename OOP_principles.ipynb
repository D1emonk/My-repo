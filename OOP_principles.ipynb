{
  "nbformat": 4,
  "nbformat_minor": 0,
  "metadata": {
    "colab": {
      "provenance": [],
      "authorship_tag": "ABX9TyMJwsJQROEiA5XXwzZVlgZ2",
      "include_colab_link": true
    },
    "kernelspec": {
      "name": "python3",
      "display_name": "Python 3"
    },
    "language_info": {
      "name": "python"
    }
  },
  "cells": [
    {
      "cell_type": "markdown",
      "metadata": {
        "id": "view-in-github",
        "colab_type": "text"
      },
      "source": [
        "<a href=\"https://colab.research.google.com/github/D1emonk/My-repo/blob/dev/OOP_principles.ipynb\" target=\"_parent\"><img src=\"https://colab.research.google.com/assets/colab-badge.svg\" alt=\"Open In Colab\"/></a>"
      ]
    },
    {
      "cell_type": "markdown",
      "source": [
        "#Основные принципы ООП\n",
        "\n",
        "\n",
        "---\n",
        "\n",
        "\n",
        "1. Инкапсуляция (Encapsulation)\n",
        "Инкапсуляция подразумевает сокрытие внутренней реализации объекта и предоставление интерфейса для взаимодействия с ним. В Python инкапсуляция достигается через использование методов и атрибутов объекта.\n",
        "\n",
        "Пример: В Python можно объявить атрибуты как приватные (с использованием двойного подчеркивания, например, __private_attr), чтобы их нельзя было напрямую изменить извне, или с помощью геттеров и сеттеров."
      ],
      "metadata": {
        "id": "PkvsvcxpMdZ-"
      }
    },
    {
      "cell_type": "code",
      "source": [
        "class Car:\n",
        "    def __init__(self, make, model):\n",
        "        self.make = make\n",
        "        self.model = model\n",
        "        self.__mileage = 0  # Приватный атрибут\n",
        "\n",
        "    def drive(self, miles):\n",
        "        self.__mileage += miles\n",
        "\n",
        "    def get_mileage(self):\n",
        "        return self.__mileage\n",
        "\n",
        "car = Car(\"Toyota\", \"Corolla\")\n",
        "car.drive(100)\n",
        "print(car.get_mileage())"
      ],
      "metadata": {
        "colab": {
          "base_uri": "https://localhost:8080/"
        },
        "id": "YymgRVAnNBr1",
        "outputId": "0b42a033-6acd-4eb8-b093-16b57559f92f"
      },
      "execution_count": 3,
      "outputs": [
        {
          "output_type": "stream",
          "name": "stdout",
          "text": [
            "100\n"
          ]
        }
      ]
    },
    {
      "cell_type": "markdown",
      "source": [
        "2. Наследование (Inheritance)\n",
        "Наследование позволяет создавать новый класс на основе существующего, повторно используя его код. Класс-наследник может переопределять методы родительского класса или расширять их."
      ],
      "metadata": {
        "id": "weJ54Yz7NTKk"
      }
    },
    {
      "cell_type": "code",
      "source": [
        "class Animal:\n",
        "    def speak(self):\n",
        "        print(\"Animal speaks\")\n",
        "\n",
        "class Dog(Animal):\n",
        "    def speak(self):  # Переопределение метода\n",
        "        print(\"Woof!\")\n",
        "\n",
        "dog = Dog()\n",
        "dog.speak()"
      ],
      "metadata": {
        "colab": {
          "base_uri": "https://localhost:8080/"
        },
        "id": "kGKxnPGkNayu",
        "outputId": "9fa788b6-d033-41e3-de98-7d6788582ffb"
      },
      "execution_count": 2,
      "outputs": [
        {
          "output_type": "stream",
          "name": "stdout",
          "text": [
            "Woof!\n"
          ]
        }
      ]
    },
    {
      "cell_type": "markdown",
      "source": [
        "3. Полиморфизм (Polymorphism)\n",
        "Полиморфизм позволяет использовать объекты разных классов через одинаковый интерфейс. Это означает, что один и тот же метод может работать с разными типами объектов."
      ],
      "metadata": {
        "id": "hb4PM3DrNiEW"
      }
    },
    {
      "cell_type": "code",
      "source": [
        "class Cat(Animal):\n",
        "    def speak(self):\n",
        "        print(\"Meow!\")\n",
        "\n",
        "animals = [Dog(), Cat()]\n",
        "for animal in animals:\n",
        "    animal.speak()"
      ],
      "metadata": {
        "colab": {
          "base_uri": "https://localhost:8080/"
        },
        "id": "-GkQvBCONmmI",
        "outputId": "a06581d9-b3e0-412c-ab14-52c87b362141"
      },
      "execution_count": 4,
      "outputs": [
        {
          "output_type": "stream",
          "name": "stdout",
          "text": [
            "Woof!\n",
            "Meow!\n"
          ]
        }
      ]
    },
    {
      "cell_type": "markdown",
      "source": [
        "4. Абстракция (Abstraction)\n",
        "Абстракция скрывает сложные детали реализации и предоставляет пользователю интерфейс, через который можно взаимодействовать с объектом. В Python абстракция достигается через абстрактные классы и методы."
      ],
      "metadata": {
        "id": "J1miWSM6Nuj0"
      }
    },
    {
      "cell_type": "code",
      "source": [
        "from abc import ABC, abstractmethod\n",
        "\n",
        "class Animal(ABC):\n",
        "    @abstractmethod\n",
        "    def speak(self):\n",
        "        pass\n",
        "\n",
        "class Dog(Animal):\n",
        "    def speak(self):\n",
        "        print(\"Woof!\")\n",
        "\n",
        "dog = Dog()\n",
        "dog.speak()"
      ],
      "metadata": {
        "colab": {
          "base_uri": "https://localhost:8080/"
        },
        "id": "aLuGSOU-NxMT",
        "outputId": "8906c2fe-b706-4928-c91f-d9a1d2deb54f"
      },
      "execution_count": 1,
      "outputs": [
        {
          "output_type": "stream",
          "name": "stdout",
          "text": [
            "Woof!\n"
          ]
        }
      ]
    },
    {
      "cell_type": "markdown",
      "source": [
        "Здесь класс Animal является абстрактным, и нельзя создать экземпляр этого класса напрямую. Он служит для создания общих интерфейсов для других классов.\n",
        "\n",
        "Преимущества ООП в Python:\n",
        "Повторное использование кода: через наследование.\n",
        "Упрощение модульности: каждый класс решает свою задачу.\n",
        "Гибкость и масштабируемость: легко добавлять новые классы и методы.\n",
        "ООП помогает организовать код в структурированном виде, что облегчает его поддержку и расширение."
      ],
      "metadata": {
        "id": "0ciHrwjSN8Xl"
      }
    }
  ]
}