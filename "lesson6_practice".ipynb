{
  "cells": [
    {
      "cell_type": "markdown",
      "metadata": {
        "id": "view-in-github",
        "colab_type": "text"
      },
      "source": [
        "<a href=\"https://colab.research.google.com/github/D1emonk/My-repo/blob/main/%22lesson6_practice%22.ipynb\" target=\"_parent\"><img src=\"https://colab.research.google.com/assets/colab-badge.svg\" alt=\"Open In Colab\"/></a>"
      ]
    },
    {
      "cell_type": "code",
      "source": [
        "# Задача 1\n",
        "# Функции для разделения строки и преобразования ее в список слов\n",
        "text = \"Robin Singh\"\n",
        "print(text.split())"
      ],
      "metadata": {
        "colab": {
          "base_uri": "https://localhost:8080/"
        },
        "id": "GioOLDoifUnc",
        "outputId": "e025adc8-b9a6-4e53-a605-82a8c98eb337"
      },
      "execution_count": null,
      "outputs": [
        {
          "output_type": "stream",
          "name": "stdout",
          "text": [
            "['Robin', 'Singh']\n"
          ]
        }
      ]
    },
    {
      "cell_type": "code",
      "source": [
        "# Задача 2\n",
        "import math\n",
        "time = 3\n",
        "def litres(time):\n",
        "    return math.floor(time * 0.5) # Функция для округления вниз до ближайшего целого числа.\n",
        "print(litres(time))"
      ],
      "metadata": {
        "colab": {
          "base_uri": "https://localhost:8080/"
        },
        "id": "BgMkfvBKhIGw",
        "outputId": "72c1e96a-1ae5-4209-b24b-afca0ddbb2e1"
      },
      "execution_count": null,
      "outputs": [
        {
          "output_type": "stream",
          "name": "stdout",
          "text": [
            "1\n"
          ]
        }
      ]
    },
    {
      "cell_type": "code",
      "source": [
        "# Задача 3\n",
        "n = 5\n",
        "def sequence(n):\n",
        "  if n > 0:\n",
        "    return list(range(n, 0, -1))\n",
        "print(sequence(n))"
      ],
      "metadata": {
        "colab": {
          "base_uri": "https://localhost:8080/"
        },
        "id": "3h5adTfFgThq",
        "outputId": "cd170329-7256-4b93-c34d-8658ee3cc8b3"
      },
      "execution_count": null,
      "outputs": [
        {
          "output_type": "stream",
          "name": "stdout",
          "text": [
            "[5, 4, 3, 2, 1]\n"
          ]
        }
      ]
    },
    {
      "cell_type": "code",
      "source": [
        "# Задача 4\n",
        "a = [1980, 1540, 2025]\n",
        "def year(n):\n",
        "  if n <= 0:\n",
        "    raise ValueError(\"Год не должен быть 0\")\n",
        "  century = (n-1) // 100 + 1\n",
        "  return century\n",
        "for n in a:\n",
        "  print(f\"{n} Это {year(n)} век.\")"
      ],
      "metadata": {
        "colab": {
          "base_uri": "https://localhost:8080/"
        },
        "id": "m3oy_iwdnbu8",
        "outputId": "745a7dab-9938-40c2-e01c-53038ae161e2"
      },
      "execution_count": null,
      "outputs": [
        {
          "output_type": "stream",
          "name": "stdout",
          "text": [
            "1980 Это 20 век.\n",
            "1540 Это 16 век.\n",
            "2025 Это 21 век.\n"
          ]
        }
      ]
    },
    {
      "cell_type": "code",
      "source": [
        "# Задача 5\n",
        "def digit(n):\n",
        "    # Cоздает новый список, добавляя каждое преобразованное число в него\n",
        "    digits = [int(i) for i in str(n)]\n",
        "    # Изменения порядка списка на месте\n",
        "    digits.reverse()\n",
        "    return digits\n",
        "print(digit(35231))"
      ],
      "metadata": {
        "colab": {
          "base_uri": "https://localhost:8080/"
        },
        "id": "Itm1W1AFyuAe",
        "outputId": "b3d3b99a-eb90-4947-e445-b454f21e7e25"
      },
      "execution_count": 13,
      "outputs": [
        {
          "output_type": "stream",
          "name": "stdout",
          "text": [
            "[1, 3, 2, 5, 3]\n"
          ]
        }
      ]
    },
    {
      "cell_type": "code",
      "source": [
        "# Задача 6.1\n",
        "matrix = [[0, 0, 0], [0, 0, 0], [0, 0, 0]]\n",
        "count = 0\n",
        "# Внешний цикл проходит по индексам столбцов\n",
        "for i in range(len(matrix)):\n",
        "   # Внутренний цикл проходит по индексам строк\n",
        "  for j in range(len(matrix)):\n",
        "      count += 1 # Увеличиваем счётчик на 1\n",
        "      if i % 2 == 0: # Если индекс столбца чётный\n",
        "          matrix[j][i] = count # Заполняем столбец сверху вниз\n",
        "      else:\n",
        "          matrix[abs(j - 2)][i] = count # Заполняем столбец снизу вверх\n",
        "\n",
        "for i in matrix: print(i)"
      ],
      "metadata": {
        "colab": {
          "base_uri": "https://localhost:8080/"
        },
        "id": "XxljgokP3Jzk",
        "outputId": "d17e6c5e-e0d1-460b-b381-5aaf1a58123b"
      },
      "execution_count": 12,
      "outputs": [
        {
          "output_type": "stream",
          "name": "stdout",
          "text": [
            "[1, 6, 7]\n",
            "[2, 5, 8]\n",
            "[3, 4, 9]\n"
          ]
        }
      ]
    },
    {
      "cell_type": "code",
      "source": [
        "# Задача 6.2\n",
        "matrix = [[0, 0, 0], [0, 0, 0], [0, 0, 0]]\n",
        "count = 0\n",
        "# Внешний цикл проходит по индексам столбцов\n",
        "for i in range(len(matrix)):\n",
        "   # Внутренний цикл проходит по индексам строк\n",
        "  for j in range(len(matrix)):\n",
        "      count += 1 # Увеличиваем счётчик на 1\n",
        "      if i % 2 == 0: # Если индекс столбца чётный\n",
        "          matrix[i][j] = count # Заполняем столбец сверху вниз\n",
        "      else:\n",
        "          matrix[i][abs(j - 2)] = count # Заполняем столбец снизу вверх\n",
        "\n",
        "for i in matrix: print(i)"
      ],
      "metadata": {
        "colab": {
          "base_uri": "https://localhost:8080/"
        },
        "id": "H-OHV0Pe4ljT",
        "outputId": "6921e9d5-0f78-4125-9cbb-b381ca56635d"
      },
      "execution_count": 14,
      "outputs": [
        {
          "output_type": "stream",
          "name": "stdout",
          "text": [
            "[1, 2, 3]\n",
            "[6, 5, 4]\n",
            "[7, 8, 9]\n"
          ]
        }
      ]
    },
    {
      "cell_type": "code",
      "source": [],
      "metadata": {
        "id": "nzHi1Q2X47DB"
      },
      "execution_count": null,
      "outputs": []
    },
    {
      "cell_type": "code",
      "source": [],
      "metadata": {
        "id": "RrpA3OBr467l"
      },
      "execution_count": null,
      "outputs": []
    },
    {
      "cell_type": "code",
      "source": [
        "numbers_1 = [1, 2, 3, 4, 5]\n",
        "numbers_2 = [6, 7, 8, 9, 10]\n",
        "squares_1 = list(map(lambda x: x**2, numbers_1))\n",
        "squares_2 = list(map(lambda y: y**2, numbers_2))\n",
        "print(squares_1, squares_2)"
      ],
      "metadata": {
        "colab": {
          "base_uri": "https://localhost:8080/"
        },
        "id": "TQmkl9gGcSvb",
        "outputId": "0cb6c072-e70e-47ae-a757-e26f68e21c2b"
      },
      "execution_count": null,
      "outputs": [
        {
          "output_type": "stream",
          "name": "stdout",
          "text": [
            "[1, 4, 9, 16, 25] [36, 49, 64, 81, 100]\n"
          ]
        }
      ]
    },
    {
      "cell_type": "code",
      "source": [
        "# Задача: Есть массив который нужно отсортировать нестандартным способом\n",
        "def recursive_sort(arr):\n",
        "\n",
        "      # Сортирует массив с использованием рекурсии.\n",
        "\n",
        "     def sort_once(a, n):\n",
        "        if n == 1: #  Если остался один элемент, массив считается отсортированным\n",
        "            return a\n",
        "        for i in range(n - 1): # Проходим по массиву до элемента n-1\n",
        "            if a[i] > a[i + 1]: # Если текущий элемент больше следующего, меняем их местами\n",
        "                a[i], a[i + 1] = a[i + 1], a[i]\n",
        "        return sort_once(a, n - 1) # Вызываем функцию снова, уменьшая размер массива (n)\n",
        "\n",
        "     return sort_once(arr, len(arr)) # Запуск вспомогательной функции с изначальным размером массива\n",
        "\n",
        "array = [5, 2, 9, 1, 5, 6]\n",
        "sorted_array = recursive_sort(array)\n",
        "print(sorted_array)"
      ],
      "metadata": {
        "colab": {
          "base_uri": "https://localhost:8080/"
        },
        "id": "gWELorqeoBUC",
        "outputId": "76c93fc1-0ae7-48b1-f0aa-31aa9dd2efd6"
      },
      "execution_count": null,
      "outputs": [
        {
          "output_type": "stream",
          "name": "stdout",
          "text": [
            "[1, 2, 5, 5, 6, 9]\n"
          ]
        }
      ]
    },
    {
      "cell_type": "code",
      "source": [
        "# Написать функцию, вычисляющее значение функции при х = 1.79\n",
        "import math\n",
        "\n",
        "def calculate_function(x):\n",
        "    y = (\n",
        "        (math.cos(math.exp(x)) + math.log(1 + x)**2)**2 +\n",
        "        math.sqrt(math.exp(math.cos(x) + math.sin(2 / (math.pi * x))\n",
        "        + math.sqrt(1 / x + math.cos(x)**2))) * math.sin(x)\n",
        "    )\n",
        "    return y\n",
        "\n",
        "# Вычисление для x = 1.79\n",
        "x = 1.79\n",
        "result = calculate_function(x)\n",
        "print(result)"
      ],
      "metadata": {
        "colab": {
          "base_uri": "https://localhost:8080/"
        },
        "id": "Rz5Z04J_wa9Z",
        "outputId": "872590df-7bce-44cb-c59f-3fafb24ab8fb"
      },
      "execution_count": null,
      "outputs": [
        {
          "output_type": "stream",
          "name": "stdout",
          "text": [
            "5.577645860635992\n"
          ]
        }
      ]
    },
    {
      "cell_type": "code",
      "source": [
        "def search_substr(subst, st):\n",
        "    # Приводим обе строки к нижнему регистру для игнорирования регистра\n",
        "    if subst.lower() in st.lower():\n",
        "        return \"Есть контакт!\"\n",
        "    else:\n",
        "        return \"Мимо!\"\n",
        "\n",
        "# Пример использования\n",
        "print(search_substr(\"Привет\", \"Ну, привет, мир!\"))  # True\n",
        "print(search_substr(\"пока\", \"Ну, привет, мир!\"))    # False"
      ],
      "metadata": {
        "colab": {
          "base_uri": "https://localhost:8080/"
        },
        "id": "uc8O-Tdk2mhG",
        "outputId": "36f93e8a-52b4-4c45-d85a-6179868936f1"
      },
      "execution_count": null,
      "outputs": [
        {
          "output_type": "stream",
          "name": "stdout",
          "text": [
            "Есть контакт!\n",
            "Мимо!\n"
          ]
        }
      ]
    },
    {
      "cell_type": "code",
      "source": [
        "# Определить 3 наиболее часто встречаемых символа\n",
        "from collections import Counter\n",
        "\n",
        "def character(input_string):\n",
        "\n",
        "    # Удаляем пробелы из строки\n",
        "    filtered_string = input_string.replace(\" \", \"\")\n",
        "\n",
        "    # Используем Counter для подсчета вхождений каждого символа\n",
        "    char_count = Counter(filtered_string)\n",
        "\n",
        "    # Получаем три самых частых символа\n",
        "    top_three = char_count.most_common(3)\n",
        "\n",
        "    return top_three\n",
        "\n",
        "# Пример использования функции\n",
        "input_string = \"Задание номер три\"\n",
        "result = character(input_string)\n",
        "print(result)"
      ],
      "metadata": {
        "colab": {
          "base_uri": "https://localhost:8080/"
        },
        "id": "OKROO-Pp5Myd",
        "outputId": "8ef7e715-3e9b-40e0-e4b4-409329e97bf1"
      },
      "execution_count": null,
      "outputs": [
        {
          "output_type": "stream",
          "name": "stdout",
          "text": [
            "[('а', 2), ('н', 2), ('и', 2)]\n"
          ]
        }
      ]
    },
    {
      "cell_type": "code",
      "source": [
        "# Создать словарь, который в качестве ключей будет принимать числа от 0 до 9\n",
        "# Функция принимает строку из цифр и возвращает словарь из 3 самых часто встречающихся чисел.\n",
        "def count_it(sequence):\n",
        "\n",
        "    # Проверяем, что входные данные являются строкой\n",
        "    if not isinstance(sequence, str):\n",
        "        raise ValueError(\"Аргумент должен быть строкой\")\n",
        "\n",
        "    # Создаем пустой словарь для подсчета\n",
        "    counts = {}\n",
        "\n",
        "    # Проходим по каждому символу в строке\n",
        "    for char in sequence:\n",
        "        if char.isdigit():  # Убедимся, что символ — это цифра\n",
        "            num = int(char)  # Преобразуем символ в число\n",
        "            counts[num] = counts.get(num, 0) + 1  # Увеличиваем счетчик для этого числа\n",
        "\n",
        "    # Сортируем словарь по значениям (количеству повторений) в порядке убывания\n",
        "    sorted_counts = sorted(counts.items(), key=lambda item: item[1], reverse=True)\n",
        "\n",
        "    # Возвращаем словарь из 3 самых частых элементов\n",
        "    return dict(sorted_counts[:3])\n",
        "\n",
        "# Пример использования\n",
        "sequence = \"123456789012345678901234567890\"\n",
        "result = count_it(sequence)\n",
        "print(result)"
      ],
      "metadata": {
        "colab": {
          "base_uri": "https://localhost:8080/"
        },
        "id": "zj81R4DjZ3qB",
        "outputId": "9498108f-8fe9-434f-9422-8b49c2442c6e"
      },
      "execution_count": null,
      "outputs": [
        {
          "output_type": "stream",
          "name": "stdout",
          "text": [
            "{1: 3, 2: 3, 3: 3}\n"
          ]
        }
      ]
    },
    {
      "cell_type": "code",
      "source": [],
      "metadata": {
        "id": "1hR6iMCRCQh5"
      },
      "execution_count": null,
      "outputs": []
    },
    {
      "cell_type": "code",
      "source": [
        "# Определяем функцию для умножения на 2 и возведения в квадрат\n",
        "def process_number(x):\n",
        "    power = x*2\n",
        "    return power ** power\n",
        "\n",
        "# Исходный список чисел\n",
        "numbers = [1, 2, 3, 4, 5]\n",
        "\n",
        "# Используем map с нашей функцией\n",
        "result = list(map(process_number, numbers))\n",
        "\n",
        "print(\"Результат:\", result)"
      ],
      "metadata": {
        "colab": {
          "base_uri": "https://localhost:8080/"
        },
        "id": "FSlrdM5mAFFU",
        "outputId": "07affe4d-fb88-4bfd-bfed-7520d4222bce"
      },
      "execution_count": null,
      "outputs": [
        {
          "output_type": "stream",
          "name": "stdout",
          "text": [
            "Результат: [4, 256, 46656, 16777216, 10000000000]\n"
          ]
        }
      ]
    },
    {
      "cell_type": "code",
      "source": [
        "# Исходный список чисел\n",
        "numbers = [1, 2, 3, 4, 5, 6, 7]\n",
        "\n",
        "# Используем filter, чтобы отобрать числа больше 4\n",
        "ocenki = list(filter(lambda x: x > 4, numbers))\n",
        "\n",
        "# Считаем среднее значение отобранных чисел\n",
        "if ocenki:  # Проверяем, что список не пустой\n",
        "    avg = sum(ocenki) / len(ocenki)\n",
        "else:\n",
        "    avg = 0  # Если список пуст, среднее равно 0\n",
        "\n",
        "print(\"Числа больше 4:\", ocenki)\n",
        "print(\"Среднее значение:\", avg)"
      ],
      "metadata": {
        "colab": {
          "base_uri": "https://localhost:8080/"
        },
        "id": "ePWoVZSOxv4t",
        "outputId": "4c2020bb-a672-4eb6-dc11-4374813dc6a1"
      },
      "execution_count": null,
      "outputs": [
        {
          "output_type": "stream",
          "name": "stdout",
          "text": [
            "Числа больше 4: [5, 6, 7]\n",
            "Среднее значение: 6.0\n"
          ]
        }
      ]
    },
    {
      "cell_type": "code",
      "source": [
        "a = {}\n",
        "b = []\n",
        "c = ()"
      ],
      "metadata": {
        "id": "eZASuw5Zqn98"
      },
      "execution_count": null,
      "outputs": []
    },
    {
      "cell_type": "code",
      "source": [
        "# Создание матрицы 3х3\n",
        "matrix = [\n",
        "    [1, 2, 3],\n",
        "    [4, 5, 6],\n",
        "    [7, 8, 9]\n",
        "]\n",
        "# Изменение нечетных строк и нечетных столбцов на *\n",
        "for i in range(3):  # Перебираем строки\n",
        "    for j in range(3):  # Перебираем столбцы\n",
        "        if i % 2 == 0 and j % 2 == 0:  # Нечетные строки и столбцы (индексация с 0)\n",
        "            matrix[i][j] = '*'\n",
        "\n",
        "# Вывод матрицы\n",
        "for row in matrix:\n",
        "    print(row)"
      ],
      "metadata": {
        "colab": {
          "base_uri": "https://localhost:8080/"
        },
        "id": "o70QUCPtq30i",
        "outputId": "051a40fa-cb0b-425f-8b0a-8d32d196846f"
      },
      "execution_count": null,
      "outputs": [
        {
          "output_type": "stream",
          "name": "stdout",
          "text": [
            "['*', 2, '*']\n",
            "[4, 5, 6]\n",
            "['*', 8, '*']\n"
          ]
        }
      ]
    },
    {
      "cell_type": "code",
      "source": [
        "# Подключение библиотеки sympy\n",
        "from sympy import symbols, Eq, solve\n",
        "# Определение переменных\n",
        "y, z, x, b = symbols(\"y, z, x, b\")\n",
        "# Уравнение 1\n",
        "equation_1 = Eq(y**2 - 12*y + 20, 0) # Создание уравнения\n",
        "solution_1 = solve(equation_1, y) # Решение уравнения\n",
        "print(\"Уравнение 1 решения:\", solution_1)\n",
        "# Уравнение 2\n",
        "equation_2 = Eq(z**2 + 17*z + 72, 0)\n",
        "solution_2 = solve(equation_2, z)\n",
        "print(\"Уравнение 2 решения:\", solution_2)\n",
        "# Уравнение 3\n",
        "equation_3 = Eq(x**2 - 7*x - 44, 0)\n",
        "solution_3 = solve(equation_3, x)\n",
        "print(\"Уравнение 3 решения:\", solution_3)\n",
        "# Уравнение 4\n",
        "equation_4 = Eq(y**2 + 9*y + 8, 0)\n",
        "solution_4 = solve(equation_4, y)\n",
        "print(\"Уравнение 3 решения:\", solution_4)\n",
        "# Уравнение 5\n",
        "equation_5 = Eq(b**2 - 2*b - 63, 0)\n",
        "solution_5 = solve(equation_5, b)\n",
        "print(\"Уравнение 3 решения:\", solution_5)\n",
        "# Уравнение 6\n",
        "u = symbols('u') # Заменяем Х^2-8 на u\n",
        "equation_6 = Eq(u**2 + 4*u - 5, 0)\n",
        "solution_6 = solve(equation_6, u)\n",
        "print(\"Уравнение 3 решения:\", solution_6)\n",
        "\n",
        "\n"
      ],
      "metadata": {
        "id": "avjge5MAndnS",
        "colab": {
          "base_uri": "https://localhost:8080/"
        },
        "outputId": "fd599e92-5567-4e8d-b109-e55b309d1603"
      },
      "execution_count": null,
      "outputs": [
        {
          "output_type": "stream",
          "name": "stdout",
          "text": [
            "Уравнение 1 решения: [2, 10]\n",
            "Уравнение 2 решения: [-9, -8]\n",
            "Уравнение 3 решения: [-4, 11]\n",
            "Уравнение 3 решения: [-8, -1]\n",
            "Уравнение 3 решения: [-7, 9]\n",
            "Уравнение 3 решения: [-5, 1]\n"
          ]
        }
      ]
    },
    {
      "cell_type": "code",
      "source": [
        "my_list = [1, 2, 3, 4, 5]\n",
        "my_list.reverse()\n",
        "print(my_list)"
      ],
      "metadata": {
        "id": "4OLgq6_qsZte",
        "colab": {
          "base_uri": "https://localhost:8080/"
        },
        "outputId": "f9ba0417-c811-45f0-e8c1-c56e4d3cbe3d"
      },
      "execution_count": null,
      "outputs": [
        {
          "output_type": "stream",
          "name": "stdout",
          "text": [
            "[5, 4, 3, 2, 1]\n"
          ]
        }
      ]
    },
    {
      "cell_type": "code",
      "source": [
        "def change(lst): # определение функции Change\n",
        "    if len(lst) < 2: # Массив должен состоять из 2 и более элементов\n",
        "        raise ValueError(\"Список должен содержать минимум 2 элемента.\")\n",
        "\n",
        "    # Меняем местами первый и последний элементы\n",
        "    lst[0], lst[-1] = lst[-1], lst[0]\n",
        "    return lst\n",
        "lst = [1, 2, 3, 4, 5]\n",
        "result = change(lst)\n",
        "print(result)\n",
        "\n",
        "def useless(s):\n",
        "    if not s:\n",
        "        raise ValueError(\"Список не должен быть пустым.\")\n",
        "\n",
        "    max_value = max(s)  # Находим максимальное значение в списке\n",
        "    length = len(s)     # Находим длину списка\n",
        "    return max_value / length  # Делим максимальное значение на длину списка\n",
        "s = [10, 20, 30, 40]\n",
        "useless_value = useless(s)\n",
        "print(useless_value)"
      ],
      "metadata": {
        "colab": {
          "base_uri": "https://localhost:8080/"
        },
        "id": "PtY-jErN5Zq0",
        "outputId": "adb7a627-3928-4974-e65f-ca2f62df574b"
      },
      "execution_count": null,
      "outputs": [
        {
          "output_type": "stream",
          "name": "stdout",
          "text": [
            "[5, 2, 3, 4, 1]\n",
            "10.0\n"
          ]
        }
      ]
    },
    {
      "cell_type": "code",
      "source": [],
      "metadata": {
        "id": "NUjEnt_EQwc6"
      },
      "execution_count": null,
      "outputs": []
    },
    {
      "cell_type": "code",
      "source": [
        "d = set()"
      ],
      "metadata": {
        "id": "lQ894a4nfGNl"
      },
      "execution_count": null,
      "outputs": []
    },
    {
      "cell_type": "code",
      "source": [
        "print(type(a))\n"
      ],
      "metadata": {
        "colab": {
          "base_uri": "https://localhost:8080/"
        },
        "id": "5_P6Hz0UeVeG",
        "outputId": "278dc0f9-8f4d-48e6-d4bd-268f0920ca79"
      },
      "execution_count": null,
      "outputs": [
        {
          "output_type": "stream",
          "name": "stdout",
          "text": [
            "<class 'dict'>\n"
          ]
        }
      ]
    },
    {
      "cell_type": "code",
      "source": [],
      "metadata": {
        "id": "eSQwFA_4qxYN"
      },
      "execution_count": null,
      "outputs": []
    },
    {
      "cell_type": "markdown",
      "source": [
        "\n",
        "\n",
        "```\n",
        "# Выбран кодовый формат\n",
        "```\n",
        "\n",
        "# Lesson 3. Python Basics (types and structures)."
      ],
      "metadata": {
        "collapsed": false,
        "id": "vRTTHs8rO4ks"
      }
    },
    {
      "cell_type": "markdown",
      "source": [
        "## Математические операторы"
      ],
      "metadata": {
        "collapsed": false,
        "id": "Hxt-y-rDO4kw"
      }
    },
    {
      "cell_type": "code",
      "execution_count": null,
      "outputs": [],
      "source": [
        "a = 5\n",
        "b = 7"
      ],
      "metadata": {
        "id": "Nj_TsCcLO4kw"
      }
    },
    {
      "cell_type": "code",
      "execution_count": null,
      "outputs": [
        {
          "name": "stdout",
          "output_type": "stream",
          "text": [
            "5 + 7 = 12\n",
            "5 - 7 = -2\n",
            "5 * 7 = 35\n",
            "5 / 7 = 0.7142857142857143\n",
            "5 // 7 = 0\n",
            "5 % 7 = 5\n",
            "2 ** 5 = 32\n"
          ]
        }
      ],
      "source": [
        "#\n",
        "c = a + b\n",
        "print(f\"{a} + {b} =\", c)\n",
        "\n",
        "#\n",
        "c = a - b\n",
        "print(f\"{a} - {b} =\", c)\n",
        "\n",
        "#\n",
        "c = a * b\n",
        "print(f\"{a} * {b} =\", c)\n",
        "\n",
        "#\n",
        "c = a / b\n",
        "print(f\"{a} / {b} =\", c)\n",
        "\n",
        "#\n",
        "c = a // b\n",
        "print(f\"{a} // {b} =\", c)\n",
        "\n",
        "#\n",
        "c = a % b\n",
        "print(f\"{a} % {b} =\", c)\n",
        "\n",
        "#\n",
        "c = 2 ** 5\n",
        "print(f\"2 ** 5 =\", c)"
      ],
      "metadata": {
        "id": "azz2d5aKO4kx",
        "outputId": "357db0b4-05e6-4a4f-f106-7446bd4f326a"
      }
    },
    {
      "cell_type": "code",
      "execution_count": null,
      "outputs": [],
      "source": [
        "a = 5\n",
        "b = 2\n",
        "c = 3"
      ],
      "metadata": {
        "id": "vZ2OPDyXO4ky"
      }
    },
    {
      "cell_type": "code",
      "source": [
        "a = 2\n",
        "for value in range(0, 5):\n",
        "  a *= 2\n",
        "a"
      ],
      "metadata": {
        "colab": {
          "base_uri": "https://localhost:8080/"
        },
        "id": "KqJCTFjHpKpy",
        "outputId": "669aa8ec-a083-4e71-fd13-9eb6530eac55"
      },
      "execution_count": null,
      "outputs": [
        {
          "output_type": "stream",
          "name": "stdout",
          "text": [
            "0\n",
            "1\n",
            "2\n",
            "3\n",
            "4\n"
          ]
        },
        {
          "output_type": "execute_result",
          "data": {
            "text/plain": [
              "64"
            ]
          },
          "metadata": {},
          "execution_count": 59
        }
      ]
    },
    {
      "cell_type": "code",
      "execution_count": null,
      "outputs": [
        {
          "name": "stdout",
          "output_type": "stream",
          "text": [
            "5 + 2 * 3 = 11\n",
            "(5 + 2) * 3 = 21\n",
            "(5 + 2 + 3) / 2 = 5.0\n",
            "5 / 2 + 2 / 2 + 3 / 2 = 5.0\n",
            "5 * 2 ** 3 = 40\n",
            "5 * 2 % 3 = 1\n"
          ]
        }
      ],
      "source": [
        "d = a + b * c\n",
        "print(f\"{a} + {b} * {c} = {d}\")\n",
        "\n",
        "d = (a + b) * c\n",
        "print(f\"({a} + {b}) * {c} = {d}\")\n",
        "\n",
        "d = (a + b + c) / 2\n",
        "print(f\"({a} + {b} + {c}) / 2 = {d}\")\n",
        "\n",
        "d = a / 2 + b / 2 + c / 2\n",
        "print(f\"{a} / 2 + {b} / 2 + {c} / 2 = {d}\")\n",
        "\n",
        "d = a * b ** c\n",
        "print(f\"{a} * {b} ** {c} = {d}\")\n",
        "\n",
        "d = a * b % c\n",
        "print(f\"{a} * {b} % {c} = {d}\")"
      ],
      "metadata": {
        "id": "71d-_i2FO4kz",
        "outputId": "493d4238-1320-4dc2-ffa8-1e700b38afa5"
      }
    },
    {
      "cell_type": "markdown",
      "source": [
        "### Порядок выполнения операторов в выражениях\n",
        "\n",
        "1. ()\n",
        "2. **\n",
        "3. *, /, //, %\n",
        "4. +, -"
      ],
      "metadata": {
        "collapsed": false,
        "id": "cvOYc4ZGO4kz"
      }
    },
    {
      "cell_type": "markdown",
      "source": [
        "## Логические операторы"
      ],
      "metadata": {
        "collapsed": false,
        "id": "627dx0huO4kz"
      }
    },
    {
      "cell_type": "code",
      "execution_count": null,
      "outputs": [],
      "source": [
        "a = 10\n",
        "b = 5\n",
        "\n",
        "c = True\n",
        "d = False"
      ],
      "metadata": {
        "id": "U7DM7DtAO4k0"
      }
    },
    {
      "cell_type": "markdown",
      "source": [
        "AND - логическое \"И\"\n",
        "\n",
        "OR - логическое \"ИЛИ\"\n",
        "\n",
        "NOT - логическое отрицание"
      ],
      "metadata": {
        "collapsed": false,
        "id": "IDTxqo4GO4k0"
      }
    },
    {
      "cell_type": "code",
      "execution_count": null,
      "outputs": [
        {
          "name": "stdout",
          "output_type": "stream",
          "text": [
            "True AND False = False\n",
            "True OR False == True\n",
            "\n",
            "True AND True = True\n",
            "True OR True = True\n",
            "\n",
            "False AND False = False\n",
            "False OR False = False\n",
            "\n",
            "NOT False = True\n",
            "True AND NOT False = True\n"
          ]
        }
      ],
      "source": [
        "print(f\"{c} AND {d} = {c and d}\")\n",
        "print(f\"{c} OR {d} == {c or d}\")\n",
        "\n",
        "print(f\"\\n{c} AND {c} = {c and c}\")\n",
        "print(f\"{c} OR {c} = {c or c}\")\n",
        "\n",
        "print(f\"\\n{d} AND {d} = {d and d}\")\n",
        "print(f\"{d} OR {d} = {d or d}\")\n",
        "\n",
        "print(f\"\\nNOT {d} = {not d}\")\n",
        "print(f\"{c} AND NOT {d} = {c and not d}\")"
      ],
      "metadata": {
        "id": "WqP5IbeyO4k0",
        "outputId": "309810a6-c66b-41e7-a85f-1f12d5b3ef6e"
      }
    },
    {
      "cell_type": "code",
      "execution_count": null,
      "outputs": [
        {
          "name": "stdout",
          "output_type": "stream",
          "text": [
            "10 > 5 = True\n",
            "10 < 5 = False\n",
            "10 == 5 * 2 = True\n",
            "10 <= 5 * 2 = True\n",
            "10 != 5 = True\n"
          ]
        }
      ],
      "source": [
        "print(f\"{a} > {b} = {a > b}\")\n",
        "print(f\"{a} < {b} = {a < b}\")\n",
        "print(f\"{a} == {b} * 2 = {a == b * 2}\")\n",
        "print(f\"{a} <= {b} * 2 = {a <= b*2}\")\n",
        "print(f\"{a} != {b} = {a != b}\")"
      ],
      "metadata": {
        "id": "dgfVWlWvO4k0",
        "outputId": "5cfedd8f-cd3a-422d-ca77-622f23532c48"
      }
    },
    {
      "cell_type": "code",
      "execution_count": null,
      "outputs": [
        {
          "name": "stdout",
          "output_type": "stream",
          "text": [
            "2 * (10 != 5) = 2\n",
            "2 * (10 == 5) = 0\n",
            "\n",
            "int(10 != 5) = 1\n",
            "int(10 == 5) = 0\n"
          ]
        }
      ],
      "source": [
        "print(f\"2 * ({a} != {b}) = {2 * (a != b)}\")\n",
        "print(f\"2 * ({a} == {b}) = {2 * (a == b)}\")\n",
        "\n",
        "print(f\"\\nint({a} != {b}) = {int(a != b)}\")\n",
        "print(f\"int({a} == {b}) = {int(a == b)}\")"
      ],
      "metadata": {
        "id": "MQm7dzR5O4k0",
        "outputId": "8331d2d8-d403-445c-c102-61aa6ef3d190"
      }
    },
    {
      "cell_type": "code",
      "source": [
        "print(1 != 1)"
      ],
      "metadata": {
        "colab": {
          "base_uri": "https://localhost:8080/"
        },
        "id": "dqiatHuZiTtk",
        "outputId": "bda7d0a1-0425-4745-c300-44082335b5eb"
      },
      "execution_count": null,
      "outputs": [
        {
          "output_type": "stream",
          "name": "stdout",
          "text": [
            "False\n"
          ]
        }
      ]
    },
    {
      "cell_type": "code",
      "source": [
        "a = 2\n",
        "if a > 20:\n",
        "  print(\"На природу!\")\n",
        "elif a > 21:\n",
        "  print(\"Дом\")\n",
        "else:\n",
        "  print(1)"
      ],
      "metadata": {
        "colab": {
          "base_uri": "https://localhost:8080/"
        },
        "id": "2eNQOrtCygoi",
        "outputId": "7aa4fc82-e2ca-43e4-8351-685eb758d14b"
      },
      "execution_count": null,
      "outputs": [
        {
          "output_type": "stream",
          "name": "stdout",
          "text": [
            "1\n"
          ]
        }
      ]
    },
    {
      "cell_type": "code",
      "source": [
        "time = 8  #current\n",
        "if time <= 8:\n",
        "  print(\"sleep\")\n",
        "elif time > 9:\n",
        "  print('the end')\n",
        "# else:\n",
        "#   print(\"stand up\")"
      ],
      "metadata": {
        "colab": {
          "base_uri": "https://localhost:8080/"
        },
        "id": "XA3ycXhoi6GM",
        "outputId": "cf73e8b0-45d1-4a82-e704-33a4e3a32f5b"
      },
      "execution_count": null,
      "outputs": [
        {
          "output_type": "stream",
          "name": "stdout",
          "text": [
            "1\n",
            "sleep\n"
          ]
        }
      ]
    },
    {
      "cell_type": "markdown",
      "source": [
        "## Коллекции"
      ],
      "metadata": {
        "collapsed": false,
        "id": "n_tlNfUTO4k1"
      }
    },
    {
      "cell_type": "markdown",
      "source": [
        "![COLLECTIONS](collections.png)"
      ],
      "metadata": {
        "collapsed": false,
        "id": "IYOL89V2O4k1"
      }
    },
    {
      "cell_type": "markdown",
      "source": [
        "### List"
      ],
      "metadata": {
        "collapsed": false,
        "id": "IPopjVxsO4k1"
      }
    },
    {
      "cell_type": "code",
      "execution_count": null,
      "outputs": [
        {
          "output_type": "stream",
          "name": "stdout",
          "text": [
            "<class 'list'> [1, 2, 3, 4, 5, 6]\n"
          ]
        }
      ],
      "source": [
        "a = [1, 2, 3, 4, 5, 6]\n",
        "print(type(a), a)"
      ],
      "metadata": {
        "id": "nLmYnvqnO4k1",
        "outputId": "f08e6ad2-e82c-4d81-905b-5a823574206b",
        "colab": {
          "base_uri": "https://localhost:8080/"
        }
      }
    },
    {
      "cell_type": "code",
      "source": [
        "for value in a:\n",
        "  print(value)"
      ],
      "metadata": {
        "colab": {
          "base_uri": "https://localhost:8080/"
        },
        "id": "CystfDpeoooo",
        "outputId": "ca913840-73fd-459a-cc36-e10196cb57ca"
      },
      "execution_count": null,
      "outputs": [
        {
          "output_type": "stream",
          "name": "stdout",
          "text": [
            "1\n",
            "2\n",
            "3\n",
            "4\n",
            "5\n",
            "6\n"
          ]
        }
      ]
    },
    {
      "cell_type": "code",
      "source": [
        "for idx in range(len(a)):\n",
        "  print(a[idx])"
      ],
      "metadata": {
        "colab": {
          "base_uri": "https://localhost:8080/"
        },
        "id": "jZJwmQ24oCvQ",
        "outputId": "e2d9af42-cb52-4079-ac67-d1d946418b22"
      },
      "execution_count": null,
      "outputs": [
        {
          "output_type": "stream",
          "name": "stdout",
          "text": [
            "1\n",
            "2\n",
            "3\n",
            "4\n",
            "5\n",
            "6\n"
          ]
        }
      ]
    },
    {
      "cell_type": "code",
      "source": [
        "for value in a:\n",
        "  print(value)"
      ],
      "metadata": {
        "colab": {
          "base_uri": "https://localhost:8080/"
        },
        "id": "ZbQQBydlmAQb",
        "outputId": "ff550f8f-b733-41bd-e84f-a755e09cd647"
      },
      "execution_count": null,
      "outputs": [
        {
          "output_type": "stream",
          "name": "stdout",
          "text": [
            "1\n",
            "2\n",
            "3\n",
            "4\n",
            "5\n",
            "6\n"
          ]
        }
      ]
    },
    {
      "cell_type": "code",
      "source": [
        "a[3]"
      ],
      "metadata": {
        "colab": {
          "base_uri": "https://localhost:8080/"
        },
        "id": "a1lZUhs9nDFW",
        "outputId": "c390fcd1-7c59-4478-82e1-56250052f011"
      },
      "execution_count": null,
      "outputs": [
        {
          "output_type": "execute_result",
          "data": {
            "text/plain": [
              "4"
            ]
          },
          "metadata": {},
          "execution_count": 86
        }
      ]
    },
    {
      "cell_type": "code",
      "source": [
        "a[3]= 4\n",
        "print(a)"
      ],
      "metadata": {
        "colab": {
          "base_uri": "https://localhost:8080/"
        },
        "id": "dI4Qfz5anOQg",
        "outputId": "9ec74a50-72fd-49a4-d8a5-83cd921d74cb"
      },
      "execution_count": null,
      "outputs": [
        {
          "output_type": "stream",
          "name": "stdout",
          "text": [
            "[1, 2, 3, 4, 5, 6]\n"
          ]
        }
      ]
    },
    {
      "cell_type": "code",
      "source": [],
      "metadata": {
        "id": "PGdts5TLnhjP"
      },
      "execution_count": null,
      "outputs": []
    },
    {
      "cell_type": "code",
      "source": [
        "for value in a:\n",
        "  if value > 3:\n",
        "    print(value)"
      ],
      "metadata": {
        "colab": {
          "base_uri": "https://localhost:8080/"
        },
        "id": "mFzBXlYdqfAN",
        "outputId": "308b116f-7c29-4352-a187-75c8236bec29"
      },
      "execution_count": null,
      "outputs": [
        {
          "output_type": "stream",
          "name": "stdout",
          "text": [
            "4\n",
            "5\n",
            "6\n"
          ]
        }
      ]
    },
    {
      "cell_type": "code",
      "execution_count": null,
      "outputs": [
        {
          "output_type": "stream",
          "name": "stdout",
          "text": [
            "<class 'list'> [1, 2.0, '3', False]\n"
          ]
        }
      ],
      "source": [
        "a = [1, 2.0, \"3\", False]\n",
        "print(type(a), a)"
      ],
      "metadata": {
        "id": "ORj36jksO4k1",
        "outputId": "b5d639eb-c88e-4f1c-a47c-b6afb189acd7",
        "colab": {
          "base_uri": "https://localhost:8080/"
        }
      }
    },
    {
      "cell_type": "code",
      "execution_count": null,
      "outputs": [
        {
          "output_type": "stream",
          "name": "stdout",
          "text": [
            "[1, 20, '3', False]\n"
          ]
        }
      ],
      "source": [
        "# Изменяемость\n",
        "a[1] = 20\n",
        "print(a)"
      ],
      "metadata": {
        "id": "nLWEJnbZO4k1",
        "outputId": "92e10d6e-b04c-43ab-c7b4-56cc3df3e556",
        "colab": {
          "base_uri": "https://localhost:8080/"
        }
      }
    },
    {
      "cell_type": "code",
      "source": [
        "a[1] = float(a[1])\n",
        "a"
      ],
      "metadata": {
        "id": "o_uyHZdZTx2U",
        "colab": {
          "base_uri": "https://localhost:8080/"
        },
        "outputId": "50106c9b-6a8f-46d0-b780-89acbc6f2263"
      },
      "execution_count": null,
      "outputs": [
        {
          "output_type": "execute_result",
          "data": {
            "text/plain": [
              "[1, 20.0, '3', False]"
            ]
          },
          "metadata": {},
          "execution_count": 4
        }
      ]
    },
    {
      "cell_type": "code",
      "execution_count": null,
      "outputs": [
        {
          "name": "stdout",
          "output_type": "stream",
          "text": [
            "Get element by index <2> from [1, 20, '3', False] = 3\n"
          ]
        }
      ],
      "source": [
        "# Индексированность\n",
        "index = 2\n",
        "print(f\"Get element by index <{index}> from {a} = {a[index]}\")"
      ],
      "metadata": {
        "id": "WGptMy26O4k1",
        "outputId": "2cd40390-c72b-478f-adba-31cae98b5ad5"
      }
    },
    {
      "cell_type": "code",
      "execution_count": null,
      "outputs": [
        {
          "output_type": "execute_result",
          "data": {
            "text/plain": [
              "[1, 1, 2, 2, 2]"
            ]
          },
          "metadata": {},
          "execution_count": 5
        }
      ],
      "source": [
        "# Уникальность\n",
        "a = [1, 1, 2, 2, 2]\n",
        "a"
      ],
      "metadata": {
        "id": "YXEVOVTdO4k2",
        "outputId": "1bb348fd-2a63-4f69-8fd5-c6491bf7a2af",
        "colab": {
          "base_uri": "https://localhost:8080/"
        }
      }
    },
    {
      "cell_type": "code",
      "source": [
        "a = [1, 2, 3, 4, 5, 5, 5]\n",
        "a.remove(5)\n",
        "a"
      ],
      "metadata": {
        "colab": {
          "base_uri": "https://localhost:8080/"
        },
        "id": "afsXfjOaUTAO",
        "outputId": "b6225d57-7d43-4e7b-8cac-eb4efbf6e4a1"
      },
      "execution_count": null,
      "outputs": [
        {
          "output_type": "execute_result",
          "data": {
            "text/plain": [
              "[1, 2, 3, 4, 5, 5]"
            ]
          },
          "metadata": {},
          "execution_count": 95
        }
      ]
    },
    {
      "cell_type": "code",
      "source": [
        "a = [1, 2, 3, 4, 5]\n",
        "a.append(6)\n",
        "a.extend([[7, 8, 9, 10]])"
      ],
      "metadata": {
        "id": "otjKvmX4pU4b"
      },
      "execution_count": null,
      "outputs": []
    },
    {
      "cell_type": "code",
      "source": [
        "len(a)"
      ],
      "metadata": {
        "colab": {
          "base_uri": "https://localhost:8080/"
        },
        "id": "MWi4A9ggp2IH",
        "outputId": "08fdf52b-c714-4c34-9abd-98476f330daf"
      },
      "execution_count": null,
      "outputs": [
        {
          "output_type": "execute_result",
          "data": {
            "text/plain": [
              "7"
            ]
          },
          "metadata": {},
          "execution_count": 101
        }
      ]
    },
    {
      "cell_type": "code",
      "source": [
        "a.extend(((1, 2, 3)))"
      ],
      "metadata": {
        "id": "fzEH0BP9p9bZ"
      },
      "execution_count": null,
      "outputs": []
    },
    {
      "cell_type": "code",
      "source": [
        "a"
      ],
      "metadata": {
        "colab": {
          "base_uri": "https://localhost:8080/"
        },
        "id": "ogcldqDXqJc4",
        "outputId": "a7221dea-8819-4638-bc45-83789ef3e962"
      },
      "execution_count": null,
      "outputs": [
        {
          "output_type": "execute_result",
          "data": {
            "text/plain": [
              "[1, 2, 3, 4, 5, 6, [7, 8, 9, 10], 1, 2, 3, 1, 2, 3]"
            ]
          },
          "metadata": {},
          "execution_count": 106
        }
      ]
    },
    {
      "cell_type": "code",
      "source": [
        "a.extend([6])\n",
        "a"
      ],
      "metadata": {
        "colab": {
          "base_uri": "https://localhost:8080/"
        },
        "id": "CJrC7PQvUWpl",
        "outputId": "27a93265-39f7-4787-97a6-ab8365215948"
      },
      "execution_count": null,
      "outputs": [
        {
          "output_type": "execute_result",
          "data": {
            "text/plain": [
              "[1, 2, 3, 4, 5, 5, 6]"
            ]
          },
          "metadata": {},
          "execution_count": 13
        }
      ]
    },
    {
      "cell_type": "code",
      "source": [
        "# Базовые методы списка\n",
        "a = list()\n",
        "print(f\"List initialization: {a}\")\n",
        "\n",
        "a.append(10)\n",
        "print(f\"Append an element to the list: {a}\")\n",
        "\n",
        "a.append(20)\n",
        "print(f\"Append an element to the list: {a}\")\n",
        "\n",
        "a.append(30)\n",
        "print(f\"Append an element to the list: {a}\")\n",
        "\n",
        "a.append([1, 2 , 3])\n",
        "print(f\"Append an element to the list: {a}\")\n"
      ],
      "metadata": {
        "colab": {
          "base_uri": "https://localhost:8080/"
        },
        "id": "Hj2zkPJg1K36",
        "outputId": "18ef840a-055a-417a-87ed-caa2b4b9af8f"
      },
      "execution_count": null,
      "outputs": [
        {
          "output_type": "stream",
          "name": "stdout",
          "text": [
            "List initialization: []\n",
            "Append an element to the list: [10]\n",
            "Append an element to the list: [10, 20]\n",
            "Append an element to the list: [10, 20, 30]\n",
            "Append an element to the list: [10, 20, 30, [1, 2, 3]]\n"
          ]
        }
      ]
    },
    {
      "cell_type": "code",
      "source": [
        "name = 'Max'"
      ],
      "metadata": {
        "id": "jxIKpyDN_CSG"
      },
      "execution_count": null,
      "outputs": []
    },
    {
      "cell_type": "code",
      "source": [
        "print(f\"hello {name}\")"
      ],
      "metadata": {
        "colab": {
          "base_uri": "https://localhost:8080/"
        },
        "id": "unIEubuP-7n8",
        "outputId": "d0538371-41f5-4865-d569-90b23b4c7db1"
      },
      "execution_count": null,
      "outputs": [
        {
          "output_type": "stream",
          "name": "stdout",
          "text": [
            "hello Max\n"
          ]
        }
      ]
    },
    {
      "cell_type": "code",
      "source": [
        "a = [1, 2, 2, 2, 3, 4, 5]\n",
        "a = set(a)\n",
        "b = list(a)\n",
        "b.remove(2)\n",
        "b"
      ],
      "metadata": {
        "colab": {
          "base_uri": "https://localhost:8080/"
        },
        "id": "ZVntd83E1bIo",
        "outputId": "08120714-f508-4db3-d5ec-36d5e2253763"
      },
      "execution_count": null,
      "outputs": [
        {
          "output_type": "execute_result",
          "data": {
            "text/plain": [
              "[1, 3, 4, 5]"
            ]
          },
          "metadata": {},
          "execution_count": 29
        }
      ]
    },
    {
      "cell_type": "code",
      "source": [
        "a = [1, 2, 2, 2, 3, 4, 5]\n",
        "a.extend([[1, 1, 2, 3]])\n",
        "a"
      ],
      "metadata": {
        "id": "ubHnHRq34aSw"
      },
      "execution_count": null,
      "outputs": []
    },
    {
      "cell_type": "code",
      "source": [
        "a = [1, 2, 3, 3, 4]\n",
        "print(f\"Get element <{3}> index: {a.index(3)}\")\n",
        "\n",
        "a.remove(3)\n",
        "print(f\"Remove <3> element from the list: {a}\")"
      ],
      "metadata": {
        "colab": {
          "base_uri": "https://localhost:8080/"
        },
        "id": "Xkn5HJD52eCZ",
        "outputId": "78f6739b-eef4-4cd6-891a-8ab5553cfe04"
      },
      "execution_count": null,
      "outputs": [
        {
          "output_type": "stream",
          "name": "stdout",
          "text": [
            "Get element <3> index: 2\n",
            "Remove <3> element from the list: [1, 2, 3, 4]\n"
          ]
        }
      ]
    },
    {
      "cell_type": "code",
      "execution_count": null,
      "outputs": [
        {
          "name": "stdout",
          "output_type": "stream",
          "text": [
            "List initialization: []\n",
            "Append an element to the list: [2]\n",
            "Clear the list: []\n",
            "Get element <3> index: 2\n",
            "Remove <3> element from the list: [1, 2, 4]\n",
            "Get number of element <2> from the list [1, 2, 2, 2, 3]: 3\n"
          ]
        }
      ],
      "source": [
        "# Базовые методы списка\n",
        "a = list()\n",
        "print(f\"List initialization: {a}\")\n",
        "\n",
        "a.append(2)\n",
        "print(f\"Append an element to the list: {a}\")\n",
        "\n",
        "# a.extend\n",
        "\n",
        "a.clear()\n",
        "print(f\"Clear the list: {a}\")\n",
        "\n",
        "a = [1, 2, 3, 4]\n",
        "print(f\"Get element <{3}> index: {a.index(3)}\")\n",
        "\n",
        "a.remove(3)\n",
        "print(f\"Remove <3> element from the list: {a}\")\n",
        "\n",
        "print(f\"Get number of element <2> from the list [1, 2, 2, 2, 3]: {[1, 2, 2, 2, 3].count(2)}\")"
      ],
      "metadata": {
        "id": "r_xHEFDxO4k2",
        "outputId": "007b8e30-c71c-4fdb-921d-a5541a75021d"
      }
    },
    {
      "cell_type": "markdown",
      "source": [
        "### Tuple"
      ],
      "metadata": {
        "collapsed": false,
        "id": "1fzLAb-8O4k2"
      }
    },
    {
      "cell_type": "code",
      "execution_count": null,
      "outputs": [
        {
          "output_type": "stream",
          "name": "stdout",
          "text": [
            "<class 'tuple'> (1, 2, 3)\n"
          ]
        }
      ],
      "source": [
        "a = (1, 2, 3)\n",
        "print(type(a), a)"
      ],
      "metadata": {
        "id": "efdO_G16O4k2",
        "outputId": "e7a7cabe-ac68-4210-edaa-38400eb28b36",
        "colab": {
          "base_uri": "https://localhost:8080/"
        }
      }
    },
    {
      "cell_type": "code",
      "execution_count": null,
      "outputs": [
        {
          "output_type": "execute_result",
          "data": {
            "text/plain": [
              "3"
            ]
          },
          "metadata": {},
          "execution_count": 109
        }
      ],
      "source": [
        "a[2]"
      ],
      "metadata": {
        "id": "v9xA6xczO4k2",
        "outputId": "912fbeaa-9a51-477a-868b-644f43e74fd5",
        "colab": {
          "base_uri": "https://localhost:8080/"
        }
      }
    },
    {
      "cell_type": "code",
      "execution_count": null,
      "outputs": [
        {
          "name": "stdout",
          "output_type": "stream",
          "text": [
            "Get element <3> index: 2\n"
          ]
        }
      ],
      "source": [
        "print(f\"Get element <{3}> index: {a.index(3)}\")"
      ],
      "metadata": {
        "id": "yIADbEFTO4k2",
        "outputId": "35fc9dea-13b9-4772-a43d-646b0ab039c0"
      }
    },
    {
      "cell_type": "markdown",
      "source": [
        "### String"
      ],
      "metadata": {
        "collapsed": false,
        "id": "F067h3qHO4k2"
      }
    },
    {
      "cell_type": "code",
      "source": [
        "A = [1, 2, 3]\n",
        "A.append(4)\n",
        "A"
      ],
      "metadata": {
        "colab": {
          "base_uri": "https://localhost:8080/"
        },
        "id": "DRHxai7187CB",
        "outputId": "773b6fa0-2544-47d9-b5f1-1cbf64acf5b6"
      },
      "execution_count": null,
      "outputs": [
        {
          "output_type": "execute_result",
          "data": {
            "text/plain": [
              "[1, 2, 3, 4]"
            ]
          },
          "metadata": {},
          "execution_count": 46
        }
      ]
    },
    {
      "cell_type": "code",
      "execution_count": null,
      "outputs": [
        {
          "output_type": "stream",
          "name": "stdout",
          "text": [
            "H\n",
            "1\n",
            "e\n",
            "1\n",
            "l\n",
            "l\n",
            "o\n",
            "1\n",
            ",\n",
            "1\n",
            " \n",
            "1\n",
            "w\n",
            "1\n",
            "o\n",
            "1\n",
            "r\n",
            "1\n",
            "l\n",
            "d\n",
            "1\n",
            "!\n",
            "1\n"
          ]
        }
      ],
      "source": [
        "a = \"Hello, world!\"\n",
        "for l in a:\n",
        "  print(l)\n",
        "  if l == 'l':\n",
        "    # break\n",
        "    continue\n",
        "  print(1)\n"
      ],
      "metadata": {
        "id": "7mYpPy0gO4k2",
        "colab": {
          "base_uri": "https://localhost:8080/"
        },
        "outputId": "a867fc12-da12-4740-c7ea-31b0cdc4df09"
      }
    },
    {
      "cell_type": "code",
      "source": [
        "a[1]"
      ],
      "metadata": {
        "colab": {
          "base_uri": "https://localhost:8080/",
          "height": 35
        },
        "id": "cS0aOxH_WS2Z",
        "outputId": "ff9c253f-57fd-43ae-b756-8c3aa2ccecd0"
      },
      "execution_count": null,
      "outputs": [
        {
          "output_type": "execute_result",
          "data": {
            "text/plain": [
              "'e'"
            ],
            "application/vnd.google.colaboratory.intrinsic+json": {
              "type": "string"
            }
          },
          "metadata": {},
          "execution_count": 27
        }
      ]
    },
    {
      "cell_type": "code",
      "execution_count": null,
      "outputs": [
        {
          "name": "stdout",
          "output_type": "stream",
          "text": [
            "Get 1st element from the string:  H\n"
          ]
        }
      ],
      "source": [
        "print(f\"Get 1st element from the string: \", a[0])"
      ],
      "metadata": {
        "id": "KL79APpqO4k2",
        "outputId": "bbac1d13-9773-423b-a419-6c4bc1be3fc3"
      }
    },
    {
      "cell_type": "code",
      "execution_count": null,
      "outputs": [
        {
          "output_type": "execute_result",
          "data": {
            "text/plain": [
              "'Hllo, World!'"
            ],
            "application/vnd.google.colaboratory.intrinsic+json": {
              "type": "string"
            }
          },
          "metadata": {},
          "execution_count": 29
        }
      ],
      "source": [
        "a.replace(\"e\", \"\")"
      ],
      "metadata": {
        "id": "JX1I4i84O4k2",
        "outputId": "39805b78-acb1-4c08-e1a6-562ee2a9e30e",
        "colab": {
          "base_uri": "https://localhost:8080/",
          "height": 35
        }
      }
    },
    {
      "cell_type": "code",
      "execution_count": null,
      "outputs": [
        {
          "output_type": "stream",
          "name": "stdout",
          "text": [
            "11\n"
          ]
        }
      ],
      "source": [
        "if len(a.replace(\" world!\", \"\")) == 6:\n",
        "  print(11)"
      ],
      "metadata": {
        "id": "Y_1KVsKvO4k3",
        "outputId": "ef67f652-9488-4be0-c104-999acf4b6897",
        "colab": {
          "base_uri": "https://localhost:8080/"
        }
      }
    },
    {
      "cell_type": "code",
      "source": [
        "a"
      ],
      "metadata": {
        "colab": {
          "base_uri": "https://localhost:8080/",
          "height": 35
        },
        "id": "vfgkJAlQ8R1b",
        "outputId": "7eeaf03c-b295-400b-fd47-7c2af5b982ab"
      },
      "execution_count": null,
      "outputs": [
        {
          "output_type": "execute_result",
          "data": {
            "text/plain": [
              "'Hello, !'"
            ],
            "application/vnd.google.colaboratory.intrinsic+json": {
              "type": "string"
            }
          },
          "metadata": {},
          "execution_count": 48
        }
      ]
    },
    {
      "cell_type": "code",
      "execution_count": null,
      "outputs": [
        {
          "data": {
            "text/plain": "3"
          },
          "execution_count": 67,
          "metadata": {},
          "output_type": "execute_result"
        }
      ],
      "source": [
        "a.count(\"l\")"
      ],
      "metadata": {
        "id": "T72jDVjDO4k3",
        "outputId": "ab9a55e9-6f8b-4a86-d72d-0cf70f445976"
      }
    },
    {
      "cell_type": "code",
      "source": [
        "len(a)"
      ],
      "metadata": {
        "colab": {
          "base_uri": "https://localhost:8080/"
        },
        "id": "iXjEomlZWmam",
        "outputId": "aabbac3e-ca87-4429-c649-877c751cd10b"
      },
      "execution_count": null,
      "outputs": [
        {
          "output_type": "execute_result",
          "data": {
            "text/plain": [
              "13"
            ]
          },
          "metadata": {},
          "execution_count": 28
        }
      ]
    },
    {
      "cell_type": "code",
      "execution_count": null,
      "outputs": [
        {
          "data": {
            "text/plain": "'HELLO, WORLD!'"
          },
          "execution_count": 68,
          "metadata": {},
          "output_type": "execute_result"
        }
      ],
      "source": [
        "a.upper()"
      ],
      "metadata": {
        "id": "JX_kvn5TO4k3",
        "outputId": "0a0941ca-c282-49a2-8ccb-e6501342a4da"
      }
    },
    {
      "cell_type": "code",
      "execution_count": null,
      "outputs": [
        {
          "data": {
            "text/plain": "'hello, world!'"
          },
          "execution_count": 69,
          "metadata": {},
          "output_type": "execute_result"
        }
      ],
      "source": [
        "a.lower()"
      ],
      "metadata": {
        "id": "hxeaJZqVO4k3",
        "outputId": "21b84a7b-94eb-490a-9b5f-edfd0cef67c3"
      }
    },
    {
      "cell_type": "code",
      "execution_count": null,
      "outputs": [
        {
          "data": {
            "text/plain": "True"
          },
          "execution_count": 70,
          "metadata": {},
          "output_type": "execute_result"
        }
      ],
      "source": [
        "a.startswith(\"H\")"
      ],
      "metadata": {
        "id": "lErRrpkjO4k3",
        "outputId": "6cda75a4-f762-41ff-a9f2-27535a6eceb1"
      }
    },
    {
      "cell_type": "code",
      "execution_count": null,
      "outputs": [
        {
          "data": {
            "text/plain": "True"
          },
          "execution_count": 71,
          "metadata": {},
          "output_type": "execute_result"
        }
      ],
      "source": [
        "a.endswith(\"!\")"
      ],
      "metadata": {
        "id": "7gNx6bVnO4k3",
        "outputId": "b9489a13-c7e3-4d58-ba0e-7d4c0b8933ef"
      }
    },
    {
      "cell_type": "markdown",
      "source": [
        "### Set"
      ],
      "metadata": {
        "collapsed": false,
        "id": "4V5EoRT7O4k3"
      }
    },
    {
      "cell_type": "code",
      "execution_count": null,
      "outputs": [
        {
          "output_type": "stream",
          "name": "stdout",
          "text": [
            "<class 'set'> {1, 2, 3}\n"
          ]
        }
      ],
      "source": [
        "a = {1, 2, 3}\n",
        "print(type(a), a)"
      ],
      "metadata": {
        "id": "kL2NeuNLO4k3",
        "outputId": "4eaab0d0-9ab6-4d5c-fbf6-70271ed1c3b5",
        "colab": {
          "base_uri": "https://localhost:8080/"
        }
      }
    },
    {
      "cell_type": "code",
      "execution_count": null,
      "outputs": [
        {
          "output_type": "error",
          "ename": "TypeError",
          "evalue": "'set' object is not subscriptable",
          "traceback": [
            "\u001b[0;31m---------------------------------------------------------------------------\u001b[0m",
            "\u001b[0;31mTypeError\u001b[0m                                 Traceback (most recent call last)",
            "\u001b[0;32m<ipython-input-31-8bc71255a22e>\u001b[0m in \u001b[0;36m<cell line: 1>\u001b[0;34m()\u001b[0m\n\u001b[0;32m----> 1\u001b[0;31m \u001b[0ma\u001b[0m\u001b[0;34m[\u001b[0m\u001b[0;36m1\u001b[0m\u001b[0;34m]\u001b[0m\u001b[0;34m\u001b[0m\u001b[0;34m\u001b[0m\u001b[0m\n\u001b[0m",
            "\u001b[0;31mTypeError\u001b[0m: 'set' object is not subscriptable"
          ]
        }
      ],
      "source": [
        "a[1]"
      ],
      "metadata": {
        "id": "lXoLSfyFO4k3",
        "outputId": "593b4428-e37d-481c-c591-d53775a8904d",
        "colab": {
          "base_uri": "https://localhost:8080/",
          "height": 179
        }
      }
    },
    {
      "cell_type": "code",
      "execution_count": null,
      "outputs": [
        {
          "name": "stdout",
          "output_type": "stream",
          "text": [
            "{1, 2, 3}\n"
          ]
        }
      ],
      "source": [
        "a = {1, 2, 2, 3}\n",
        "print(a)"
      ],
      "metadata": {
        "id": "Rc4k2VZvO4k8",
        "outputId": "f562c136-15ee-44a5-ebee-b9339ec5e78f"
      }
    },
    {
      "cell_type": "code",
      "source": [],
      "metadata": {
        "id": "saCuuUuUXPVE"
      },
      "execution_count": null,
      "outputs": []
    },
    {
      "cell_type": "code",
      "execution_count": null,
      "outputs": [
        {
          "data": {
            "text/plain": "{1, 2, 3, 4}"
          },
          "execution_count": 75,
          "metadata": {},
          "output_type": "execute_result"
        }
      ],
      "source": [
        "a.add(4)\n",
        "a"
      ],
      "metadata": {
        "id": "SeJKxNTzO4k8",
        "outputId": "2be9aabe-3709-46dd-e8f7-878ee6f8ffaf"
      }
    },
    {
      "cell_type": "code",
      "execution_count": null,
      "outputs": [
        {
          "name": "stdout",
          "output_type": "stream",
          "text": [
            "{1, 2, 3}\n"
          ]
        }
      ],
      "source": [
        "a.remove(4)\n",
        "print(a)"
      ],
      "metadata": {
        "id": "jJOwVIZ5O4k9",
        "outputId": "ed886b25-850e-4d1a-f1cf-2b8564bb1378"
      }
    },
    {
      "cell_type": "markdown",
      "source": [
        "### Dict"
      ],
      "metadata": {
        "collapsed": false,
        "id": "WCjKI2seO4k-"
      }
    },
    {
      "cell_type": "code",
      "execution_count": null,
      "outputs": [
        {
          "output_type": "stream",
          "name": "stdout",
          "text": [
            "<class 'dict'> {True: 1, False: 2}\n"
          ]
        }
      ],
      "source": [
        "a = {True: 1, False: 2}\n",
        "print(type(a), a)"
      ],
      "metadata": {
        "id": "JcHmngZ7O4k-",
        "outputId": "cd631e36-d5f0-4fbd-de9c-631c1a4f2344",
        "colab": {
          "base_uri": "https://localhost:8080/"
        }
      }
    },
    {
      "cell_type": "code",
      "source": [
        "a = {1: 1, 1.0: 2, True: 3}\n",
        "a"
      ],
      "metadata": {
        "colab": {
          "base_uri": "https://localhost:8080/"
        },
        "id": "guqBqd3ktiyD",
        "outputId": "3938f96b-2130-431f-c59e-d7eca41b2c72"
      },
      "execution_count": null,
      "outputs": [
        {
          "output_type": "execute_result",
          "data": {
            "text/plain": [
              "{1: 3}"
            ]
          },
          "metadata": {},
          "execution_count": 117
        }
      ]
    },
    {
      "cell_type": "code",
      "source": [
        "hash('1')"
      ],
      "metadata": {
        "colab": {
          "base_uri": "https://localhost:8080/"
        },
        "id": "_PmpZ844una4",
        "outputId": "c40b1ed9-9bf5-4a3d-c41d-67fe512e5c98"
      },
      "execution_count": null,
      "outputs": [
        {
          "output_type": "execute_result",
          "data": {
            "text/plain": [
              "-999786418677541696"
            ]
          },
          "metadata": {},
          "execution_count": 124
        }
      ]
    },
    {
      "cell_type": "code",
      "source": [
        "hash('Hello')"
      ],
      "metadata": {
        "colab": {
          "base_uri": "https://localhost:8080/"
        },
        "id": "zq3OefH_u3kn",
        "outputId": "b75127ab-eca9-42ee-c0a4-7305f321a3ac"
      },
      "execution_count": null,
      "outputs": [
        {
          "output_type": "execute_result",
          "data": {
            "text/plain": [
              "-8878514749577515883"
            ]
          },
          "metadata": {},
          "execution_count": 122
        }
      ]
    },
    {
      "cell_type": "code",
      "source": [
        "hash(True)"
      ],
      "metadata": {
        "colab": {
          "base_uri": "https://localhost:8080/"
        },
        "id": "qdIPnV1JusNg",
        "outputId": "d98dece0-fc8c-4e0b-f5e2-1dfdef328ae2"
      },
      "execution_count": null,
      "outputs": [
        {
          "output_type": "execute_result",
          "data": {
            "text/plain": [
              "1"
            ]
          },
          "metadata": {},
          "execution_count": 119
        }
      ]
    },
    {
      "cell_type": "code",
      "source": [
        "hash(1.0)"
      ],
      "metadata": {
        "colab": {
          "base_uri": "https://localhost:8080/"
        },
        "id": "Yxy89131uuGy",
        "outputId": "07db76eb-7654-4985-eafa-ecba0a52e502"
      },
      "execution_count": null,
      "outputs": [
        {
          "output_type": "execute_result",
          "data": {
            "text/plain": [
              "1"
            ]
          },
          "metadata": {},
          "execution_count": 120
        }
      ]
    },
    {
      "cell_type": "code",
      "execution_count": null,
      "outputs": [
        {
          "output_type": "stream",
          "name": "stdout",
          "text": [
            "a\n",
            "b\n",
            "c\n"
          ]
        }
      ],
      "source": [
        "for key in a.keys(): print(key)"
      ],
      "metadata": {
        "id": "jGsBMPu3O4k-",
        "outputId": "9628c072-cc45-4306-8094-470d1ed8bebb",
        "colab": {
          "base_uri": "https://localhost:8080/"
        }
      }
    },
    {
      "cell_type": "code",
      "execution_count": null,
      "outputs": [
        {
          "data": {
            "text/plain": "dict_values([1, 2, 3])"
          },
          "execution_count": 84,
          "metadata": {},
          "output_type": "execute_result"
        }
      ],
      "source": [
        "a.values()"
      ],
      "metadata": {
        "id": "iy02Z6KQO4k-",
        "outputId": "bc61c18f-c1d3-41fe-d2ae-6d374b0724c4"
      }
    },
    {
      "cell_type": "code",
      "execution_count": null,
      "outputs": [
        {
          "data": {
            "text/plain": "2"
          },
          "execution_count": 85,
          "metadata": {},
          "output_type": "execute_result"
        }
      ],
      "source": [
        "a[\"b\"]"
      ],
      "metadata": {
        "id": "hJS21JWoO4k-",
        "outputId": "8f523180-1c55-496d-d2b3-2cc5f5cdf78d"
      }
    },
    {
      "cell_type": "code",
      "execution_count": null,
      "outputs": [
        {
          "data": {
            "text/plain": "{'a': 1, 'b': 3, 'c': 3}"
          },
          "execution_count": 86,
          "metadata": {},
          "output_type": "execute_result"
        }
      ],
      "source": [
        "a[\"b\"] = 3\n",
        "a"
      ],
      "metadata": {
        "id": "qA_WmaEFO4k-",
        "outputId": "526c77b7-9f5d-4cd1-ca12-3c163d9b0d54"
      }
    },
    {
      "cell_type": "code",
      "execution_count": null,
      "outputs": [],
      "source": [],
      "metadata": {
        "id": "bxCrKmfGO4k-"
      }
    },
    {
      "cell_type": "code",
      "source": [
        "flag = False\n",
        "if flag:\n",
        "  print(\"Hello\")"
      ],
      "metadata": {
        "id": "DmmJrdbmfqyf"
      },
      "execution_count": null,
      "outputs": []
    },
    {
      "cell_type": "code",
      "source": [],
      "metadata": {
        "colab": {
          "base_uri": "https://localhost:8080/"
        },
        "id": "ai6SF2LFfzth",
        "outputId": "f53dae91-68f6-4d7a-dab1-c0842a9217b1"
      },
      "execution_count": null,
      "outputs": [
        {
          "output_type": "stream",
          "name": "stdout",
          "text": [
            "a < 10\n"
          ]
        }
      ]
    },
    {
      "cell_type": "code",
      "source": [],
      "metadata": {
        "id": "PM5HOTuNgEYP"
      },
      "execution_count": null,
      "outputs": []
    },
    {
      "cell_type": "markdown",
      "source": [
        "### Исключения"
      ],
      "metadata": {
        "collapsed": false,
        "id": "jzNOAr9qO4k9"
      }
    },
    {
      "cell_type": "code",
      "source": [
        "print(1/0)\n",
        "print(1)"
      ],
      "metadata": {
        "colab": {
          "base_uri": "https://localhost:8080/",
          "height": 162
        },
        "id": "p4f6_uwe-ghW",
        "outputId": "f45bedc6-17f6-4dab-e97f-9b7b5bcc81c7"
      },
      "execution_count": null,
      "outputs": [
        {
          "output_type": "error",
          "ename": "ZeroDivisionError",
          "evalue": "division by zero",
          "traceback": [
            "\u001b[0;31m---------------------------------------------------------------------------\u001b[0m",
            "\u001b[0;31mZeroDivisionError\u001b[0m                         Traceback (most recent call last)",
            "\u001b[0;32m<ipython-input-59-b5887571eb2d>\u001b[0m in \u001b[0;36m<cell line: 1>\u001b[0;34m()\u001b[0m\n\u001b[0;32m----> 1\u001b[0;31m \u001b[0mprint\u001b[0m\u001b[0;34m(\u001b[0m\u001b[0;36m1\u001b[0m\u001b[0;34m/\u001b[0m\u001b[0;36m0\u001b[0m\u001b[0;34m)\u001b[0m\u001b[0;34m\u001b[0m\u001b[0;34m\u001b[0m\u001b[0m\n\u001b[0m\u001b[1;32m      2\u001b[0m \u001b[0mprint\u001b[0m\u001b[0;34m(\u001b[0m\u001b[0;36m1\u001b[0m\u001b[0;34m)\u001b[0m\u001b[0;34m\u001b[0m\u001b[0;34m\u001b[0m\u001b[0m\n",
            "\u001b[0;31mZeroDivisionError\u001b[0m: division by zero"
          ]
        }
      ]
    },
    {
      "cell_type": "code",
      "source": [
        "x"
      ],
      "metadata": {
        "colab": {
          "base_uri": "https://localhost:8080/",
          "height": 144
        },
        "id": "26MOED_eEnxG",
        "outputId": "b32cbfbb-87e5-4baa-f21a-b20196d9a452"
      },
      "execution_count": null,
      "outputs": [
        {
          "output_type": "error",
          "ename": "NameError",
          "evalue": "name 'x' is not defined",
          "traceback": [
            "\u001b[0;31m---------------------------------------------------------------------------\u001b[0m",
            "\u001b[0;31mNameError\u001b[0m                                 Traceback (most recent call last)",
            "\u001b[0;32m<ipython-input-65-6fcf9dfbd479>\u001b[0m in \u001b[0;36m<cell line: 1>\u001b[0;34m()\u001b[0m\n\u001b[0;32m----> 1\u001b[0;31m \u001b[0mx\u001b[0m\u001b[0;34m\u001b[0m\u001b[0;34m\u001b[0m\u001b[0m\n\u001b[0m",
            "\u001b[0;31mNameError\u001b[0m: name 'x' is not defined"
          ]
        }
      ]
    },
    {
      "cell_type": "code",
      "source": [
        "try:\n",
        "  print(1/0)\n",
        "  print(1)\n",
        "except NameError:\n",
        "  print(\"exception\")\n",
        "print(12)"
      ],
      "metadata": {
        "colab": {
          "base_uri": "https://localhost:8080/",
          "height": 216
        },
        "id": "Rd-EYz4R4dAi",
        "outputId": "c46c4449-1562-496c-d21f-a57088a54174"
      },
      "execution_count": null,
      "outputs": [
        {
          "output_type": "error",
          "ename": "ZeroDivisionError",
          "evalue": "division by zero",
          "traceback": [
            "\u001b[0;31m---------------------------------------------------------------------------\u001b[0m",
            "\u001b[0;31mZeroDivisionError\u001b[0m                         Traceback (most recent call last)",
            "\u001b[0;32m<ipython-input-67-f18f031c2233>\u001b[0m in \u001b[0;36m<cell line: 1>\u001b[0;34m()\u001b[0m\n\u001b[1;32m      1\u001b[0m \u001b[0;32mtry\u001b[0m\u001b[0;34m:\u001b[0m\u001b[0;34m\u001b[0m\u001b[0;34m\u001b[0m\u001b[0m\n\u001b[0;32m----> 2\u001b[0;31m   \u001b[0mprint\u001b[0m\u001b[0;34m(\u001b[0m\u001b[0;36m1\u001b[0m\u001b[0;34m/\u001b[0m\u001b[0;36m0\u001b[0m\u001b[0;34m)\u001b[0m\u001b[0;34m\u001b[0m\u001b[0;34m\u001b[0m\u001b[0m\n\u001b[0m\u001b[1;32m      3\u001b[0m   \u001b[0mprint\u001b[0m\u001b[0;34m(\u001b[0m\u001b[0;36m1\u001b[0m\u001b[0;34m)\u001b[0m\u001b[0;34m\u001b[0m\u001b[0;34m\u001b[0m\u001b[0m\n\u001b[1;32m      4\u001b[0m \u001b[0;32mexcept\u001b[0m \u001b[0mNameError\u001b[0m\u001b[0;34m:\u001b[0m\u001b[0;34m\u001b[0m\u001b[0;34m\u001b[0m\u001b[0m\n\u001b[1;32m      5\u001b[0m   \u001b[0mprint\u001b[0m\u001b[0;34m(\u001b[0m\u001b[0;34m\"exception\"\u001b[0m\u001b[0;34m)\u001b[0m\u001b[0;34m\u001b[0m\u001b[0;34m\u001b[0m\u001b[0m\n",
            "\u001b[0;31mZeroDivisionError\u001b[0m: division by zero"
          ]
        }
      ]
    },
    {
      "cell_type": "code",
      "source": [
        "try:\n",
        "  print(6 / 0)\n",
        "except NameError:\n",
        "  print(\"Variable x is not defined\")\n",
        "except:\n",
        "  print(\"Something else went wrong\")\n",
        "print(1)"
      ],
      "metadata": {
        "colab": {
          "base_uri": "https://localhost:8080/"
        },
        "id": "N8qWPMv746s-",
        "outputId": "54a0b36f-f79f-435e-d470-e13ff34c9c4c"
      },
      "execution_count": null,
      "outputs": [
        {
          "output_type": "stream",
          "name": "stdout",
          "text": [
            "Something else went wrong\n",
            "1\n"
          ]
        }
      ]
    },
    {
      "cell_type": "code",
      "source": [
        "try:\n",
        "  print(\"Hello\")\n",
        "except:\n",
        "  print(\"Something went wrong\")\n",
        "else:\n",
        "  print(\"Nothing went wrong\")\n"
      ],
      "metadata": {
        "colab": {
          "base_uri": "https://localhost:8080/"
        },
        "id": "U8HxWVfj461R",
        "outputId": "a1026a05-0450-433e-a254-0ee0ac7a6ccd"
      },
      "execution_count": null,
      "outputs": [
        {
          "output_type": "stream",
          "name": "stdout",
          "text": [
            "Hello\n",
            "Nothing went wrong\n"
          ]
        }
      ]
    },
    {
      "cell_type": "code",
      "source": [
        "try:\n",
        "  print(\"Hello\")\n",
        "except:\n",
        "  print(\"Something went wrong\")\n",
        "else:\n",
        "  print(\"Nothing went wrong\")\n",
        "finally:\n",
        "  print(\"The 'try except' is finished\")"
      ],
      "metadata": {
        "colab": {
          "base_uri": "https://localhost:8080/"
        },
        "id": "GdE6N-pY-sdR",
        "outputId": "ffbf0db3-fb79-481e-a2da-e5222becdd28"
      },
      "execution_count": null,
      "outputs": [
        {
          "output_type": "stream",
          "name": "stdout",
          "text": [
            "Hello\n",
            "Nothing went wrong\n",
            "The 'try except' is finished\n"
          ]
        }
      ]
    },
    {
      "cell_type": "code",
      "source": [
        "try:\n",
        "  print(x)\n",
        "except:\n",
        "  print(\"Something went wrong\")\n",
        "finally:\n",
        "  print(\"The 'try except' is finished\")"
      ],
      "metadata": {
        "colab": {
          "base_uri": "https://localhost:8080/"
        },
        "id": "JcY99dKO84s0",
        "outputId": "9d75d8f9-70b0-45a4-b243-20d3d1fa6a57"
      },
      "execution_count": null,
      "outputs": [
        {
          "output_type": "stream",
          "name": "stdout",
          "text": [
            "Something went wrong\n",
            "The 'try except' is finished\n"
          ]
        }
      ]
    },
    {
      "cell_type": "code",
      "source": [
        "6 / 0"
      ],
      "metadata": {
        "colab": {
          "base_uri": "https://localhost:8080/",
          "height": 179
        },
        "id": "mI7lsiEknrev",
        "outputId": "ac1c0edd-a6d6-453b-d1e9-9fc97934dcbd"
      },
      "execution_count": null,
      "outputs": [
        {
          "output_type": "error",
          "ename": "ZeroDivisionError",
          "evalue": "division by zero",
          "traceback": [
            "\u001b[0;31m---------------------------------------------------------------------------\u001b[0m",
            "\u001b[0;31mZeroDivisionError\u001b[0m                         Traceback (most recent call last)",
            "\u001b[0;32m<ipython-input-55-35ab704efce5>\u001b[0m in \u001b[0;36m<cell line: 1>\u001b[0;34m()\u001b[0m\n\u001b[0;32m----> 1\u001b[0;31m \u001b[0;36m6\u001b[0m \u001b[0;34m/\u001b[0m \u001b[0;36m0\u001b[0m\u001b[0;34m\u001b[0m\u001b[0;34m\u001b[0m\u001b[0m\n\u001b[0m",
            "\u001b[0;31mZeroDivisionError\u001b[0m: division by zero"
          ]
        }
      ]
    },
    {
      "cell_type": "code",
      "source": [
        "try:\n",
        "  print(6 / 0)\n",
        "except NameError:\n",
        "  print('except')\n",
        "else:\n",
        "  print('else')"
      ],
      "metadata": {
        "id": "vD_a1RJonJ8X"
      },
      "execution_count": null,
      "outputs": []
    },
    {
      "cell_type": "code",
      "source": [],
      "metadata": {
        "id": "9wXVYf5KpGdO"
      },
      "execution_count": null,
      "outputs": []
    },
    {
      "cell_type": "code",
      "execution_count": null,
      "outputs": [],
      "source": [
        "[4, 7, 78, 459, 3, 5]"
      ],
      "metadata": {
        "id": "IUXmG2NgO4k-"
      }
    },
    {
      "cell_type": "code",
      "source": [
        "task1 = [1, 2, 3, 4, 5] # ['*', 2, '*', 4, '*']"
      ],
      "metadata": {
        "id": "FZsMx_1pF-xE"
      },
      "execution_count": null,
      "outputs": []
    },
    {
      "cell_type": "code",
      "source": [],
      "metadata": {
        "id": "4x7FXK0XF_OZ"
      },
      "execution_count": null,
      "outputs": []
    },
    {
      "cell_type": "code",
      "source": [
        "a = [1, 2, 3, 4, 5] # [2, 6, 12, 20, 5]"
      ],
      "metadata": {
        "id": "ABvUtS_xF_Mr"
      },
      "execution_count": null,
      "outputs": []
    },
    {
      "cell_type": "code",
      "source": [
        "for v in enumerate(task1):\n",
        "  print(v)"
      ],
      "metadata": {
        "colab": {
          "base_uri": "https://localhost:8080/"
        },
        "id": "bn60CmLIP4b7",
        "outputId": "0f86dbad-5b01-42a1-b186-2042e9b847f8"
      },
      "execution_count": null,
      "outputs": [
        {
          "output_type": "stream",
          "name": "stdout",
          "text": [
            "(0, 1)\n",
            "(1, '*')\n",
            "(2, 3)\n",
            "(3, '*')\n",
            "(4, 5)\n"
          ]
        }
      ]
    },
    {
      "cell_type": "code",
      "source": [
        "for idx, v in enumerate(task1):\n",
        "  if v % 2 == 0:\n",
        "    task1[idx] = '*'\n",
        "task1"
      ],
      "metadata": {
        "colab": {
          "base_uri": "https://localhost:8080/"
        },
        "id": "jTAfQAR4KUFs",
        "outputId": "a077c573-8286-4c83-b7e5-4e6423a1981b"
      },
      "execution_count": null,
      "outputs": [
        {
          "output_type": "execute_result",
          "data": {
            "text/plain": [
              "[1, '*', 3, '*', 5]"
            ]
          },
          "metadata": {},
          "execution_count": 106
        }
      ]
    },
    {
      "cell_type": "code",
      "source": [],
      "metadata": {
        "id": "fiPKfOuTKUBi"
      },
      "execution_count": null,
      "outputs": []
    },
    {
      "cell_type": "code",
      "source": [
        "for i in range(len(a)):\n",
        "   a[i] *= a[i]\n",
        "a"
      ],
      "metadata": {
        "colab": {
          "base_uri": "https://localhost:8080/"
        },
        "id": "sBU23XU7IsiW",
        "outputId": "d3adc6c9-329c-4b90-ddf8-1369733d3e26"
      },
      "execution_count": null,
      "outputs": [
        {
          "output_type": "execute_result",
          "data": {
            "text/plain": [
              "[1, 4, 9, 16, 25]"
            ]
          },
          "metadata": {},
          "execution_count": 86
        }
      ]
    },
    {
      "cell_type": "code",
      "source": [
        "for i in range(6,11):\n",
        "  print(f\"i={i}\")\n",
        "  a.append(i)\n",
        "  print(a)"
      ],
      "metadata": {
        "colab": {
          "base_uri": "https://localhost:8080/"
        },
        "id": "3ZvhRkjGF_GZ",
        "outputId": "f88a07f9-8bea-4f1a-8442-e1da9f765ef4"
      },
      "execution_count": null,
      "outputs": [
        {
          "output_type": "stream",
          "name": "stdout",
          "text": [
            "i=6\n",
            "[1, 2, 3, 4, 5, 6]\n",
            "i=7\n",
            "[1, 2, 3, 4, 5, 6, 7]\n",
            "i=8\n",
            "[1, 2, 3, 4, 5, 6, 7, 8]\n",
            "i=9\n",
            "[1, 2, 3, 4, 5, 6, 7, 8, 9]\n",
            "i=10\n",
            "[1, 2, 3, 4, 5, 6, 7, 8, 9, 10]\n"
          ]
        }
      ]
    },
    {
      "cell_type": "code",
      "source": [
        "for i in range(0, 10):\n",
        "  print(i)"
      ],
      "metadata": {
        "colab": {
          "base_uri": "https://localhost:8080/"
        },
        "id": "ezkkActNGx4p",
        "outputId": "f27bc568-1d9f-4da9-fa15-efaab0b51f16"
      },
      "execution_count": null,
      "outputs": [
        {
          "output_type": "stream",
          "name": "stdout",
          "text": [
            "0\n",
            "1\n",
            "2\n",
            "3\n",
            "4\n",
            "5\n",
            "6\n",
            "7\n",
            "8\n",
            "9\n"
          ]
        }
      ]
    },
    {
      "cell_type": "code",
      "source": [
        "t = (1, 2, 3, 4, 5)\n",
        "for tup in t:\n",
        "  print(tup)"
      ],
      "metadata": {
        "colab": {
          "base_uri": "https://localhost:8080/"
        },
        "id": "Ayw2tg1HHmnp",
        "outputId": "c0f881f5-8179-4748-ce5a-050a263fb359"
      },
      "execution_count": null,
      "outputs": [
        {
          "output_type": "stream",
          "name": "stdout",
          "text": [
            "1\n",
            "2\n",
            "3\n",
            "4\n",
            "5\n"
          ]
        }
      ]
    },
    {
      "cell_type": "code",
      "source": [],
      "metadata": {
        "id": "2lAc_N56HqS5"
      },
      "execution_count": null,
      "outputs": []
    },
    {
      "cell_type": "code",
      "source": [
        "for i in range(0, 10, 2):\n",
        "  print(i)"
      ],
      "metadata": {
        "colab": {
          "base_uri": "https://localhost:8080/"
        },
        "id": "_EGkJMqVF_DS",
        "outputId": "6e2b0d4b-ae61-4f00-a9f3-fc63f90c2dc7"
      },
      "execution_count": null,
      "outputs": [
        {
          "output_type": "stream",
          "name": "stdout",
          "text": [
            "0\n",
            "2\n",
            "4\n",
            "6\n",
            "8\n"
          ]
        }
      ]
    },
    {
      "cell_type": "code",
      "source": [
        "for i in a:\n",
        "  i = 10\n",
        "a"
      ],
      "metadata": {
        "colab": {
          "base_uri": "https://localhost:8080/"
        },
        "id": "6VoVnANHHDtg",
        "outputId": "01879d56-3ac1-4b98-87d3-45366fa846c0"
      },
      "execution_count": null,
      "outputs": [
        {
          "output_type": "execute_result",
          "data": {
            "text/plain": [
              "[0, 2, 6, 12, 20, 30, 42, 56, 72, 90]"
            ]
          },
          "metadata": {},
          "execution_count": 74
        }
      ]
    },
    {
      "cell_type": "code",
      "source": [
        "lst = [[1, 2], [3, 4], [5, 6]]"
      ],
      "metadata": {
        "id": "wye0oFe5Td8x"
      },
      "execution_count": null,
      "outputs": []
    },
    {
      "cell_type": "code",
      "source": [
        "error_lst = [1, 2, 3, 4, 5]"
      ],
      "metadata": {
        "id": "gBPzNXsOUg0C"
      },
      "execution_count": null,
      "outputs": []
    },
    {
      "cell_type": "code",
      "source": [
        "for i in range(3):\n",
        "  print(i)"
      ],
      "metadata": {
        "colab": {
          "base_uri": "https://localhost:8080/"
        },
        "id": "yU_MI05wXVv-",
        "outputId": "ab28b43d-fc3d-43c1-932f-58de188f81ac"
      },
      "execution_count": null,
      "outputs": [
        {
          "output_type": "stream",
          "name": "stdout",
          "text": [
            "0\n",
            "1\n",
            "2\n"
          ]
        }
      ]
    },
    {
      "cell_type": "code",
      "source": [
        "for i in range(len(lst)):\n",
        "  # if i % 2 == 0:\n",
        "  lst[i][0] = 1000\n",
        "lst"
      ],
      "metadata": {
        "colab": {
          "base_uri": "https://localhost:8080/"
        },
        "id": "YYhr7p0QSemd",
        "outputId": "99b49427-541e-473a-8ab3-f2654fe5bcbe"
      },
      "execution_count": null,
      "outputs": [
        {
          "output_type": "execute_result",
          "data": {
            "text/plain": [
              "[[1000, 2], [1000, 4], [1000, 6]]"
            ]
          },
          "metadata": {},
          "execution_count": 23
        }
      ]
    },
    {
      "cell_type": "code",
      "source": [],
      "metadata": {
        "colab": {
          "base_uri": "https://localhost:8080/",
          "height": 108
        },
        "id": "TWst00j_X0pb",
        "outputId": "745a520b-29bd-47ba-82db-9905df1b0a23"
      },
      "execution_count": null,
      "outputs": [
        {
          "output_type": "error",
          "ename": "SyntaxError",
          "evalue": "invalid syntax (<ipython-input-2-94177b544279>, line 1)",
          "traceback": [
            "\u001b[0;36m  File \u001b[0;32m\"<ipython-input-2-94177b544279>\"\u001b[0;36m, line \u001b[0;32m1\u001b[0m\n\u001b[0;31m    for _ in range(;;):\u001b[0m\n\u001b[0m                   ^\u001b[0m\n\u001b[0;31mSyntaxError\u001b[0m\u001b[0;31m:\u001b[0m invalid syntax\n"
          ]
        }
      ]
    },
    {
      "cell_type": "code",
      "source": [
        "n = 6\n",
        "while n < 0:\n",
        "  print(n)\n",
        "  n += 1"
      ],
      "metadata": {
        "id": "Z0mDrZn7TAqi"
      },
      "execution_count": null,
      "outputs": []
    }
  ],
  "metadata": {
    "kernelspec": {
      "display_name": "Python 3",
      "language": "python",
      "name": "python3"
    },
    "language_info": {
      "codemirror_mode": {
        "name": "ipython",
        "version": 2
      },
      "file_extension": ".py",
      "mimetype": "text/x-python",
      "name": "python",
      "nbconvert_exporter": "python",
      "pygments_lexer": "ipython2",
      "version": "2.7.6"
    },
    "colab": {
      "provenance": [],
      "include_colab_link": true
    }
  },
  "nbformat": 4,
  "nbformat_minor": 0
}