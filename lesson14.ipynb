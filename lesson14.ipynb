{
  "nbformat": 4,
  "nbformat_minor": 0,
  "metadata": {
    "colab": {
      "provenance": [],
      "authorship_tag": "ABX9TyOp3QJpVibbi6o+r1GiPDem",
      "include_colab_link": true
    },
    "kernelspec": {
      "name": "python3",
      "display_name": "Python 3"
    },
    "language_info": {
      "name": "python"
    }
  },
  "cells": [
    {
      "cell_type": "markdown",
      "metadata": {
        "id": "view-in-github",
        "colab_type": "text"
      },
      "source": [
        "<a href=\"https://colab.research.google.com/github/D1emonk/My-repo/blob/main/lesson14.ipynb\" target=\"_parent\"><img src=\"https://colab.research.google.com/assets/colab-badge.svg\" alt=\"Open In Colab\"/></a>"
      ]
    },
    {
      "cell_type": "markdown",
      "source": [
        " <h3> 1. Из 1000 собранных на заводе телевизоров 5 штук бракованных. Эксперт проверяет один наугад выбранный телевизор из этой 1000. Найдите вероятность того, что проверяемый телевизор\n",
        "окажется бракованным."
      ],
      "metadata": {
        "id": "Ertr_rNwArB2"
      }
    },
    {
      "cell_type": "markdown",
      "source": [
        "Вероятность того, что наугад выбранный телевизор окажется бракованным, определяется как отношение количества бракованных телевизоров к общему количеству телевизоров:5/1000 = 0,5 %"
      ],
      "metadata": {
        "id": "5DPsQ--pAxAV"
      }
    },
    {
      "cell_type": "markdown",
      "source": [
        "<h3> 2. В урне 9 красных, 6 жёлтых и 5 зелёных шаров. Из урны наугад достают один шар. Какова вероятность того, что этот шар\n",
        "окажется жёлтым?"
      ],
      "metadata": {
        "id": "1e9r-f8DA-pc"
      }
    },
    {
      "cell_type": "markdown",
      "source": [
        "Вероятность того, что наугад вытянут желтый шар, определяется как отношение количества желтых шаров к общему количеству шаров: 6/(9+6+5) = 0,3"
      ],
      "metadata": {
        "id": "YBJGgDtPBD8s"
      }
    },
    {
      "cell_type": "markdown",
      "source": [
        "<h3> 3. В чемпионате мира участвуют 16 команд. С помощью жребия их нужно разделить на четыре группы по четыре команды в каждой. В ящике вперемешку лежат карточки с номерами групп: 1, 1, 1, 1, 2, 2, 2, 2, 3, 3, 3, 3, 4, 4, 4, 4. Капитаны команд тянут по одной карточке. Какова вероятность того, что команда Португалии окажется во второй группе?"
      ],
      "metadata": {
        "id": "0GjJ848zBpBn"
      }
    },
    {
      "cell_type": "markdown",
      "source": [
        "Общее количество карточек: 4*4 = 16. Количество карточек 2 группы: 4 Соотношение: 4/16 = 0,25"
      ],
      "metadata": {
        "id": "Di9YMMozB_xm"
      }
    },
    {
      "cell_type": "markdown",
      "source": [
        "<h3> 4. В группе туристов 8 человек. С помощью жребия они\n",
        "выбирают шестерых человек, которые должны идти в село в\n",
        "магазин за продуктами. Какова вероятность того, что турист Д., входящий в состав группы, пойдёт  в магазин?"
      ],
      "metadata": {
        "id": "vbxF9quNCSvi"
      }
    },
    {
      "cell_type": "markdown",
      "source": [
        "Общее количество туристов: 8. Количество туристов, которые пойдут в магазин 6. Соотношение: 6/8 = 0,75"
      ],
      "metadata": {
        "id": "c7IIY65ICYL6"
      }
    },
    {
      "cell_type": "markdown",
      "source": [
        "<h3> 5. В чемпионате по футболу участвуют 16 команд, которые жеребьевкой распределяются на 4 группы: A, B, C и D. Какова\n",
        "вероятность того, что команда Англии не попадает в группу A?"
      ],
      "metadata": {
        "id": "3sM36OguCzFF"
      }
    },
    {
      "cell_type": "markdown",
      "source": [
        "Общее количество групп: 4. Количество групп, в которые может попасть команда Англии, кроме группы A: 3. Соотношение: 3/4 = 0,75"
      ],
      "metadata": {
        "id": "Ajl6UuzJC23j"
      }
    },
    {
      "cell_type": "markdown",
      "source": [
        "<h3> 6. В классе 21 учащийся, среди них две подруги - Аня и Нина. Класс случайным образом делят на семь групп, по 3 человека в каждой. Найдите вероятность того, что Аня и Нина окажутся в одной группе."
      ],
      "metadata": {
        "id": "-8QTZTnADW6C"
      }
    },
    {
      "cell_type": "markdown",
      "source": [
        "![image.png](data:image/png;base64,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)"
      ],
      "metadata": {
        "id": "kl_LB4k6DbRR"
      }
    },
    {
      "cell_type": "markdown",
      "source": [
        "<h3> 7. Механические часы с двенадцатичасовым циферблатом в какой-то момент сломались и перестали идти. Найдите вероятность того, что часовая стрелка остановилась, достигнув отметки 7, но не дойдя до отметки 1."
      ],
      "metadata": {
        "id": "AigF-TKrIoPK"
      }
    },
    {
      "cell_type": "markdown",
      "source": [
        "Интервал от 7 до 1 по часовой стрелке составляет 6 часов. Весь циферблат составляет 12 часов. Соотношение: 6/12= 0,5"
      ],
      "metadata": {
        "id": "JqjbuU9dI7Q9"
      }
    },
    {
      "cell_type": "markdown",
      "source": [
        "<h3> 8. Механические часы с двенадцатичасовым циферблатом в какой-то момент сломались и перестали ходить. Найдите вероятность того, что часовая стрелка застыла, достигнув отметки 6, но не дойдя до отметки 9 часов."
      ],
      "metadata": {
        "id": "KkKYzNZbLFKD"
      }
    },
    {
      "cell_type": "markdown",
      "source": [
        "Интервал от 6 до 9 по часовой стрелке составляет 3 часf. Весь циферблат составляет 12 часов. Соотношение: 3/12= 0,25"
      ],
      "metadata": {
        "id": "4X19Z8lmLXhu"
      }
    },
    {
      "cell_type": "markdown",
      "source": [
        "<h3> 9. В случайном эксперименте симметричную монету бросают 2 раза. Найдите вероятность того, что орел выпадет ровно 1 раз."
      ],
      "metadata": {
        "id": "_aoY8lrpLm7v"
      }
    },
    {
      "cell_type": "markdown",
      "source": [
        "Комбинации: ОО, ОР, РО, РР, и того 4 исхода. Вероятность: 2/4 = 0,5"
      ],
      "metadata": {
        "id": "gnXAiyvbMP1n"
      }
    },
    {
      "cell_type": "markdown",
      "source": [
        "<h3> 10. В случайном эксперименте симметричную монету бросают дважды. Найдите вероятность того, что орёл не выпадет ни разу."
      ],
      "metadata": {
        "id": "uZnMjzCFMdn3"
      }
    },
    {
      "cell_type": "markdown",
      "source": [
        "Комбинации: ОО, ОР, РО, РР, и того 4 исхода. Вероятность: 1/4 = 0,25"
      ],
      "metadata": {
        "id": "utfFWGkZM83q"
      }
    },
    {
      "cell_type": "markdown",
      "source": [
        "<h3> 11.  Вероятность того, что новая шариковая ручка пишет плохо (или не пишет), равна 0,19. Покупатель в магазине выбирает одну такую ручку. Найдите вероятность того, что эта ручка пишет хорошо."
      ],
      "metadata": {
        "id": "JVZqVwgENoRz"
      }
    },
    {
      "cell_type": "markdown",
      "source": [
        "1 - 0,19 = 0,81"
      ],
      "metadata": {
        "id": "AyofvSx1NsRm"
      }
    },
    {
      "cell_type": "markdown",
      "source": [
        "<h3> 12. При изготовлении подшипников диаметром 67 мм вероятность того, что диаметр будет отличаться от заданного не больше, чем на 0,01 мм, равна 0,965. Найдите вероятность того, что случайный подшипник будет иметь диаметр меньше чем 66,99 мм или больше чем 67,01 мм."
      ],
      "metadata": {
        "id": "4QTFy7fGPH5t"
      }
    },
    {
      "cell_type": "markdown",
      "source": [
        "1 - 0,965 = 0,035"
      ],
      "metadata": {
        "id": "LJeNSzE6PS3x"
      }
    },
    {
      "cell_type": "markdown",
      "source": [
        "<h3> 13. На экзамене по геометрии школьнику достаётся одна задача из сборника. Вероятность того, что эта задача по теме «Углы», равна 0,1. Вероятность того, что это окажется задача по теме\n",
        "«Параллелограмм», равна 0,6. В сборнике нет задач, которые\n",
        "одновременно относятся к этим двум темам. Найдите вероятность того, что на экзамене школьнику достанется задача по одной из этих двух тем."
      ],
      "metadata": {
        "id": "S5AxhhqDPkDH"
      }
    },
    {
      "cell_type": "markdown",
      "source": [
        "0,6 + 0,1 = 0,7"
      ],
      "metadata": {
        "id": "YydUY8hVPoCL"
      }
    }
  ]
}